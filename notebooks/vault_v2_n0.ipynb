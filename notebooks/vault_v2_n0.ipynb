{
 "cells": [
  {
   "cell_type": "markdown",
   "id": "e3c5c7d5-63e0-47a5-ac4a-bb58beb98995",
   "metadata": {},
   "source": [
    "# Data Vault Demo (Dev -- Full Access)\n",
    "\n",
    "The basic concept of the Data Vault is that when a user authenticates themself, they receive an engine that gives them access to all the data (rows, columns, tables, schema, etc.) for which they are authorized.  Users who can authenticate themselves for multiple roles can use those roles simultaneously.  We are keeping in mind the importance of Data Lineage Management (tracked by issue https://github.com/os-climate/os_c_data_commons/issues/50) but is not treated as part of this particular prototype.\n",
    "\n",
    "The steps of this demo are:\n",
    "\n",
    "1. **Authenticate and acquire SQLAlchemy engine**\n",
    "    1. **Dev engine sees all**\n",
    "    2. Quant engine can do temp scoring but not see fundamental company info\n",
    "    3. User engine can use temp scoring but not see cumulative emissions nor overshoot info\n",
    "2. **With Dev engine, construct Vaults for:**\n",
    "    1. **Fundamental corporate financial information**\n",
    "    2. **Corporate emissions data (base year, historical)**\n",
    "    3. **Corporate target data (start year, end year, target start value, target end value)**\n",
    "    4. **Sector benchmark data (production, CO2e intensity)**\n",
    "3. **Dev Engine: Visualize projected emissions (targets and trajectories) and calculate cumulative emissions**\n",
    "4. Quant Engine: Using calculated cumulative emmisions, visualize per-company trajectory and target temperature scores\n",
    "5. User Engine: Using consensus probability scoring and own portfolio data (ISIN, position value)\n",
    "    1. Calculate publishable per-company temperature alignment score\n",
    "    2. Based on aggregate corporate and portfolio information, produce weighting scores to yield overall portfolio alignment score"
   ]
  },
  {
   "cell_type": "code",
   "execution_count": 1,
   "id": "969b6d53-49d8-47d9-b218-6bdd790a7de4",
   "metadata": {},
   "outputs": [
    {
     "name": "stderr",
     "output_type": "stream",
     "text": [
      "/opt/app-root/lib64/python3.8/site-packages/openscm_units/_unit_registry.py:471: FutureWarning: iteritems is deprecated and will be removed in a future version. Use .items instead.\n",
      "  for label, val in metric_conversion.iteritems():\n"
     ]
    },
    {
     "name": "stdout",
     "output_type": "stream",
     "text": [
      "using connect string: trino://MichaelTiemannOSC@trino-secure-odh-trino.apps.odh-cl2.apps.os-climate.org:443/osc_datacommons_dev/demo_dv\n"
     ]
    }
   ],
   "source": [
    "import os\n",
    "import pathlib\n",
    "from dotenv import load_dotenv\n",
    "import osc_ingest_trino as osc\n",
    "import trino\n",
    "from sqlalchemy.engine import create_engine\n",
    "\n",
    "import json\n",
    "import pandas as pd\n",
    "import numpy as np\n",
    "from numpy.testing import assert_array_equal\n",
    "import ITR\n",
    "\n",
    "# from ITR.portfolio_aggregation import PortfolioAggregationMethod\n",
    "# from ITR.temperature_score import TemperatureScore\n",
    "# from ITR.configs import ColumnsConfig, TemperatureScoreConfig\n",
    "# from ITR.data.data_warehouse import DataWarehouse\n",
    "from ITR.data.vault_providers import VaultCompanyDataProvider, VaultProviderProductionBenchmark, \\\n",
    "    VaultProviderIntensityBenchmark, DataVaultWarehouse, requantify_df\n",
    "\n",
    "# from ITR.interfaces import ICompanyData, EScope, ETimeFrames, PortfolioCompany, IEIBenchmarkScopes, \\\n",
    "#     IProductionBenchmarkScopes\n",
    "from ITR.interfaces import EScope, IProductionBenchmarkScopes, IEIBenchmarkScopes\n",
    "\n",
    "from ITR.data.osc_units import ureg, Q_, PA_\n",
    "\n",
    "from pint_pandas import PintArray"
   ]
  },
  {
   "cell_type": "code",
   "execution_count": 2,
   "id": "d1ab75f1-dc99-422d-b15b-ce043e32fff8",
   "metadata": {},
   "outputs": [],
   "source": [
    "# Load some standard environment variables from a dot-env file, if it exists.\n",
    "# If no such file can be found, does not fail, and so allows these environment vars to\n",
    "# be populated in some other way\n",
    "dotenv_dir = os.environ.get('CREDENTIAL_DOTENV_DIR', os.environ.get('PWD', '/opt/app-root/src'))\n",
    "dotenv_path = pathlib.Path(dotenv_dir) / 'credentials.env'\n",
    "if os.path.exists(dotenv_path):\n",
    "    load_dotenv(dotenv_path=dotenv_path,override=True)"
   ]
  },
  {
   "cell_type": "markdown",
   "id": "24cb4e5e-fb6f-42a1-938e-2a3b430d03eb",
   "metadata": {},
   "source": [
    "### Step 1: Initialize Vault user 'Dev', which has full visibility into corporate financial, production, and target data"
   ]
  },
  {
   "cell_type": "code",
   "execution_count": 3,
   "id": "07ef60e6-a328-4657-aad3-23d78abcbfea",
   "metadata": {},
   "outputs": [
    {
     "name": "stdout",
     "output_type": "stream",
     "text": [
      "connecting with engine Engine(trino://os-climate-user1@trino-secure-odh-trino.apps.odh-cl2.apps.os-climate.org:443/)\n",
      "show tables in demo_dv\n",
      "[('itr_benchmark_ei',), ('itr_benchmark_prod',), ('itr_company_data',), ('itr_cumulative_budget_1',), ('itr_cumulative_emissions',), ('itr_emissions_data',), ('itr_overshoot_ratios',), ('itr_production_data',), ('itr_target_data',), ('itr_temperature_scores',), ('itr_trajectory_data',), ('rmi_benchmark_ei',), ('rmi_benchmark_prod',), ('rmi_company_data',), ('rmi_cumulative_budget_1',), ('rmi_cumulative_emissions',), ('rmi_emissions_data',), ('rmi_overshoot_ratios',), ('rmi_production_data',), ('rmi_target_data',), ('rmi_temperature_scores',), ('rmi_trajectory_data',), ('template_benchmark_ei',), ('template_benchmark_prod',), ('template_company_data',), ('template_cumulative_budget_1',), ('template_cumulative_emissions',), ('template_emissions_data',), ('template_overshoot_ratios',), ('template_production_data',), ('template_target_data',), ('template_temperature_scores',), ('template_trajectory_data',)]\n"
     ]
    }
   ],
   "source": [
    "sqlstring = 'trino://{user}@{host}:{port}/'.format(\n",
    "    user = os.environ['TRINO_USER_USER1'], # user = os.environ['TRINO_USER'],\n",
    "    host = os.environ['TRINO_HOST'],\n",
    "    port = os.environ['TRINO_PORT']\n",
    ")\n",
    "\n",
    "ingest_catalog = 'osc_datacommons_dev'\n",
    "ingest_schema = 'demo_dv'\n",
    "itr_prefix = 'template_'\n",
    "\n",
    "sqlargs = {\n",
    "    'auth': trino.auth.JWTAuthentication(os.environ['TRINO_PASSWD_USER1']),\n",
    "    'http_scheme': 'https',\n",
    "    'catalog': ingest_catalog,\n",
    "    'schema': ingest_schema,\n",
    "}\n",
    "\n",
    "engine_dev = create_engine(sqlstring, connect_args = sqlargs)\n",
    "print(\"connecting with engine \" + str(engine_dev))\n",
    "qres = osc._do_sql(f\"show tables in {ingest_schema}\", engine_dev, verbose=True)\n",
    "\n",
    "# Check that we have the tables we need\n",
    "required_tables = ['company_data', 'target_data', 'trajectory_data', 'emissions_data']\n",
    "existing_tables = [ q[0] for q in qres ]\n",
    "missing_tables = [ rtable for rtable in required_tables if f\"{itr_prefix}{rtable}\" not in existing_tables ]\n",
    "if missing_tables:\n",
    "    print(f\"Missing tables (itr_prefix = {itr_prefix}): {missing_tables}\")\n",
    "    assert False"
   ]
  },
  {
   "cell_type": "markdown",
   "id": "837212ac-6d98-46a2-9a18-c5c026feb84c",
   "metadata": {},
   "source": [
    "### The ITR module provides Vault objects that coordinate the interaction of Dev, Quant, and User roles.\n",
    "\n",
    "The SQLAlchemy engines mediate the actual interaction with the Data Vault."
   ]
  },
  {
   "cell_type": "markdown",
   "id": "5e1c9ad5-2cee-4052-8001-cce2c41d9f6d",
   "metadata": {},
   "source": [
    "### Step 2: construct vaults for corporate financial, production, and target information.\n",
    "\n",
    "We also create benchmark data (which is presumed public information).  There's more work to be done to modularly add new benchmarks that automatically become available options to to the ITR tool.\n",
    "\n",
    "In this demo we read ITR benchmark data from JSON files (REST API-friendly).  Such data coming from the notebook filesystem is \"untethered\" data.  The corporate data comes from an existing data pipeline (in this case, the pipeline processing RMI data).  When data comes from the data commons, it is \"tethered\" to the Data Commons.  The Data Vault can only control access to data that goes through the Data Commons via 'engines'."
   ]
  },
  {
   "cell_type": "code",
   "execution_count": 4,
   "id": "f0f02443-0f8f-4ee1-aa23-f59a9250615f",
   "metadata": {},
   "outputs": [
    {
     "name": "stdout",
     "output_type": "stream",
     "text": [
      "year           Int64\n",
      "production    object\n",
      "region        string\n",
      "sector        string\n",
      "scope         string\n",
      "dtype: object\n",
      "Index(['year', 'production', 'region', 'sector', 'scope'], dtype='object')\n",
      "RangeIndex(start=0, stop=2112, step=1)\n"
     ]
    },
    {
     "name": "stderr",
     "output_type": "stream",
     "text": [
      "/opt/app-root/lib64/python3.8/site-packages/pandas/core/dtypes/missing.py:232: UnitStrippedWarning: The unit of the quantity is stripped when downcasting to ndarray.\n",
      "  return _isna_array(np.asarray(obj), inf_as_na=inf_as_na)\n"
     ]
    },
    {
     "name": "stdout",
     "output_type": "stream",
     "text": [
      "constructed fully qualified table name as: \"demo_dv.template_benchmark_prod\"\n",
      "inserting 2112 records\n",
      "  (2019, 0.0, 'dimensionless', 'Global', 'Steel', 'AnyScope')\n",
      "  (2020, 0.00306, 'dimensionless', 'Global', 'Steel', 'AnyScope')\n",
      "  (2021, 0.00306, 'dimensionless', 'Global', 'Steel', 'AnyScope')\n",
      "  ...\n",
      "  (2050, 0.019, 'dimensionless', 'North America', 'Textiles', 'AnyScope')\n",
      "batch insert result: [(2112,)]\n",
      "year               Int64\n",
      "intensity         object\n",
      "region            string\n",
      "sector            string\n",
      "scope             string\n",
      "global_budget     object\n",
      "benchmark_temp    object\n",
      "dtype: object\n",
      "Index(['year', 'intensity', 'region', 'sector', 'scope', 'global_budget',\n",
      "       'benchmark_temp'],\n",
      "      dtype='object')\n",
      "RangeIndex(start=0, stop=9984, step=1)\n"
     ]
    },
    {
     "name": "stderr",
     "output_type": "stream",
     "text": [
      "/opt/app-root/lib64/python3.8/site-packages/pandas/core/dtypes/missing.py:232: UnitStrippedWarning: The unit of the quantity is stripped when downcasting to ndarray.\n",
      "  return _isna_array(np.asarray(obj), inf_as_na=inf_as_na)\n",
      "/opt/app-root/lib64/python3.8/site-packages/pandas/core/dtypes/missing.py:232: UnitStrippedWarning: The unit of the quantity is stripped when downcasting to ndarray.\n",
      "  return _isna_array(np.asarray(obj), inf_as_na=inf_as_na)\n",
      "/opt/app-root/lib64/python3.8/site-packages/pandas/core/dtypes/missing.py:232: UnitStrippedWarning: The unit of the quantity is stripped when downcasting to ndarray.\n",
      "  return _isna_array(np.asarray(obj), inf_as_na=inf_as_na)\n"
     ]
    },
    {
     "name": "stdout",
     "output_type": "stream",
     "text": [
      "constructed fully qualified table name as: \"demo_dv.template_benchmark_ei\"\n",
      "inserting 5000 records\n",
      "  (2019, 0.574, 'CO2e / Fe', 'Global', 'Steel', 'S1', 396, 'CO2 * gigametric_ton', 1.5, 'delta_degree_Celsius')\n",
      "  (2020, 0.54, 'CO2e / Fe', 'Global', 'Steel', 'S1', 396, 'CO2 * gigametric_ton', 1.5, 'delta_degree_Celsius')\n",
      "  (2021, 0.509, 'CO2e / Fe', 'Global', 'Steel', 'S1', 396, 'CO2 * gigametric_ton', 1.5, 'delta_degree_Celsius')\n",
      "  ...\n",
      "  (2026, 661.2, 'CO2e * gram / pkm', 'Global', 'Autos', 'S3', 396, 'CO2 * gigametric_ton', 1.5, 'delta_degree_Celsius')\n",
      "batch insert result: [(5000,)]\n",
      "inserting 4984 records\n",
      "  (2027, 633.0, 'CO2e * gram / pkm', 'Global', 'Autos', 'S3', 396, 'CO2 * gigametric_ton', 1.5, 'delta_degree_Celsius')\n",
      "  (2028, 605.99, 'CO2e * gram / pkm', 'Global', 'Autos', 'S3', 396, 'CO2 * gigametric_ton', 1.5, 'delta_degree_Celsius')\n",
      "  (2029, 580.15, 'CO2e * gram / pkm', 'Global', 'Autos', 'S3', 396, 'CO2 * gigametric_ton', 1.5, 'delta_degree_Celsius')\n",
      "  ...\n",
      "  (2050, 0.0267, 'CO2e * kilogram / USD', 'North America', 'Textiles', 'S1S2S3', 396, 'CO2 * gigametric_ton', 1.5, 'delta_degree_Celsius')\n",
      "batch insert result: [(4984,)]\n",
      "\n",
      "select C.company_name, C.company_id from demo_dv.template_company_data C left join demo_dv.template_target_data EI on EI.company_id=C.company_id\n",
      "where EI.ei_s1_by_year is NULL and EI.ei_s1s2_by_year is NULL and EI.ei_s1s2s3_by_year is NULL\n",
      "\n"
     ]
    },
    {
     "name": "stderr",
     "output_type": "stream",
     "text": [
      "2023-03-16 21:51:29,199 - ITR.data.vault_providers - ERROR - Provide either historic emissions data or projections for companies with IDs [('OXY OIL AND GAS', 'US6745991058-oil'), ('Synthomer Plc', 'GB0009887422'), ('Covestro AG', 'DE0006062144'), ('OXY CHEM', 'US6745991058-chem')]\n"
     ]
    },
    {
     "name": "stdout",
     "output_type": "stream",
     "text": [
      "[('OXY OIL AND GAS', 'US6745991058-oil'), ('Synthomer Plc', 'GB0009887422'), ('Covestro AG', 'DE0006062144'), ('OXY CHEM', 'US6745991058-chem')]\n",
      "\n",
      "create table demo_dv.template_cumulative_emissions with (\n",
      "    format = 'ORC',\n",
      "    partitioning = array['scope']\n",
      ") as\n",
      "select C.company_name, C.company_id, 'demo_dv' as source, 'S1S2' as scope,\n",
      "       sum((ET.ei_s1_by_year+if(is_nan(ET.ei_s2_by_year),0.0,ET.ei_s2_by_year)) * P.production_by_year) as cumulative_trajectory,\n",
      "       concat(ET.ei_s1_by_year_units, ' * ', P.production_by_year_units) as cumulative_trajectory_units,\n",
      "       sum((EI.ei_s1_by_year+if(is_nan(EI.ei_s2_by_year),0.0,EI.ei_s2_by_year)) * P.production_by_year) as cumulative_target,\n",
      "       concat(EI.ei_s1_by_year_units, ' * ', P.production_by_year_units) as cumulative_target_units\n",
      "from demo_dv.template_company_data C\n",
      "     join demo_dv.template_production_data P on P.company_id=C.company_id\n",
      "     join demo_dv.template_target_data EI on EI.company_id=C.company_id and EI.year=P.year and EI.ei_s1_by_year is not NULL\n",
      "     join demo_dv.template_trajectory_data ET on ET.company_id=C.company_id and ET.year=P.year and ET.ei_s1_by_year is not NULL\n",
      "where P.year>=2020\n",
      "group by C.company_name, C.company_id, 'demo_dv', 'S1S2',\n",
      "         concat(ET.ei_s1_by_year_units, ' * ', P.production_by_year_units),\n",
      "         concat(EI.ei_s1_by_year_units, ' * ', P.production_by_year_units)\n",
      "UNION ALL\n",
      "select C.company_name, C.company_id, 'demo_dv' as source, 'S1S2S3' as scope,\n",
      "       sum((ET.ei_s1_by_year+if(is_nan(ET.ei_s2_by_year),0.0,ET.ei_s2_by_year)+if(is_nan(ET.ei_s3_by_year),0.0,ET.ei_s3_by_year)) * P.production_by_year) as cumulative_trajectory,\n",
      "       concat(ET.ei_s1_by_year_units, ' * ', P.production_by_year_units) as cumulative_trajectory_units,\n",
      "       sum((EI.ei_s1_by_year+if(is_nan(EI.ei_s2_by_year),0.0,EI.ei_s2_by_year)+if(is_nan(EI.ei_s3_by_year),0.0,EI.ei_s3_by_year)) * P.production_by_year) as cumulative_target,\n",
      "       concat(EI.ei_s1_by_year_units, ' * ', P.production_by_year_units) as cumulative_target_units\n",
      "from demo_dv.template_company_data C\n",
      "     join demo_dv.template_production_data P on P.company_id=C.company_id\n",
      "     join demo_dv.template_target_data EI on EI.company_id=C.company_id and EI.year=P.year and EI.ei_s1_by_year is not NULL\n",
      "     join demo_dv.template_trajectory_data ET on ET.company_id=C.company_id and ET.year=P.year and ET.ei_s1_by_year is not NULL\n",
      "where P.year>=2020\n",
      "group by C.company_name, C.company_id, 'demo_dv', 'S1S2S3',\n",
      "         concat(ET.ei_s1_by_year_units, ' * ', P.production_by_year_units),\n",
      "         concat(EI.ei_s1_by_year_units, ' * ', P.production_by_year_units)\n",
      "\n",
      "[(192,)]\n",
      "\n",
      "create table demo_dv.template_cumulative_budget_1 with (\n",
      "    format = 'ORC',\n",
      "    partitioning = array['scope']\n",
      ") as\n",
      "select C.company_name, C.company_id, 'demo_dv' as source, B.scope, 'benchmark_1' as benchmark,\n",
      "       B.global_budget, B.benchmark_temp,\n",
      "       sum(B.intensity * P.production_by_year) as cumulative_budget,\n",
      "       concat(B.intensity_units, ' * ', P.production_by_year_units) as cumulative_budget_units\n",
      "from demo_dv.template_company_data C\n",
      "     join demo_dv.template_production_data P on P.company_id=C.company_id\n",
      "     join demo_dv.template_benchmark_ei B on P.year=B.year and C.region=B.region and C.sector=B.sector\n",
      "where P.year>=2020\n",
      "group by C.company_name, C.company_id, 'demo_dv', B.scope, 'benchmark_1', B.global_budget, B.benchmark_temp,\n",
      "         concat(B.intensity_units, ' * ', P.production_by_year_units)\n",
      "\n",
      "[(415,)]\n"
     ]
    }
   ],
   "source": [
    "root = root = os.path.dirname(os.getcwd())\n",
    "benchmark_prod_json = os.path.join(root, \"examples/data\", \"json-units\", \"benchmark_production_OECM.json\")\n",
    "benchmark_EI_json = os.path.join(root, \"examples/data\", \"json-units\", \"benchmark_EI_OECM_S3.json\")\n",
    "\n",
    "# load production benchmarks\n",
    "with open(benchmark_prod_json) as json_file:\n",
    "    parsed_json = json.load(json_file)\n",
    "prod_bms = IProductionBenchmarkScopes.parse_obj(parsed_json)\n",
    "vault_production_bm = VaultProviderProductionBenchmark(engine=engine_dev, benchmark_name=f\"{itr_prefix}benchmark_prod\", production_benchmarks=prod_bms)\n",
    "\n",
    "# load intensity benchmarks\n",
    "with open(benchmark_EI_json) as json_file:\n",
    "    parsed_json = json.load(json_file)\n",
    "ei_bms = IEIBenchmarkScopes.parse_obj(parsed_json)\n",
    "vault_EI_bm = VaultProviderIntensityBenchmark(engine=engine_dev, benchmark_name=f\"{itr_prefix}benchmark_ei\", EI_benchmarks=ei_bms)\n",
    "\n",
    "# load company data\n",
    "# TODO: Pandas reads null data mixed with integers as float64 (np.nan).  This can be fixed post hoc with astype('Int16')\n",
    "vault_company_data = VaultCompanyDataProvider(engine=engine_dev, company_table=f\"{itr_prefix}company_data\")\n",
    "\n",
    "vault_warehouse = DataVaultWarehouse(engine_dev, vault_company_data, vault_production_bm, vault_EI_bm, itr_prefix=itr_prefix)"
   ]
  },
  {
   "cell_type": "markdown",
   "id": "5b02d0f2-0182-430e-9adf-48319beec507",
   "metadata": {},
   "source": [
    "### Step 3: Visualize Emissions, Targets, and Trajectories\n",
    "\n",
    "SuperSet Dashboard here (not really, not yet, but points to TRINO_USER dashboard, not TRINO_USER1 dashboard): https://superset-secure-odh-superset.apps.odh-cl2.apps.os-climate.org/superset/dashboard/4/?edit=true&native_filters=%28%29"
   ]
  },
  {
   "cell_type": "markdown",
   "id": "42a11af2-fc4f-42a6-9ef4-15a7b379ee66",
   "metadata": {},
   "source": [
    "Plot emissions data.  Others can be plotted by following same pattern.\n",
    "\n",
    "Note that without units, a company that emits 80 t CO2e/t Steel looks like it might emit a lot more than one that emits 10t CO2e/MWh.  With units, it becomes clear that the 80 and the 10 are not comparable."
   ]
  },
  {
   "cell_type": "code",
   "execution_count": 5,
   "id": "f9ec935e-3ec1-4b2a-91b5-4649720854c7",
   "metadata": {},
   "outputs": [
    {
     "name": "stderr",
     "output_type": "stream",
     "text": [
      "/opt/app-root/lib64/python3.8/site-packages/pandas/io/sql.py:1770: SAWarning: index key 'record_count' was not located in columns for table 'template_emissions_data'\n",
      "  tbl = Table(\n",
      "/opt/app-root/lib64/python3.8/site-packages/pandas/io/sql.py:1770: SAWarning: index key 'file_count' was not located in columns for table 'template_emissions_data'\n",
      "  tbl = Table(\n",
      "/opt/app-root/lib64/python3.8/site-packages/pandas/io/sql.py:1770: SAWarning: index key 'total_size' was not located in columns for table 'template_emissions_data'\n",
      "  tbl = Table(\n",
      "/opt/app-root/lib64/python3.8/site-packages/pandas/io/sql.py:1770: SAWarning: index key 'data' was not located in columns for table 'template_emissions_data'\n",
      "  tbl = Table(\n"
     ]
    },
    {
     "data": {
      "text/html": [
       "<div>\n",
       "<style scoped>\n",
       "    .dataframe tbody tr th:only-of-type {\n",
       "        vertical-align: middle;\n",
       "    }\n",
       "\n",
       "    .dataframe tbody tr th {\n",
       "        vertical-align: top;\n",
       "    }\n",
       "\n",
       "    .dataframe thead th {\n",
       "        text-align: right;\n",
       "    }\n",
       "</style>\n",
       "<table border=\"1\" class=\"dataframe\">\n",
       "  <thead>\n",
       "    <tr style=\"text-align: right;\">\n",
       "      <th></th>\n",
       "      <th>company_id</th>\n",
       "      <th>year</th>\n",
       "      <th>company_name</th>\n",
       "      <th>company_lei</th>\n",
       "      <th>sector</th>\n",
       "      <th>co2_s1_by_year</th>\n",
       "      <th>co2_s1_by_year_units</th>\n",
       "      <th>co2_s2_by_year</th>\n",
       "      <th>co2_s2_by_year_units</th>\n",
       "      <th>co2_s3_by_year</th>\n",
       "      <th>co2_s3_by_year_units</th>\n",
       "      <th>co2_s1s2_by_year</th>\n",
       "      <th>co2_s1s2_by_year_units</th>\n",
       "      <th>co2_s1s2s3_by_year</th>\n",
       "      <th>co2_s1s2s3_by_year_units</th>\n",
       "    </tr>\n",
       "  </thead>\n",
       "  <tbody>\n",
       "    <tr>\n",
       "      <th>0</th>\n",
       "      <td>096770.SK</td>\n",
       "      <td>2019</td>\n",
       "      <td>SK Innovation</td>\n",
       "      <td>988400PXP70BWVSJVF07</td>\n",
       "      <td>Energy</td>\n",
       "      <td>1.011760e+01</td>\n",
       "      <td>CO2e * megametric_ton</td>\n",
       "      <td>2.400554</td>\n",
       "      <td>CO2e * megametric_ton</td>\n",
       "      <td>151.800000</td>\n",
       "      <td>CO2e * megametric_ton</td>\n",
       "      <td>12.518150</td>\n",
       "      <td>CO2e * megametric_ton</td>\n",
       "      <td>164.318150</td>\n",
       "      <td>CO2e * megametric_ton</td>\n",
       "    </tr>\n",
       "    <tr>\n",
       "      <th>1</th>\n",
       "      <td>096770.SK</td>\n",
       "      <td>2020</td>\n",
       "      <td>SK Innovation</td>\n",
       "      <td>988400PXP70BWVSJVF07</td>\n",
       "      <td>Energy</td>\n",
       "      <td>1.109954e+01</td>\n",
       "      <td>CO2e * megametric_ton</td>\n",
       "      <td>2.733049</td>\n",
       "      <td>CO2e * megametric_ton</td>\n",
       "      <td>131.470000</td>\n",
       "      <td>CO2e * megametric_ton</td>\n",
       "      <td>12.093238</td>\n",
       "      <td>CO2e * megametric_ton</td>\n",
       "      <td>143.563238</td>\n",
       "      <td>CO2e * megametric_ton</td>\n",
       "    </tr>\n",
       "    <tr>\n",
       "      <th>2</th>\n",
       "      <td>096770.SK</td>\n",
       "      <td>2021</td>\n",
       "      <td>SK Innovation</td>\n",
       "      <td>988400PXP70BWVSJVF07</td>\n",
       "      <td>Energy</td>\n",
       "      <td>8.963148e+00</td>\n",
       "      <td>CO2e * megametric_ton</td>\n",
       "      <td>2.501465</td>\n",
       "      <td>CO2e * megametric_ton</td>\n",
       "      <td>118.350000</td>\n",
       "      <td>CO2e * megametric_ton</td>\n",
       "      <td>10.900000</td>\n",
       "      <td>CO2e * megametric_ton</td>\n",
       "      <td>129.250000</td>\n",
       "      <td>CO2e * megametric_ton</td>\n",
       "    </tr>\n",
       "    <tr>\n",
       "      <th>3</th>\n",
       "      <td>096770.SK</td>\n",
       "      <td>2022</td>\n",
       "      <td>SK Innovation</td>\n",
       "      <td>988400PXP70BWVSJVF07</td>\n",
       "      <td>Energy</td>\n",
       "      <td>8.144233e+00</td>\n",
       "      <td>CO2e * megametric_ton</td>\n",
       "      <td>2.272920</td>\n",
       "      <td>CO2e * megametric_ton</td>\n",
       "      <td>117.965029</td>\n",
       "      <td>CO2e * megametric_ton</td>\n",
       "      <td>10.551103</td>\n",
       "      <td>CO2e * megametric_ton</td>\n",
       "      <td>118.550756</td>\n",
       "      <td>CO2e * megametric_ton</td>\n",
       "    </tr>\n",
       "    <tr>\n",
       "      <th>4</th>\n",
       "      <td>096770.SK</td>\n",
       "      <td>2023</td>\n",
       "      <td>SK Innovation</td>\n",
       "      <td>988400PXP70BWVSJVF07</td>\n",
       "      <td>Energy</td>\n",
       "      <td>7.395703e+00</td>\n",
       "      <td>CO2e * megametric_ton</td>\n",
       "      <td>2.064017</td>\n",
       "      <td>CO2e * megametric_ton</td>\n",
       "      <td>117.581310</td>\n",
       "      <td>CO2e * megametric_ton</td>\n",
       "      <td>10.213374</td>\n",
       "      <td>CO2e * megametric_ton</td>\n",
       "      <td>108.672020</td>\n",
       "      <td>CO2e * megametric_ton</td>\n",
       "    </tr>\n",
       "    <tr>\n",
       "      <th>...</th>\n",
       "      <td>...</td>\n",
       "      <td>...</td>\n",
       "      <td>...</td>\n",
       "      <td>...</td>\n",
       "      <td>...</td>\n",
       "      <td>...</td>\n",
       "      <td>...</td>\n",
       "      <td>...</td>\n",
       "      <td>...</td>\n",
       "      <td>...</td>\n",
       "      <td>...</td>\n",
       "      <td>...</td>\n",
       "      <td>...</td>\n",
       "      <td>...</td>\n",
       "      <td>...</td>\n",
       "    </tr>\n",
       "    <tr>\n",
       "      <th>2875</th>\n",
       "      <td>US98389B1008</td>\n",
       "      <td>2046</td>\n",
       "      <td>Xcel Energy, Inc.</td>\n",
       "      <td>LGJNMI9GH8XIDG5RCM61</td>\n",
       "      <td>Electricity Utilities</td>\n",
       "      <td>2.115820e+00</td>\n",
       "      <td>CO2e * megametric_ton</td>\n",
       "      <td>NaN</td>\n",
       "      <td>CO2e * megametric_ton</td>\n",
       "      <td>NaN</td>\n",
       "      <td>CO2e * megametric_ton</td>\n",
       "      <td>NaN</td>\n",
       "      <td>CO2e * megametric_ton</td>\n",
       "      <td>NaN</td>\n",
       "      <td>CO2e * megametric_ton</td>\n",
       "    </tr>\n",
       "    <tr>\n",
       "      <th>2876</th>\n",
       "      <td>US98389B1008</td>\n",
       "      <td>2047</td>\n",
       "      <td>Xcel Energy, Inc.</td>\n",
       "      <td>LGJNMI9GH8XIDG5RCM61</td>\n",
       "      <td>Electricity Utilities</td>\n",
       "      <td>1.512704e+00</td>\n",
       "      <td>CO2e * megametric_ton</td>\n",
       "      <td>NaN</td>\n",
       "      <td>CO2e * megametric_ton</td>\n",
       "      <td>NaN</td>\n",
       "      <td>CO2e * megametric_ton</td>\n",
       "      <td>NaN</td>\n",
       "      <td>CO2e * megametric_ton</td>\n",
       "      <td>NaN</td>\n",
       "      <td>CO2e * megametric_ton</td>\n",
       "    </tr>\n",
       "    <tr>\n",
       "      <th>2877</th>\n",
       "      <td>US98389B1008</td>\n",
       "      <td>2048</td>\n",
       "      <td>Xcel Energy, Inc.</td>\n",
       "      <td>LGJNMI9GH8XIDG5RCM61</td>\n",
       "      <td>Electricity Utilities</td>\n",
       "      <td>9.629450e-01</td>\n",
       "      <td>CO2e * megametric_ton</td>\n",
       "      <td>NaN</td>\n",
       "      <td>CO2e * megametric_ton</td>\n",
       "      <td>NaN</td>\n",
       "      <td>CO2e * megametric_ton</td>\n",
       "      <td>NaN</td>\n",
       "      <td>CO2e * megametric_ton</td>\n",
       "      <td>NaN</td>\n",
       "      <td>CO2e * megametric_ton</td>\n",
       "    </tr>\n",
       "    <tr>\n",
       "      <th>2878</th>\n",
       "      <td>US98389B1008</td>\n",
       "      <td>2049</td>\n",
       "      <td>Xcel Energy, Inc.</td>\n",
       "      <td>LGJNMI9GH8XIDG5RCM61</td>\n",
       "      <td>Electricity Utilities</td>\n",
       "      <td>4.604973e-01</td>\n",
       "      <td>CO2e * megametric_ton</td>\n",
       "      <td>NaN</td>\n",
       "      <td>CO2e * megametric_ton</td>\n",
       "      <td>NaN</td>\n",
       "      <td>CO2e * megametric_ton</td>\n",
       "      <td>NaN</td>\n",
       "      <td>CO2e * megametric_ton</td>\n",
       "      <td>NaN</td>\n",
       "      <td>CO2e * megametric_ton</td>\n",
       "    </tr>\n",
       "    <tr>\n",
       "      <th>2879</th>\n",
       "      <td>US98389B1008</td>\n",
       "      <td>2050</td>\n",
       "      <td>Xcel Energy, Inc.</td>\n",
       "      <td>LGJNMI9GH8XIDG5RCM61</td>\n",
       "      <td>Electricity Utilities</td>\n",
       "      <td>-1.699409e-15</td>\n",
       "      <td>CO2e * megametric_ton</td>\n",
       "      <td>NaN</td>\n",
       "      <td>CO2e * megametric_ton</td>\n",
       "      <td>NaN</td>\n",
       "      <td>CO2e * megametric_ton</td>\n",
       "      <td>NaN</td>\n",
       "      <td>CO2e * megametric_ton</td>\n",
       "      <td>NaN</td>\n",
       "      <td>CO2e * megametric_ton</td>\n",
       "    </tr>\n",
       "  </tbody>\n",
       "</table>\n",
       "<p>2880 rows × 15 columns</p>\n",
       "</div>"
      ],
      "text/plain": [
       "        company_id  year       company_name           company_lei  \\\n",
       "0        096770.SK  2019      SK Innovation  988400PXP70BWVSJVF07   \n",
       "1        096770.SK  2020      SK Innovation  988400PXP70BWVSJVF07   \n",
       "2        096770.SK  2021      SK Innovation  988400PXP70BWVSJVF07   \n",
       "3        096770.SK  2022      SK Innovation  988400PXP70BWVSJVF07   \n",
       "4        096770.SK  2023      SK Innovation  988400PXP70BWVSJVF07   \n",
       "...            ...   ...                ...                   ...   \n",
       "2875  US98389B1008  2046  Xcel Energy, Inc.  LGJNMI9GH8XIDG5RCM61   \n",
       "2876  US98389B1008  2047  Xcel Energy, Inc.  LGJNMI9GH8XIDG5RCM61   \n",
       "2877  US98389B1008  2048  Xcel Energy, Inc.  LGJNMI9GH8XIDG5RCM61   \n",
       "2878  US98389B1008  2049  Xcel Energy, Inc.  LGJNMI9GH8XIDG5RCM61   \n",
       "2879  US98389B1008  2050  Xcel Energy, Inc.  LGJNMI9GH8XIDG5RCM61   \n",
       "\n",
       "                     sector  co2_s1_by_year   co2_s1_by_year_units  \\\n",
       "0                    Energy    1.011760e+01  CO2e * megametric_ton   \n",
       "1                    Energy    1.109954e+01  CO2e * megametric_ton   \n",
       "2                    Energy    8.963148e+00  CO2e * megametric_ton   \n",
       "3                    Energy    8.144233e+00  CO2e * megametric_ton   \n",
       "4                    Energy    7.395703e+00  CO2e * megametric_ton   \n",
       "...                     ...             ...                    ...   \n",
       "2875  Electricity Utilities    2.115820e+00  CO2e * megametric_ton   \n",
       "2876  Electricity Utilities    1.512704e+00  CO2e * megametric_ton   \n",
       "2877  Electricity Utilities    9.629450e-01  CO2e * megametric_ton   \n",
       "2878  Electricity Utilities    4.604973e-01  CO2e * megametric_ton   \n",
       "2879  Electricity Utilities   -1.699409e-15  CO2e * megametric_ton   \n",
       "\n",
       "      co2_s2_by_year   co2_s2_by_year_units  co2_s3_by_year  \\\n",
       "0           2.400554  CO2e * megametric_ton      151.800000   \n",
       "1           2.733049  CO2e * megametric_ton      131.470000   \n",
       "2           2.501465  CO2e * megametric_ton      118.350000   \n",
       "3           2.272920  CO2e * megametric_ton      117.965029   \n",
       "4           2.064017  CO2e * megametric_ton      117.581310   \n",
       "...              ...                    ...             ...   \n",
       "2875             NaN  CO2e * megametric_ton             NaN   \n",
       "2876             NaN  CO2e * megametric_ton             NaN   \n",
       "2877             NaN  CO2e * megametric_ton             NaN   \n",
       "2878             NaN  CO2e * megametric_ton             NaN   \n",
       "2879             NaN  CO2e * megametric_ton             NaN   \n",
       "\n",
       "       co2_s3_by_year_units  co2_s1s2_by_year co2_s1s2_by_year_units  \\\n",
       "0     CO2e * megametric_ton         12.518150  CO2e * megametric_ton   \n",
       "1     CO2e * megametric_ton         12.093238  CO2e * megametric_ton   \n",
       "2     CO2e * megametric_ton         10.900000  CO2e * megametric_ton   \n",
       "3     CO2e * megametric_ton         10.551103  CO2e * megametric_ton   \n",
       "4     CO2e * megametric_ton         10.213374  CO2e * megametric_ton   \n",
       "...                     ...               ...                    ...   \n",
       "2875  CO2e * megametric_ton               NaN  CO2e * megametric_ton   \n",
       "2876  CO2e * megametric_ton               NaN  CO2e * megametric_ton   \n",
       "2877  CO2e * megametric_ton               NaN  CO2e * megametric_ton   \n",
       "2878  CO2e * megametric_ton               NaN  CO2e * megametric_ton   \n",
       "2879  CO2e * megametric_ton               NaN  CO2e * megametric_ton   \n",
       "\n",
       "      co2_s1s2s3_by_year co2_s1s2s3_by_year_units  \n",
       "0             164.318150    CO2e * megametric_ton  \n",
       "1             143.563238    CO2e * megametric_ton  \n",
       "2             129.250000    CO2e * megametric_ton  \n",
       "3             118.550756    CO2e * megametric_ton  \n",
       "4             108.672020    CO2e * megametric_ton  \n",
       "...                  ...                      ...  \n",
       "2875                 NaN    CO2e * megametric_ton  \n",
       "2876                 NaN    CO2e * megametric_ton  \n",
       "2877                 NaN    CO2e * megametric_ton  \n",
       "2878                 NaN    CO2e * megametric_ton  \n",
       "2879                 NaN    CO2e * megametric_ton  \n",
       "\n",
       "[2880 rows x 15 columns]"
      ]
     },
     "execution_count": 5,
     "metadata": {},
     "output_type": "execute_result"
    }
   ],
   "source": [
    "sql_df = pd.read_sql_table(f\"{itr_prefix}emissions_data\", engine_dev)\n",
    "sql_df"
   ]
  },
  {
   "cell_type": "code",
   "execution_count": 6,
   "id": "463b78e4-ca3a-4af1-bc4d-f301d4e6b402",
   "metadata": {},
   "outputs": [],
   "source": [
    "df = requantify_df(sql_df.dropna(), typemap={'co2_s1_by_year':'Mt CO2', 'co2_s2_by_year':'Mt CO2', 'co2_s3_by_year':'Mt CO2'}).convert_dtypes()\n",
    "df = df[df.company_id.ne('US6362744095+Gas Utilities') & df.company_id.ne('US0236081024+Gas Utilities') ]\n",
    "df = df[df.co2_s1_by_year.gt(Q_(10.0, 'Mt CO2e'))]"
   ]
  },
  {
   "cell_type": "code",
   "execution_count": 7,
   "id": "c515b6a5-bfb8-4dc5-81bd-9fe6389be42e",
   "metadata": {},
   "outputs": [
    {
     "data": {
      "text/plain": [
       "company_id                                 string\n",
       "year                                        Int64\n",
       "company_name                               string\n",
       "company_lei                                string\n",
       "sector                                     string\n",
       "co2_s1_by_year         pint[CO2 * megametric_ton]\n",
       "co2_s2_by_year         pint[CO2 * megametric_ton]\n",
       "co2_s3_by_year         pint[CO2 * megametric_ton]\n",
       "co2_s1s2_by_year      pint[CO2e * megametric_ton]\n",
       "co2_s1s2s3_by_year    pint[CO2e * megametric_ton]\n",
       "dtype: object"
      ]
     },
     "execution_count": 7,
     "metadata": {},
     "output_type": "execute_result"
    }
   ],
   "source": [
    "df.dtypes"
   ]
  },
  {
   "cell_type": "code",
   "execution_count": 8,
   "id": "f4991076-a5a9-4b1a-b19d-2c1744625f0f",
   "metadata": {},
   "outputs": [],
   "source": [
    "df = df.sort_values(['company_name', 'year']).reset_index(drop=True)"
   ]
  },
  {
   "cell_type": "code",
   "execution_count": 9,
   "id": "4efb7060-61e9-4c7e-8389-557192391f5e",
   "metadata": {},
   "outputs": [
    {
     "data": {
      "text/html": [
       "<div>\n",
       "<style scoped>\n",
       "    .dataframe tbody tr th:only-of-type {\n",
       "        vertical-align: middle;\n",
       "    }\n",
       "\n",
       "    .dataframe tbody tr th {\n",
       "        vertical-align: top;\n",
       "    }\n",
       "\n",
       "    .dataframe thead th {\n",
       "        text-align: right;\n",
       "    }\n",
       "</style>\n",
       "<table border=\"1\" class=\"dataframe\">\n",
       "  <thead>\n",
       "    <tr style=\"text-align: right;\">\n",
       "      <th></th>\n",
       "      <th>company_id</th>\n",
       "      <th>year</th>\n",
       "      <th>company_name</th>\n",
       "      <th>company_lei</th>\n",
       "      <th>sector</th>\n",
       "      <th>co2_s1_by_year</th>\n",
       "      <th>co2_s2_by_year</th>\n",
       "      <th>co2_s3_by_year</th>\n",
       "      <th>co2_s1s2_by_year</th>\n",
       "      <th>co2_s1s2s3_by_year</th>\n",
       "    </tr>\n",
       "  </thead>\n",
       "  <tbody>\n",
       "    <tr>\n",
       "      <th>0</th>\n",
       "      <td>US00130H1059</td>\n",
       "      <td>2019</td>\n",
       "      <td>AES Corp.</td>\n",
       "      <td>2NUNNB7D43COUIRE5295</td>\n",
       "      <td>Electricity Utilities</td>\n",
       "      <td>47.3515</td>\n",
       "      <td>0.3415</td>\n",
       "      <td>9.9732</td>\n",
       "      <td>47.693</td>\n",
       "      <td>57.6662</td>\n",
       "    </tr>\n",
       "    <tr>\n",
       "      <th>1</th>\n",
       "      <td>US00130H1059</td>\n",
       "      <td>2020</td>\n",
       "      <td>AES Corp.</td>\n",
       "      <td>2NUNNB7D43COUIRE5295</td>\n",
       "      <td>Electricity Utilities</td>\n",
       "      <td>46.63836578999675</td>\n",
       "      <td>0.2757418335387718</td>\n",
       "      <td>7.8914273085040945</td>\n",
       "      <td>46.91410762353552</td>\n",
       "      <td>50.4842</td>\n",
       "    </tr>\n",
       "    <tr>\n",
       "      <th>2</th>\n",
       "      <td>US00130H1059</td>\n",
       "      <td>2021</td>\n",
       "      <td>AES Corp.</td>\n",
       "      <td>2NUNNB7D43COUIRE5295</td>\n",
       "      <td>Electricity Utilities</td>\n",
       "      <td>62.42094852892479</td>\n",
       "      <td>0.3837483781105162</td>\n",
       "      <td>11.13670207866015</td>\n",
       "      <td>62.804696907035314</td>\n",
       "      <td>48.806732</td>\n",
       "    </tr>\n",
       "    <tr>\n",
       "      <th>3</th>\n",
       "      <td>US00130H1059</td>\n",
       "      <td>2022</td>\n",
       "      <td>AES Corp.</td>\n",
       "      <td>2NUNNB7D43COUIRE5295</td>\n",
       "      <td>Electricity Utilities</td>\n",
       "      <td>56.16674702069814</td>\n",
       "      <td>0.3452991116107259</td>\n",
       "      <td>10.48959047930802</td>\n",
       "      <td>57.254693495509905</td>\n",
       "      <td>44.76653769924013</td>\n",
       "    </tr>\n",
       "    <tr>\n",
       "      <th>4</th>\n",
       "      <td>US00130H1059</td>\n",
       "      <td>2023</td>\n",
       "      <td>AES Corp.</td>\n",
       "      <td>2NUNNB7D43COUIRE5295</td>\n",
       "      <td>Electricity Utilities</td>\n",
       "      <td>50.4634686379393</td>\n",
       "      <td>0.3102367826830855</td>\n",
       "      <td>9.874158550350986</td>\n",
       "      <td>52.19513967429996</td>\n",
       "      <td>41.03617904451507</td>\n",
       "    </tr>\n",
       "    <tr>\n",
       "      <th>...</th>\n",
       "      <td>...</td>\n",
       "      <td>...</td>\n",
       "      <td>...</td>\n",
       "      <td>...</td>\n",
       "      <td>...</td>\n",
       "      <td>...</td>\n",
       "      <td>...</td>\n",
       "      <td>...</td>\n",
       "      <td>...</td>\n",
       "      <td>...</td>\n",
       "    </tr>\n",
       "    <tr>\n",
       "      <th>275</th>\n",
       "      <td>FR0000120271</td>\n",
       "      <td>2045</td>\n",
       "      <td>TotalEnergies</td>\n",
       "      <td>529900S21EQ1BO4ESM68</td>\n",
       "      <td>Energy</td>\n",
       "      <td>12.780858205156411</td>\n",
       "      <td>0.06528004737701794</td>\n",
       "      <td>139.61944237683358</td>\n",
       "      <td>1.834052191152309</td>\n",
       "      <td>141.45349456798587</td>\n",
       "    </tr>\n",
       "    <tr>\n",
       "      <th>276</th>\n",
       "      <td>FR0000120271</td>\n",
       "      <td>2046</td>\n",
       "      <td>TotalEnergies</td>\n",
       "      <td>529900S21EQ1BO4ESM68</td>\n",
       "      <td>Energy</td>\n",
       "      <td>12.168807285484242</td>\n",
       "      <td>0.050239513948035816</td>\n",
       "      <td>130.6040724969801</td>\n",
       "      <td>1.3875194473107044</td>\n",
       "      <td>131.9915919442908</td>\n",
       "    </tr>\n",
       "    <tr>\n",
       "      <th>277</th>\n",
       "      <td>FR0000120271</td>\n",
       "      <td>2047</td>\n",
       "      <td>TotalEnergies</td>\n",
       "      <td>529900S21EQ1BO4ESM68</td>\n",
       "      <td>Energy</td>\n",
       "      <td>11.58606631685436</td>\n",
       "      <td>0.03627651160731658</td>\n",
       "      <td>122.17083425070818</td>\n",
       "      <td>0.9857534671609112</td>\n",
       "      <td>123.1565877178691</td>\n",
       "    </tr>\n",
       "    <tr>\n",
       "      <th>278</th>\n",
       "      <td>FR0000120271</td>\n",
       "      <td>2048</td>\n",
       "      <td>TotalEnergies</td>\n",
       "      <td>529900S21EQ1BO4ESM68</td>\n",
       "      <td>Energy</td>\n",
       "      <td>11.031231701620737</td>\n",
       "      <td>0.023302062404897784</td>\n",
       "      <td>114.28213880435568</td>\n",
       "      <td>0.623547567218937</td>\n",
       "      <td>114.9056863715746</td>\n",
       "    </tr>\n",
       "    <tr>\n",
       "      <th>279</th>\n",
       "      <td>FR0000120271</td>\n",
       "      <td>2049</td>\n",
       "      <td>TotalEnergies</td>\n",
       "      <td>529900S21EQ1BO4ESM68</td>\n",
       "      <td>Energy</td>\n",
       "      <td>10.502967057751215</td>\n",
       "      <td>0.011234734442577802</td>\n",
       "      <td>106.9028244736105</td>\n",
       "      <td>0.29631184267841304</td>\n",
       "      <td>107.19913631628891</td>\n",
       "    </tr>\n",
       "  </tbody>\n",
       "</table>\n",
       "<p>280 rows × 10 columns</p>\n",
       "</div>"
      ],
      "text/plain": [
       "       company_id  year   company_name           company_lei  \\\n",
       "0    US00130H1059  2019      AES Corp.  2NUNNB7D43COUIRE5295   \n",
       "1    US00130H1059  2020      AES Corp.  2NUNNB7D43COUIRE5295   \n",
       "2    US00130H1059  2021      AES Corp.  2NUNNB7D43COUIRE5295   \n",
       "3    US00130H1059  2022      AES Corp.  2NUNNB7D43COUIRE5295   \n",
       "4    US00130H1059  2023      AES Corp.  2NUNNB7D43COUIRE5295   \n",
       "..            ...   ...            ...                   ...   \n",
       "275  FR0000120271  2045  TotalEnergies  529900S21EQ1BO4ESM68   \n",
       "276  FR0000120271  2046  TotalEnergies  529900S21EQ1BO4ESM68   \n",
       "277  FR0000120271  2047  TotalEnergies  529900S21EQ1BO4ESM68   \n",
       "278  FR0000120271  2048  TotalEnergies  529900S21EQ1BO4ESM68   \n",
       "279  FR0000120271  2049  TotalEnergies  529900S21EQ1BO4ESM68   \n",
       "\n",
       "                    sector      co2_s1_by_year        co2_s2_by_year  \\\n",
       "0    Electricity Utilities             47.3515                0.3415   \n",
       "1    Electricity Utilities   46.63836578999675    0.2757418335387718   \n",
       "2    Electricity Utilities   62.42094852892479    0.3837483781105162   \n",
       "3    Electricity Utilities   56.16674702069814    0.3452991116107259   \n",
       "4    Electricity Utilities    50.4634686379393    0.3102367826830855   \n",
       "..                     ...                 ...                   ...   \n",
       "275                 Energy  12.780858205156411   0.06528004737701794   \n",
       "276                 Energy  12.168807285484242  0.050239513948035816   \n",
       "277                 Energy   11.58606631685436   0.03627651160731658   \n",
       "278                 Energy  11.031231701620737  0.023302062404897784   \n",
       "279                 Energy  10.502967057751215  0.011234734442577802   \n",
       "\n",
       "         co2_s3_by_year     co2_s1s2_by_year  co2_s1s2s3_by_year  \n",
       "0                9.9732               47.693             57.6662  \n",
       "1    7.8914273085040945    46.91410762353552             50.4842  \n",
       "2     11.13670207866015   62.804696907035314           48.806732  \n",
       "3     10.48959047930802   57.254693495509905   44.76653769924013  \n",
       "4     9.874158550350986    52.19513967429996   41.03617904451507  \n",
       "..                  ...                  ...                 ...  \n",
       "275  139.61944237683358    1.834052191152309  141.45349456798587  \n",
       "276   130.6040724969801   1.3875194473107044   131.9915919442908  \n",
       "277  122.17083425070818   0.9857534671609112   123.1565877178691  \n",
       "278  114.28213880435568    0.623547567218937   114.9056863715746  \n",
       "279   106.9028244736105  0.29631184267841304  107.19913631628891  \n",
       "\n",
       "[280 rows x 10 columns]"
      ]
     },
     "execution_count": 9,
     "metadata": {},
     "output_type": "execute_result"
    }
   ],
   "source": [
    "df"
   ]
  },
  {
   "cell_type": "code",
   "execution_count": 10,
   "id": "8bea8112-ecb4-4ae1-a8ea-9065d4177796",
   "metadata": {},
   "outputs": [
    {
     "data": {
      "text/plain": [
       "<AxesSubplot: xlabel='year', ylabel='CO2·megametric_ton'>"
      ]
     },
     "execution_count": 10,
     "metadata": {},
     "output_type": "execute_result"
    },
    {
     "data": {
      "image/png": "[encoded data removed]",
      "text/plain": [
       "<Figure size 1728x720 with 1 Axes>"
      ]
     },
     "metadata": {
      "needs_background": "light"
     },
     "output_type": "display_data"
    }
   ],
   "source": [
    "ureg.setup_matplotlib(True)\n",
    "plottable_df = df.pivot(index='year', columns='company_name', values='co2_s1_by_year').reset_index()\n",
    "# Must plot the first few columns, but then plot 1/3rd of the companies so as not to over-clutter the graph\n",
    "plottable_df.plot(x='year', kind='line', figsize=(24,10))"
   ]
  },
  {
   "cell_type": "markdown",
   "id": "def7e2c0-42b8-46e0-8b8d-fb79c8e786d4",
   "metadata": {},
   "source": [
    "## From this point forward, this is just a sketch...\n",
    "\n",
    "While we could technically instantiate Quant and User engines and demonstrate the access restrictions particular to those personna, it's not really \"right\" to demonstrate restrictions via the database that can still be accessed via the python namespace.  So we actually put the following code into separate notebooks which cannot access the data in dataframes above."
   ]
  },
  {
   "cell_type": "markdown",
   "id": "1848722a-342e-46bd-b8fe-aa0001d4d28c",
   "metadata": {},
   "source": [
    "### Step 4: Use Quant engine to access and visualize temperature scores\n",
    "\n",
    "When the Data Vault is ready to be implemented, we can demonstrate that the Quant engine does not have access to primary company data (neither financial nor production)"
   ]
  },
  {
   "cell_type": "raw",
   "id": "8110deb5-6850-4f16-902b-c9bab9d338a3",
   "metadata": {},
   "source": [
    "sqlstring = 'trino://{user}@{host}:{port}/'.format(\n",
    "    user = os.environ['TRINO_USER_USER2'],\n",
    "    host = os.environ['TRINO_HOST'],\n",
    "    port = os.environ['TRINO_PORT']\n",
    ")\n",
    "sqlargs = {\n",
    "    'auth': trino.auth.JWTAuthentication(os.environ['TRINO_PASSWD_USER2']),\n",
    "    'http_scheme': 'https',\n",
    "    'catalog': 'osc_datacommons_dev',\n",
    "    'schema': 'demo_dv',\n",
    "}\n",
    "\n",
    "ingest_catalog = 'osc_datacommons_dev'\n",
    "ingest_schema = 'demo_dv'\n",
    "\n",
    "engine_quant = create_engine(sqlstring, connect_args = sqlargs)\n",
    "print(\"connecting with engine \" + str(engine_quant))"
   ]
  },
  {
   "cell_type": "markdown",
   "id": "12482310-25de-42eb-8d0c-52f56d07f627",
   "metadata": {},
   "source": [
    "Show that we *cannot* access fundamental company data (cannot show until op1st team changes permissions)"
   ]
  },
  {
   "cell_type": "markdown",
   "id": "236c94f8-1709-4d7a-9beb-85419e65be5c",
   "metadata": {},
   "source": [
    "Show that we *can* access both cumulative emissions (input) and temperature scores (output)"
   ]
  },
  {
   "cell_type": "raw",
   "id": "a7cbe50d-6b26-4f9e-a04b-ba915f19c4b0",
   "metadata": {},
   "source": [
    "temp_score_df = pd.read_sql_table(f\"{itr_prefix}temperature_scores\", engine_quant)"
   ]
  },
  {
   "cell_type": "raw",
   "id": "ac6a2286-62b7-4d23-81bf-077ad68a34a4",
   "metadata": {},
   "source": [
    "temp_score_df.head()"
   ]
  },
  {
   "cell_type": "raw",
   "id": "8277b6d5-3633-40ac-b69b-571eae476d99",
   "metadata": {},
   "source": [
    "plottable_df = temp_score_df[['company_name', 'trajectory_temperature_score', 'target_temperature_score']].sort_values('company_name').set_index('company_name').T"
   ]
  },
  {
   "cell_type": "raw",
   "id": "acb3b22f-41d8-41a9-a2b0-3a3f0d2ef51a",
   "metadata": {},
   "source": [
    "plottable_df"
   ]
  },
  {
   "cell_type": "raw",
   "id": "49a139bd-fe5d-4016-87c1-de8fa7c3413a",
   "metadata": {},
   "source": [
    "# Must plot the first few columns, but then plot 1/3rd of the companies so as not to over-clutter the graph\n",
    "plottable_df.iloc[:, [x for x in list(range(0,2)) + list(range(4,35,3))]].boxplot(figsize=(24,10))"
   ]
  },
  {
   "cell_type": "markdown",
   "id": "65795474-1de6-4f40-9086-f7d948ae6c66",
   "metadata": {},
   "source": [
    "### Step 5: Show per-company temperature score and weighted portfolio alignment score\n",
    "\n",
    "Portfolio weighting scores (which ultimately influence portfolio alignment score) include:\n",
    "* WATS (size of portfolio company positions used as weights)\n",
    "* TETS (size of total emissions of portfolio companies used as weights)\n",
    "* Financial fundamental weights:\n",
    "    * Market Cap\n",
    "    * Enterprise Value\n",
    "    * Assets\n",
    "    * Revenues\n",
    "\n",
    "We can pass a list of company IDs to the Data Vault to get back a sum without exposing granular data"
   ]
  },
  {
   "cell_type": "raw",
   "id": "1de4b009-e664-49c9-a9bb-6021ec944f04",
   "metadata": {},
   "source": [
    "sqlstring = 'trino://{user}@{host}:{port}/'.format(\n",
    "    user = os.environ['TRINO_USER_USER3'],\n",
    "    host = os.environ['TRINO_HOST'],\n",
    "    port = os.environ['TRINO_PORT']\n",
    ")\n",
    "sqlargs = {\n",
    "    'auth': trino.auth.JWTAuthentication(os.environ['TRINO_PASSWD_USER3']),\n",
    "    'http_scheme': 'https',\n",
    "    'catalog': 'osc_datacommons_dev',\n",
    "    'schema': 'demo_dv',\n",
    "}\n",
    "\n",
    "ingest_catalog = 'osc_datacommons_dev'\n",
    "ingest_schema = 'demo_dv'\n",
    "\n",
    "engine_user = create_engine(sqlstring, connect_args = sqlargs)\n",
    "print(\"connecting with engine \" + str(engine_user))"
   ]
  },
  {
   "cell_type": "markdown",
   "id": "07154a44-d648-40e3-a5cf-8364468356de",
   "metadata": {},
   "source": [
    "Show that we *cannot* access fundamental company data (cannot show until op1st team changes permissions)"
   ]
  },
  {
   "cell_type": "markdown",
   "id": "df114d27-a6ab-46d9-a942-0e8200c4fcd7",
   "metadata": {},
   "source": [
    "Show that we *can* access both cumulative emissions (input) and temperature scores (output)"
   ]
  },
  {
   "cell_type": "raw",
   "id": "66770ed9-3403-4ddf-b585-34d78654909e",
   "metadata": {},
   "source": [
    "portfolio_df = pd.read_csv(\"data/mdt-20220116-portfolio.csv\", encoding=\"iso-8859-1\", sep=';', index_col='company_id')\n",
    "portfolio_df"
   ]
  },
  {
   "cell_type": "markdown",
   "id": "e2d9942b-ec81-4eab-9cca-99e92905e24f",
   "metadata": {},
   "source": [
    "### Calculate portfolio alignment temperature score based on WATS\n",
    "\n",
    "We can do this with information exclusive to the user space (and the probability-adjusted temperature scores)\n",
    "\n",
    "Note that companies with no production information (such as TITAL INTERNATIONAL INC and UNIVERSAL STAINLESS & ALLOY PRODUCTS INC will show NaN (Not a Number) as a score."
   ]
  },
  {
   "cell_type": "raw",
   "id": "5882ff18-6094-438c-a307-11a11dcb131a",
   "metadata": {},
   "source": [
    "# PA_SCORE means \"Probability-Adjusted\" Temperature Score\n",
    "portfolio_df['pa_score'] = vault_warehouse.get_pa_temp_scores(probability=0.5, company_ids=portfolio_df.index.values)"
   ]
  },
  {
   "cell_type": "raw",
   "id": "21079b40-dd5c-4b0a-8baa-d3e37b699d25",
   "metadata": {},
   "source": [
    "portfolio_df[portfolio_df.company_name=='POSCO']"
   ]
  },
  {
   "cell_type": "raw",
   "id": "4c072bdd-a83f-420b-a126-3d981e2b9f54",
   "metadata": {},
   "source": [
    "weight_for_WATS = portfolio_df['investment_value'].sum()\n",
    "weight_for_WATS"
   ]
  },
  {
   "cell_type": "raw",
   "id": "b86c6b92-7e4a-4efa-907e-5617a8adf336",
   "metadata": {},
   "source": [
    "portfolio_df['WATS_weight'] = portfolio_df['pa_score'] * (portfolio_df['investment_value'] / weight_for_WATS)\n",
    "portfolio_df.head()"
   ]
  },
  {
   "cell_type": "raw",
   "id": "628bb37c-84c2-4dc4-826c-c32cf47d8680",
   "metadata": {},
   "source": [
    "print(f\"Portfolio temperature score based on WATS = {portfolio_df['WATS_weight'].sum()}\")"
   ]
  },
  {
   "cell_type": "markdown",
   "id": "95036586-82cc-4230-8946-eb3f7a07d283",
   "metadata": {},
   "source": [
    "### Calculate portfolio alignment temperature score based on TETS\n",
    "\n",
    "We need to carefully meld portfolio data with corp fundamental data (in this case, emissions)"
   ]
  },
  {
   "cell_type": "raw",
   "id": "c6add035-f666-4572-98f9-9fe71c72fea6",
   "metadata": {},
   "source": [
    "portfolio_df['TETS_weight'] = vault_company_data.compute_portfolio_weights(portfolio_df['pa_score'], 2019, 'emissions', EScope.S1S2)\n",
    "portfolio_df.head()"
   ]
  },
  {
   "cell_type": "raw",
   "id": "ee150189-750c-4d08-a53d-4c9540575c98",
   "metadata": {},
   "source": [
    "print(f\"Portfolio temperature score based on TETS = {portfolio_df['TETS_weight'].sum()}\")"
   ]
  },
  {
   "cell_type": "markdown",
   "id": "74453d3b-2288-4dfd-bb68-978c0cdf5f67",
   "metadata": {},
   "source": [
    "### Calculate portfolio alignment temperature score based on MOTS, EOTS, ECOTS, AOTS, and ROTS\n",
    "\n",
    "* MOTS = market cap weights\n",
    "* EOTS = enterprise value weights\n",
    "* ECOTS = EVIC weights\n",
    "* AOTS = asset weights\n",
    "* ROTS = revenue weights"
   ]
  },
  {
   "cell_type": "raw",
   "id": "d9a0cb22-8ee4-4e3b-b08a-9647cc7f51c7",
   "metadata": {},
   "source": [
    "weighting_dict = {\n",
    "    'MOTS': 'company_market_cap',\n",
    "    'EOTS': 'company_enterprise_value',\n",
    "    'ECOTS': 'company_evic',\n",
    "    'AOTS': 'company_total_assets',\n",
    "    'ROTS': 'company_revenue',\n",
    "}\n",
    "\n",
    "for k, v in weighting_dict.items():\n",
    "    weight_column = f\"{k}_weight\"\n",
    "    portfolio_df[weight_column] = vault_company_data.compute_portfolio_weights(portfolio_df['pa_score'], 2019, v, EScope.S1S2)\n",
    "    print(f\"Portfolio temperature score based on {k} = {portfolio_df[weight_column].sum()}\")\n",
    "\n",
    "portfolio_df"
   ]
  },
  {
   "cell_type": "markdown",
   "id": "02416ac3-892e-4de7-b244-fc8311993ee9",
   "metadata": {},
   "source": [
    "### Companies for which we lack production data (and thus cannot chart)"
   ]
  },
  {
   "cell_type": "raw",
   "id": "efae39b9-706a-451f-8f0e-29daa0e47fee",
   "metadata": {},
   "source": [
    "portfolio_df[portfolio_df.pa_score.isnull()]"
   ]
  },
  {
   "cell_type": "code",
   "execution_count": null,
   "id": "89184619-312b-4303-85d2-7ae1a3093178",
   "metadata": {},
   "outputs": [],
   "source": []
  }
 ],
 "metadata": {
  "kernelspec": {
   "display_name": "Python 3 (ipykernel)",
   "language": "python",
   "name": "python3"
  },
  "language_info": {
   "codemirror_mode": {
    "name": "ipython",
    "version": 3
   },
   "file_extension": ".py",
   "mimetype": "text/x-python",
   "name": "python",
   "nbconvert_exporter": "python",
   "pygments_lexer": "ipython3",
   "version": "3.8.8"
  }
 },
 "nbformat": 4,
 "nbformat_minor": 5
}
