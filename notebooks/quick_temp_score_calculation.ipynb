{
 "cells": [
  {
   "cell_type": "markdown",
   "metadata": {},
   "source": [
    "# ITR Tool - Quick Temperature Score Calculation\n",
    "This notebook provides a simple example of the ITR Toolkit. It shows how to use it to calculate the temperature score for companies, aggregate them to a portfolio level to get the portfolio temperature score. \n"
   ]
  },
  {
   "cell_type": "markdown",
   "metadata": {},
   "source": [
    "### Getting started\n",
    "Make sure you are running the notebook with the requirements installed available in the example folder"
   ]
  },
  {
   "cell_type": "code",
   "execution_count": 1,
   "metadata": {},
   "outputs": [],
   "source": [
    "#If not already installed uncomment line below\n",
    "#!pip install ITR"
   ]
  },
  {
   "cell_type": "raw",
   "metadata": {},
   "source": [
    "import pint\n",
    "import pint_pandas\n",
    "from openscm_units import unit_registry\n",
    "pint_pandas.PintType.ureg = unit_registry\n",
    "ureg = unit_registry\n",
    "pint.set_application_registry(ureg)\n",
    "Q_ = ureg.Quantity\n",
    "\n",
    "ureg.define('fraction = [] = frac')\n",
    "ureg.define('percent = 1e-2 frac = pct = percentage')\n",
    "ureg.define('ppm = 1e-6 fraction')\n",
    "\n",
    "ureg.define(\"USD = [currency]\")\n",
    "ureg.define(\"EUR = nan USD\")\n",
    "ureg.define(\"JPY = nan USD\")\n",
    "ureg.define(\"MM_USD = 1000000 USD\")\n",
    "ureg.define(\"revenue = USD\")\n",
    "\n",
    "ureg.define(\"btu = Btu\")\n",
    "ureg.define(\"boe = 5.712 GJ\")\n",
    "\n",
    "ureg.define(\"CO2e = CO2 = CO2eq = CO2_eq\")\n",
    "# ureg.define(\"HFC = [ HFC_emissions ]\")\n",
    "# ureg.define(\"PFC = [ PFC_emissions ]\")\n",
    "# ureg.define(\"mercury = Hg = Mercury\")\n",
    "# ureg.define(\"mercure = Hg = Mercury\")\n",
    "ureg.define(\"PM10 = [ PM10_emissions ]\")\n",
    "\n",
    "ureg.define(\"production = [ output ]\")\n",
    "\n",
    "one_co2 = ureg(\"CO2e\")\n",
    "print(one_co2)\n",
    "\n",
    "one_Gt_co2 = ureg(\"Gt CO2e\")\n",
    "print(one_Gt_co2)"
   ]
  },
  {
   "cell_type": "code",
   "execution_count": 2,
   "metadata": {
    "tags": []
   },
   "outputs": [],
   "source": [
    "import ITR\n",
    "from ITR.data.excel import ExcelProviderCompany, ExcelProviderProductionBenchmark, ExcelProviderIntensityBenchmark\n",
    "from ITR.data.data_warehouse import DataWarehouse\n",
    "from ITR.portfolio_aggregation import PortfolioAggregationMethod\n",
    "from ITR.temperature_score import TemperatureScore\n",
    "from ITR.interfaces import ETimeFrames, EScope\n",
    "import pandas as pd\n",
    "\n",
    "from ITR.data.osc_units import ureg, Q_, PA_,  asPintDataFrame, requantify_df_from_columns\n"
   ]
  },
  {
   "cell_type": "code",
   "execution_count": 3,
   "metadata": {},
   "outputs": [
    {
     "name": "stdout",
     "output_type": "stream",
     "text": [
      "1 CO2e\n",
      "1 CO2e * gigametric_ton\n"
     ]
    }
   ],
   "source": [
    "one_co2 = ureg(\"CO2e\")\n",
    "print(one_co2)\n",
    "\n",
    "one_Gt_co2 = ureg(\"Gt CO2e\")\n",
    "print(one_Gt_co2)"
   ]
  },
  {
   "cell_type": "markdown",
   "metadata": {},
   "source": [
    "## Download the dummy data warehouse\n",
    "\n",
    "We have prepared dummy data for you to be able to run the tool as it is to familiarise yourself with how it works. To use your own data; please check out to the [Data Requirements section](https://github.com/os-c/ITR/blob/main/docs/DataRequirements.rst) of the technical documentation for more details on data requirements and formatting. \n",
    "\n",
    "*The dummy data may include some company names, but the data associated with those company names is completely random and any similarities with real world data is purely coincidental. \n"
   ]
  },
  {
   "cell_type": "code",
   "execution_count": 4,
   "metadata": {},
   "outputs": [],
   "source": [
    "import urllib.request\n",
    "import os\n",
    "\n",
    "if not os.path.isdir(\"data\"):\n",
    "    os.mkdir(\"data\")\n",
    "if not os.path.isfile(\"data/test_data_company.xlsx\"):\n",
    "    urllib.request.urlretrieve(\"https://github.com/os-c/ITR/raw/main/examples/data/test_data_company.xlsx\", \"data/test_data_company.xlsx\")\n",
    "if not os.path.isfile(\"data/OECM_EI_and_production_benchmarks.xlsx\"):\n",
    "    urllib.request.urlretrieve(\"https://github.com/os-c/ITR/raw/main/examples/data/benchmark_OECM_S3.xlsx.xlsx\", \"data/benchmark_OECM_S3.xlsx.xlsx\")\n",
    "if not os.path.isfile(\"data/example_portfolio.csv\"):\n",
    "    urllib.request.urlretrieve(\"https://github.com/os-c/ITR/raw/main/examples/data/example_portfolio.csv\", \"data/example_portfolio.csv\")\n",
    "if not os.path.isfile(\"utils.py\"):\n",
    "    urllib.request.urlretrieve(\"https://github.com/os-c/ITR/raw/main/examples/utils.py\", \"utils.py\")\n",
    "try:  # Import statement when run in remote Jupyter servers from AWS Google etc..\n",
    "    from utils import collect_company_contributions, plot_grouped_statistics, anonymize, \\\n",
    "        plot_grouped_heatmap, print_grouped_scores, get_contributions_per_group\n",
    "except:  # Import statement when run locally\n",
    "    from utils import collect_company_contributions, plot_grouped_statistics, anonymize, \\\n",
    "        plot_grouped_heatmap, print_grouped_scores, get_contributions_per_group"
   ]
  },
  {
   "cell_type": "markdown",
   "metadata": {},
   "source": [
    "##### Logging\n",
    "The ITR module uses the Python standard library logging utilities to send log messages. The log level can be changed according to the user's needs."
   ]
  },
  {
   "cell_type": "code",
   "execution_count": 5,
   "metadata": {},
   "outputs": [],
   "source": [
    "import logging\n",
    "root_logger = logging.getLogger()\n",
    "root_logger.setLevel(\"INFO\")"
   ]
  },
  {
   "cell_type": "markdown",
   "metadata": {},
   "source": [
    "## Create a data provider\n",
    "Data providers let you connect to the data source of your choice. In this case we are connecting to Excel as a data provider. "
   ]
  },
  {
   "cell_type": "code",
   "execution_count": 6,
   "metadata": {
    "tags": []
   },
   "outputs": [
    {
     "name": "stderr",
     "output_type": "stream",
     "text": [
      "2023-08-03 22:50:14,780 - ITR.data.excel - WARNING - EX 1 validation error for ICompanyEIProjection\n",
      "value\n",
      "  pint.Quantity required (type=type_error): (one of) the input(s) of company Company AR is invalid and will be skipped\n",
      "2023-08-03 22:50:14,902 - ITR.data.excel - WARNING - EX 1 validation error for ICompanyEIProjection\n",
      "value\n",
      "  pint.Quantity required (type=type_error): (one of) the input(s) of company Company AW is invalid and will be skipped\n",
      "2023-08-03 22:50:14,903 - ITR.data.excel - WARNING - EX 1 validation error for ICompanyEIProjection\n",
      "value\n",
      "  pint.Quantity required (type=type_error): (one of) the input(s) of company Company A is invalid and will be skipped\n",
      "2023-08-03 22:50:15,196 - ITR.data.excel - WARNING - EX 1 validation error for ICompanyEIProjection\n",
      "value\n",
      "  pint.Quantity required (type=type_error): (one of) the input(s) of company Company F is invalid and will be skipped\n",
      "2023-08-03 22:50:15,353 - ITR.data.excel - WARNING - EX 1 validation error for ICompanyEIProjection\n",
      "value\n",
      "  pint.Quantity required (type=type_error): (one of) the input(s) of company Company I is invalid and will be skipped\n",
      "2023-08-03 22:50:15,354 - ITR.data.excel - WARNING - EX 1 validation error for ICompanyEIProjection\n",
      "value\n",
      "  pint.Quantity required (type=type_error): (one of) the input(s) of company Company J is invalid and will be skipped\n",
      "2023-08-03 22:50:15,355 - ITR.data.excel - WARNING - EX 1 validation error for ICompanyEIProjection\n",
      "value\n",
      "  pint.Quantity required (type=type_error): (one of) the input(s) of company Company K is invalid and will be skipped\n",
      "2023-08-03 22:50:15,430 - ITR.data.excel - WARNING - EX 1 validation error for ICompanyEIProjection\n",
      "value\n",
      "  pint.Quantity required (type=type_error): (one of) the input(s) of company Company M is invalid and will be skipped\n"
     ]
    }
   ],
   "source": [
    "excel_company_data = ExcelProviderCompany(excel_path=\"data/test_data_company.xlsx\")"
   ]
  },
  {
   "cell_type": "code",
   "execution_count": 7,
   "metadata": {},
   "outputs": [],
   "source": [
    "excel_production_bm = ExcelProviderProductionBenchmark(excel_path=\"data/benchmark_OECM_S3.xlsx\")"
   ]
  },
  {
   "cell_type": "code",
   "execution_count": 8,
   "metadata": {},
   "outputs": [],
   "source": [
    "excel_EI_bm = ExcelProviderIntensityBenchmark(excel_path=\"data/benchmark_OECM_S3.xlsx\",benchmark_temperature=Q_(1.5, ureg.delta_degC),\n",
    "                                                           benchmark_global_budget=396 * ureg('Gt CO2'), is_AFOLU_included=False)"
   ]
  },
  {
   "cell_type": "code",
   "execution_count": 9,
   "metadata": {},
   "outputs": [
    {
     "name": "stderr",
     "output_type": "stream",
     "text": [
      "2023-08-03 22:50:20,601 - ITR.data.data_warehouse - INFO - new_production_bm calculating trajectories for 22 companies (times 5 scopes times 31 years)\n",
      "2023-08-03 22:50:20,602 - ITR.data.base_providers - INFO - Normalizing intensity metrics\n",
      "2023-08-03 22:50:20,625 - ITR.data.base_providers - INFO - Done normalizing intensity metrics\n",
      "2023-08-03 22:50:20,626 - ITR.data.data_warehouse - INFO - projecting targets for 22 companies (times 5 scopes times 31 years)\n"
     ]
    }
   ],
   "source": [
    "excel_provider = DataWarehouse(excel_company_data, excel_production_bm, excel_EI_bm)"
   ]
  },
  {
   "cell_type": "markdown",
   "metadata": {},
   "source": [
    "## Load your portfolio\n",
    "In our case the portfolio is stored as a CSV file. The portfolio should at least have an \"id\" (the identifier of the company) and a \"proportion\" (the weight of the company in your portfolio e.g. the value of the shares you hold) column.\n",
    "\n",
    "Please see the technical documentation on [Data Legends](https://ofbdabv.github.io/ITR/Legends.html#) for details on data requirements."
   ]
  },
  {
   "cell_type": "code",
   "execution_count": 10,
   "metadata": {},
   "outputs": [],
   "source": [
    "df_portfolio = requantify_df_from_columns (pd.read_csv(\"data/example_portfolio.csv\", encoding=\"iso-8859-1\", sep=';'))"
   ]
  },
  {
   "cell_type": "code",
   "execution_count": 11,
   "metadata": {},
   "outputs": [
    {
     "data": {
      "text/html": [
       "<div>\n",
       "<style scoped>\n",
       "    .dataframe tbody tr th:only-of-type {\n",
       "        vertical-align: middle;\n",
       "    }\n",
       "\n",
       "    .dataframe tbody tr th {\n",
       "        vertical-align: top;\n",
       "    }\n",
       "\n",
       "    .dataframe thead th {\n",
       "        text-align: right;\n",
       "    }\n",
       "</style>\n",
       "<table border=\"1\" class=\"dataframe\">\n",
       "  <thead>\n",
       "    <tr style=\"text-align: right;\">\n",
       "      <th></th>\n",
       "      <th>company_name</th>\n",
       "      <th>company_id</th>\n",
       "      <th>company_isin</th>\n",
       "      <th>investment_value</th>\n",
       "    </tr>\n",
       "  </thead>\n",
       "  <tbody>\n",
       "    <tr>\n",
       "      <th>0</th>\n",
       "      <td>Company AG</td>\n",
       "      <td>US0079031078</td>\n",
       "      <td>US0079031078</td>\n",
       "      <td>35000000</td>\n",
       "    </tr>\n",
       "    <tr>\n",
       "      <th>1</th>\n",
       "      <td>Company AH</td>\n",
       "      <td>US00724F1012</td>\n",
       "      <td>US00724F1012</td>\n",
       "      <td>10000000</td>\n",
       "    </tr>\n",
       "    <tr>\n",
       "      <th>2</th>\n",
       "      <td>Company AI</td>\n",
       "      <td>FR0000125338</td>\n",
       "      <td>FR0000125338</td>\n",
       "      <td>10000000</td>\n",
       "    </tr>\n",
       "    <tr>\n",
       "      <th>3</th>\n",
       "      <td>Company AJ</td>\n",
       "      <td>US17275R1023</td>\n",
       "      <td>US17275R1023</td>\n",
       "      <td>10000000</td>\n",
       "    </tr>\n",
       "    <tr>\n",
       "      <th>4</th>\n",
       "      <td>Company AK</td>\n",
       "      <td>CH0198251305</td>\n",
       "      <td>CH0198251305</td>\n",
       "      <td>10000000</td>\n",
       "    </tr>\n",
       "  </tbody>\n",
       "</table>\n",
       "</div>"
      ],
      "text/plain": [
       "  company_name    company_id  company_isin  investment_value\n",
       "0   Company AG  US0079031078  US0079031078          35000000\n",
       "1   Company AH  US00724F1012  US00724F1012          10000000\n",
       "2   Company AI  FR0000125338  FR0000125338          10000000\n",
       "3   Company AJ  US17275R1023  US17275R1023          10000000\n",
       "4   Company AK  CH0198251305  CH0198251305          10000000"
      ]
     },
     "execution_count": 11,
     "metadata": {},
     "output_type": "execute_result"
    }
   ],
   "source": [
    "df_portfolio.head(5)"
   ]
  },
  {
   "cell_type": "markdown",
   "metadata": {},
   "source": [
    "To load the data from the data provider, we have to pass a list of IPortfolioCompany instances. The module has a strict [data model](https://ofbdabv.github.io/ITR/autoapi/ITR/interfaces/index.html) to convert Pandas Dataframe to the right object types we supplied a utility function.\n"
   ]
  },
  {
   "cell_type": "code",
   "execution_count": 12,
   "metadata": {},
   "outputs": [],
   "source": [
    "companies = ITR.utils.dataframe_to_portfolio(df_portfolio)"
   ]
  },
  {
   "cell_type": "markdown",
   "metadata": {},
   "source": [
    "## Calculate the temperature scores\n",
    "In the amended portfolio you'll find your original portfolio, amended with the emissions and the temperature score."
   ]
  },
  {
   "cell_type": "code",
   "execution_count": 13,
   "metadata": {},
   "outputs": [
    {
     "name": "stderr",
     "output_type": "stream",
     "text": [
      "2023-08-03 22:50:20,672 - ITR.temperature_score - INFO - calculating temperature score for 30 companies\n",
      "2023-08-03 22:50:20,676 - ITR.data.base_providers - WARNING - Companies not found in fundamental data and excluded from further computations: {'BR0000000010', 'JP0000000001', 'AR0000000013', 'CN0000000009', 'US8356993076', 'NL0000000006', 'US7134481081', 'BR0000000011'}\n",
      "2023-08-03 22:50:21,261 - ITR.temperature_score - INFO - temperature score preparing data\n",
      "2023-08-03 22:50:21,286 - ITR.temperature_score - INFO - temperature score data prepared\n"
     ]
    }
   ],
   "source": [
    "temperature_score = TemperatureScore(               \n",
    "    time_frames = [ETimeFrames.LONG],     \n",
    "    scopes=[EScope.S1S2],    \n",
    "    aggregation_method=PortfolioAggregationMethod.WATS # Options for the aggregation method are WATS, TETS, AOTS, MOTS, EOTS, ECOTS, and ROTS.\n",
    ")\n",
    "amended_portfolio = temperature_score.calculate(data_warehouse=excel_provider, portfolio=companies)"
   ]
  },
  {
   "cell_type": "markdown",
   "metadata": {},
   "source": [
    "For every company the tool assigns a score for all the requested timeframe and scope combinations. For now the ITR methodolgy only supportt a long timeframe in combination with a S1S2 scope"
   ]
  },
  {
   "cell_type": "code",
   "execution_count": 14,
   "metadata": {},
   "outputs": [
    {
     "data": {
      "text/html": [
       "<div>\n",
       "<style scoped>\n",
       "    .dataframe tbody tr th:only-of-type {\n",
       "        vertical-align: middle;\n",
       "    }\n",
       "\n",
       "    .dataframe tbody tr th {\n",
       "        vertical-align: top;\n",
       "    }\n",
       "\n",
       "    .dataframe thead th {\n",
       "        text-align: right;\n",
       "    }\n",
       "</style>\n",
       "<table border=\"1\" class=\"dataframe\">\n",
       "  <thead>\n",
       "    <tr style=\"text-align: right;\">\n",
       "      <th></th>\n",
       "      <th>company_name</th>\n",
       "      <th>time_frame</th>\n",
       "      <th>scope</th>\n",
       "      <th>temperature_score</th>\n",
       "    </tr>\n",
       "    <tr>\n",
       "      <th>company_id</th>\n",
       "      <th></th>\n",
       "      <th></th>\n",
       "      <th></th>\n",
       "      <th></th>\n",
       "    </tr>\n",
       "  </thead>\n",
       "  <tbody>\n",
       "    <tr>\n",
       "      <th>US0079031078</th>\n",
       "      <td>Company AG</td>\n",
       "      <td>LONG</td>\n",
       "      <td>S1S2</td>\n",
       "      <td>5.552024047160483</td>\n",
       "    </tr>\n",
       "    <tr>\n",
       "      <th>US00724F1012</th>\n",
       "      <td>Company AH</td>\n",
       "      <td>LONG</td>\n",
       "      <td>S1S2</td>\n",
       "      <td>2.716000928815638</td>\n",
       "    </tr>\n",
       "    <tr>\n",
       "      <th>FR0000125338</th>\n",
       "      <td>Company AI</td>\n",
       "      <td>LONG</td>\n",
       "      <td>S1S2</td>\n",
       "      <td>1.8195536636743979</td>\n",
       "    </tr>\n",
       "    <tr>\n",
       "      <th>US17275R1023</th>\n",
       "      <td>Company AJ</td>\n",
       "      <td>LONG</td>\n",
       "      <td>S1S2</td>\n",
       "      <td>1.3763703631360014</td>\n",
       "    </tr>\n",
       "    <tr>\n",
       "      <th>CH0198251305</th>\n",
       "      <td>Company AK</td>\n",
       "      <td>LONG</td>\n",
       "      <td>S1S2</td>\n",
       "      <td>1.9368189518557661</td>\n",
       "    </tr>\n",
       "    <tr>\n",
       "      <th>US1266501006</th>\n",
       "      <td>Company AL</td>\n",
       "      <td>LONG</td>\n",
       "      <td>S1S2</td>\n",
       "      <td>1.4270505064201275</td>\n",
       "    </tr>\n",
       "    <tr>\n",
       "      <th>FR0000120644</th>\n",
       "      <td>Company AM</td>\n",
       "      <td>LONG</td>\n",
       "      <td>S1S2</td>\n",
       "      <td>1.4237120872779472</td>\n",
       "    </tr>\n",
       "    <tr>\n",
       "      <th>US24703L1035</th>\n",
       "      <td>Company AN</td>\n",
       "      <td>LONG</td>\n",
       "      <td>S1S2</td>\n",
       "      <td>1.193528713985525</td>\n",
       "    </tr>\n",
       "    <tr>\n",
       "      <th>TW0002308004</th>\n",
       "      <td>Company AO</td>\n",
       "      <td>LONG</td>\n",
       "      <td>S1S2</td>\n",
       "      <td>4.408898268763867</td>\n",
       "    </tr>\n",
       "  </tbody>\n",
       "</table>\n",
       "</div>"
      ],
      "text/plain": [
       "             company_name time_frame scope   temperature_score\n",
       "company_id                                                    \n",
       "US0079031078   Company AG       LONG  S1S2   5.552024047160483\n",
       "US00724F1012   Company AH       LONG  S1S2   2.716000928815638\n",
       "FR0000125338   Company AI       LONG  S1S2  1.8195536636743979\n",
       "US17275R1023   Company AJ       LONG  S1S2  1.3763703631360014\n",
       "CH0198251305   Company AK       LONG  S1S2  1.9368189518557661\n",
       "US1266501006   Company AL       LONG  S1S2  1.4270505064201275\n",
       "FR0000120644   Company AM       LONG  S1S2  1.4237120872779472\n",
       "US24703L1035   Company AN       LONG  S1S2   1.193528713985525\n",
       "TW0002308004   Company AO       LONG  S1S2   4.408898268763867"
      ]
     },
     "execution_count": 14,
     "metadata": {},
     "output_type": "execute_result"
    }
   ],
   "source": [
    "amended_portfolio[['company_name', 'time_frame', 'scope', 'temperature_score']].head(9)"
   ]
  },
  {
   "cell_type": "markdown",
   "metadata": {},
   "source": [
    "## Calculate the aggregated temperature score\n",
    "Calculate an aggregated temperature score. This can be done using different aggregation methods. Here we'll use the \"Weighted Average Temperature Score\" (WATS) by initializing the TemperatureScore Object with PortfolioAggregationMethod.WATS. The temperature scores are calculated per time-frame/scope combination.\n"
   ]
  },
  {
   "cell_type": "code",
   "execution_count": 15,
   "metadata": {},
   "outputs": [],
   "source": [
    "aggregated_scores = temperature_score.aggregate_scores(amended_portfolio)"
   ]
  },
  {
   "cell_type": "code",
   "execution_count": 16,
   "metadata": {},
   "outputs": [
    {
     "data": {
      "text/html": [
       "3.0526411693212 delta_degree_Celsius"
      ],
      "text/latex": [
       "$3.0526411693212\\ \\mathrm{delta\\_degree\\_Celsius}$"
      ],
      "text/plain": [
       "3.0526411693212 <Unit('delta_degree_Celsius')>"
      ]
     },
     "execution_count": 16,
     "metadata": {},
     "output_type": "execute_result"
    }
   ],
   "source": [
    "aggregated_scores.long.S1S2.all.score"
   ]
  },
  {
   "cell_type": "markdown",
   "metadata": {},
   "source": [
    "\n",
    "The first analysis of your portfolio could be to understand if you have any particular hotspots in your portfolio. We can do that by analysing different groupings of companies.\n",
    "\n",
    "The tool allows you to calculate temperature scores for _groups_ of companies. In this example we group the scores by sector and region, and leave the timeframe and scope unchanged. Any categorical variable in the data provided by you or your data provider (in the `test_company_data.xlsx` imported above) can be used as grouping variable, e.g. sectors, industries, regions, countries, market cap buckets, as well as the additional fields you imported via the portfolio data.\n",
    "\n",
    "You can change the variable by which the data is grouped by replacing the fourth line in the following cell. For example, replacing \"grouping=['sector', 'region']\" by \"grouping=['sector', 'country']\" would result in temperature scores per sector per country. \n",
    "If you want to change the time frame as well, please refer to the section 'Calculate the company temperature scores' above.\n",
    "\n"
   ]
  },
  {
   "cell_type": "code",
   "execution_count": 17,
   "metadata": {
    "scrolled": true
   },
   "outputs": [
    {
     "name": "stderr",
     "output_type": "stream",
     "text": [
      "2023-08-03 22:50:21,331 - ITR.temperature_score - INFO - calculating temperature score for 30 companies\n",
      "2023-08-03 22:50:21,932 - ITR.temperature_score - INFO - temperature score preparing data\n",
      "2023-08-03 22:50:21,958 - ITR.temperature_score - INFO - temperature score data prepared\n"
     ]
    }
   ],
   "source": [
    "grouping = ['sector', 'region']\n",
    "temperature_score.grouping = grouping\n",
    "grouped_portfolio = temperature_score.calculate(data_warehouse=excel_provider, portfolio=companies)\n",
    "grouped_aggregations = temperature_score.aggregate_scores(grouped_portfolio)"
   ]
  },
  {
   "cell_type": "markdown",
   "metadata": {},
   "source": [
    "\n",
    "The aggregated scores can then be used, for example, to show the relation between sectors and regions with respect to temperature score.\n",
    "A visualization of this relation is shown in the heatmap below. The grey fields indicate that the portfolio contains no assest for those combinations.\n",
    "\n",
    "##### Quick analysis\n",
    "\n",
    "We can see here that our Suth American Steelis in reasonable shape. While Asian Steel can be improved as shown in the drill down below the graph\n",
    "\n"
   ]
  },
  {
   "cell_type": "code",
   "execution_count": 18,
   "metadata": {},
   "outputs": [
    {
     "data": {
      "image/png": "[encoded data removed]",
      "text/plain": [
       "<Figure size 180x320 with 2 Axes>"
      ]
     },
     "metadata": {},
     "output_type": "display_data"
    }
   ],
   "source": [
    "analysis_parameters = ([ETimeFrames.LONG], [EScope.S1S2], grouping)\n",
    "plot_grouped_heatmap(grouped_aggregations, analysis_parameters)"
   ]
  },
  {
   "cell_type": "code",
   "execution_count": 19,
   "metadata": {},
   "outputs": [
    {
     "data": {
      "text/html": [
       "<div>\n",
       "<style scoped>\n",
       "    .dataframe tbody tr th:only-of-type {\n",
       "        vertical-align: middle;\n",
       "    }\n",
       "\n",
       "    .dataframe tbody tr th {\n",
       "        vertical-align: top;\n",
       "    }\n",
       "\n",
       "    .dataframe thead th {\n",
       "        text-align: right;\n",
       "    }\n",
       "</style>\n",
       "<table border=\"1\" class=\"dataframe\">\n",
       "  <thead>\n",
       "    <tr style=\"text-align: right;\">\n",
       "      <th></th>\n",
       "      <th>group</th>\n",
       "      <th>company_name</th>\n",
       "      <th>company_id</th>\n",
       "      <th>temperature_score</th>\n",
       "      <th>contribution_relative</th>\n",
       "    </tr>\n",
       "  </thead>\n",
       "  <tbody>\n",
       "    <tr>\n",
       "      <th>0</th>\n",
       "      <td>Steel-Asia</td>\n",
       "      <td>Company E</td>\n",
       "      <td>SE0000000005</td>\n",
       "      <td>4.187047480981944 delta_degree_Celsius</td>\n",
       "      <td>22.78618388591691 percent</td>\n",
       "    </tr>\n",
       "    <tr>\n",
       "      <th>1</th>\n",
       "      <td>Steel-Asia</td>\n",
       "      <td>Company L</td>\n",
       "      <td>BR0000000012</td>\n",
       "      <td>3.3256503012052514 delta_degree_Celsius</td>\n",
       "      <td>18.098404579292275 percent</td>\n",
       "    </tr>\n",
       "    <tr>\n",
       "      <th>2</th>\n",
       "      <td>Steel-Asia</td>\n",
       "      <td>Company H</td>\n",
       "      <td>CN0000000008</td>\n",
       "      <td>3.071845822136902 delta_degree_Celsius</td>\n",
       "      <td>16.717184147140767 percent</td>\n",
       "    </tr>\n",
       "    <tr>\n",
       "      <th>3</th>\n",
       "      <td>Steel-Asia</td>\n",
       "      <td>Company D</td>\n",
       "      <td>SE0000000004</td>\n",
       "      <td>2.908078235875641 delta_degree_Celsius</td>\n",
       "      <td>15.825950323772062 percent</td>\n",
       "    </tr>\n",
       "    <tr>\n",
       "      <th>4</th>\n",
       "      <td>Steel-Asia</td>\n",
       "      <td>Company G</td>\n",
       "      <td>CN0000000007</td>\n",
       "      <td>2.8772728932675453 delta_degree_Celsius</td>\n",
       "      <td>15.658305651834379 percent</td>\n",
       "    </tr>\n",
       "    <tr>\n",
       "      <th>5</th>\n",
       "      <td>Steel-Asia</td>\n",
       "      <td>Company C</td>\n",
       "      <td>IT0000000003</td>\n",
       "      <td>2.005483530594587 delta_degree_Celsius</td>\n",
       "      <td>10.913971412043603 percent</td>\n",
       "    </tr>\n",
       "  </tbody>\n",
       "</table>\n",
       "</div>"
      ],
      "text/plain": [
       "        group company_name    company_id  \\\n",
       "0  Steel-Asia    Company E  SE0000000005   \n",
       "1  Steel-Asia    Company L  BR0000000012   \n",
       "2  Steel-Asia    Company H  CN0000000008   \n",
       "3  Steel-Asia    Company D  SE0000000004   \n",
       "4  Steel-Asia    Company G  CN0000000007   \n",
       "5  Steel-Asia    Company C  IT0000000003   \n",
       "\n",
       "                         temperature_score       contribution_relative  \n",
       "0   4.187047480981944 delta_degree_Celsius   22.78618388591691 percent  \n",
       "1  3.3256503012052514 delta_degree_Celsius  18.098404579292275 percent  \n",
       "2   3.071845822136902 delta_degree_Celsius  16.717184147140767 percent  \n",
       "3   2.908078235875641 delta_degree_Celsius  15.825950323772062 percent  \n",
       "4  2.8772728932675453 delta_degree_Celsius  15.658305651834379 percent  \n",
       "5   2.005483530594587 delta_degree_Celsius  10.913971412043603 percent  "
      ]
     },
     "execution_count": 19,
     "metadata": {},
     "output_type": "execute_result"
    }
   ],
   "source": [
    "region =  'Asia'\n",
    "sector = 'Steel'\n",
    "group = sector + '-' + region\n",
    "group_contributions = get_contributions_per_group(grouped_aggregations, analysis_parameters, group)\n",
    "group_contributions.round(2)"
   ]
  },
  {
   "cell_type": "markdown",
   "metadata": {},
   "source": [
    "#### Sector analysis\n",
    "\n",
    "Sector analysis may help us with bringing some clarity into our analysis from the heatmap above. In order to identify the companies that your portfolio would most benefit from engaging with, we can start with identifying the biggest contributing sectors to the portfolio's temperature score, as in our example below.\n",
    "\n",
    "Contributions can be identified on an individual company level, as well as contributions from companies grouped by one of their characteristics, e.g. sector or region. The exact definitions of companies' contributions to the portfolio temperature scores depend on the selected aggregation method.\n",
    "\n",
    "You can group companies on any categorical variable (e.g. sectors, countries, market cap buckets, investment strategies, etc)  you provide through your dataprovider, in this example in the test_company_data.xlsx imported above.\n",
    "\n",
    "For our analysis we select one time-frame (LONG) and one scope (S1+S2) and group the outcomes on sector and compare AUM to temperature score contribution. We also then display the sector temperature scores.\n",
    "\n",
    "##### Quick analysis\n",
    "\n",
    "In this example we can see that both sectors Steel and Electricity are scoring above 2.0C. \n"
   ]
  },
  {
   "cell_type": "code",
   "execution_count": 20,
   "metadata": {},
   "outputs": [
    {
     "name": "stderr",
     "output_type": "stream",
     "text": [
      "2023-08-03 22:50:22,546 - ITR.temperature_score - INFO - calculating temperature score for 30 companies\n",
      "2023-08-03 22:50:23,131 - ITR.temperature_score - INFO - temperature score preparing data\n",
      "2023-08-03 22:50:23,156 - ITR.temperature_score - INFO - temperature score data prepared\n",
      "/Users/michael/opt/miniconda3/envs/itr_env/lib/python3.11/site-packages/pandas/core/dtypes/cast.py:1594: UnitStrippedWarning: The unit of the quantity is stripped when downcasting to ndarray.\n",
      "  result[:] = values\n"
     ]
    }
   ],
   "source": [
    "time_frames = [ETimeFrames.LONG]\n",
    "scopes = [EScope.S1S2]\n",
    "grouping = ['sector']\n",
    "analysis_parameters = (time_frames, scopes, grouping)\n",
    "\n",
    "temperature_score = TemperatureScore(time_frames=time_frames,\n",
    "                                     scopes=scopes,\n",
    "                                     grouping=grouping)\n",
    "amended_portfolio = temperature_score.calculate(data_warehouse=excel_provider, portfolio=companies)\n",
    "aggregated_portfolio = temperature_score.aggregate_scores(amended_portfolio)\n",
    "company_contributions = collect_company_contributions(aggregated_portfolio, amended_portfolio, analysis_parameters)"
   ]
  },
  {
   "cell_type": "code",
   "execution_count": 21,
   "metadata": {},
   "outputs": [
    {
     "data": {
      "image/png": "[encoded data removed]",
      "text/plain": [
       "<Figure size 1000x750 with 3 Axes>"
      ]
     },
     "metadata": {},
     "output_type": "display_data"
    }
   ],
   "source": [
    "plot_grouped_statistics(aggregated_portfolio, company_contributions.pint.dequantify().droplevel(level=1, axis=1), analysis_parameters)"
   ]
  },
  {
   "cell_type": "markdown",
   "metadata": {},
   "source": [
    "We can use what we learned from this analysis to drill into a few of the highest contributing scoring sectors to see which\n",
    "companies are the biggest contributors on the sector level. Considering the Steel sector, for instance, in the\n",
    "table below.\n"
   ]
  },
  {
   "cell_type": "code",
   "execution_count": 22,
   "metadata": {},
   "outputs": [
    {
     "data": {
      "text/html": [
       "<div>\n",
       "<style scoped>\n",
       "    .dataframe tbody tr th:only-of-type {\n",
       "        vertical-align: middle;\n",
       "    }\n",
       "\n",
       "    .dataframe tbody tr th {\n",
       "        vertical-align: top;\n",
       "    }\n",
       "\n",
       "    .dataframe thead tr th {\n",
       "        text-align: left;\n",
       "    }\n",
       "</style>\n",
       "<table border=\"1\" class=\"dataframe\">\n",
       "  <thead>\n",
       "    <tr>\n",
       "      <th></th>\n",
       "      <th>company_name</th>\n",
       "      <th>sector</th>\n",
       "      <th>contribution</th>\n",
       "      <th>temperature_score</th>\n",
       "      <th>ownership_percentage</th>\n",
       "      <th>portfolio_percentage</th>\n",
       "    </tr>\n",
       "    <tr>\n",
       "      <th>unit</th>\n",
       "      <th>No Unit</th>\n",
       "      <th>No Unit</th>\n",
       "      <th>percent</th>\n",
       "      <th>delta_degree_Celsius</th>\n",
       "      <th>dimensionless</th>\n",
       "      <th>dimensionless</th>\n",
       "    </tr>\n",
       "  </thead>\n",
       "  <tbody>\n",
       "    <tr>\n",
       "      <th>2</th>\n",
       "      <td>Company E</td>\n",
       "      <td>Steel</td>\n",
       "      <td>5.6</td>\n",
       "      <td>4.19</td>\n",
       "      <td>3.39</td>\n",
       "      <td>4.08</td>\n",
       "    </tr>\n",
       "    <tr>\n",
       "      <th>5</th>\n",
       "      <td>Company L</td>\n",
       "      <td>Steel</td>\n",
       "      <td>4.45</td>\n",
       "      <td>3.33</td>\n",
       "      <td>0.15</td>\n",
       "      <td>4.08</td>\n",
       "    </tr>\n",
       "    <tr>\n",
       "      <th>8</th>\n",
       "      <td>Company AV</td>\n",
       "      <td>Steel</td>\n",
       "      <td>4.26</td>\n",
       "      <td>3.19</td>\n",
       "      <td>0.14</td>\n",
       "      <td>4.08</td>\n",
       "    </tr>\n",
       "    <tr>\n",
       "      <th>9</th>\n",
       "      <td>Company H</td>\n",
       "      <td>Steel</td>\n",
       "      <td>4.11</td>\n",
       "      <td>3.07</td>\n",
       "      <td>0.18</td>\n",
       "      <td>4.08</td>\n",
       "    </tr>\n",
       "    <tr>\n",
       "      <th>10</th>\n",
       "      <td>Company D</td>\n",
       "      <td>Steel</td>\n",
       "      <td>3.89</td>\n",
       "      <td>2.91</td>\n",
       "      <td>0.48</td>\n",
       "      <td>4.08</td>\n",
       "    </tr>\n",
       "    <tr>\n",
       "      <th>11</th>\n",
       "      <td>Company G</td>\n",
       "      <td>Steel</td>\n",
       "      <td>3.85</td>\n",
       "      <td>2.88</td>\n",
       "      <td>0.05</td>\n",
       "      <td>4.08</td>\n",
       "    </tr>\n",
       "    <tr>\n",
       "      <th>14</th>\n",
       "      <td>Company C</td>\n",
       "      <td>Steel</td>\n",
       "      <td>2.68</td>\n",
       "      <td>2.01</td>\n",
       "      <td>0.34</td>\n",
       "      <td>4.08</td>\n",
       "    </tr>\n",
       "    <tr>\n",
       "      <th>20</th>\n",
       "      <td>Company B</td>\n",
       "      <td>Steel</td>\n",
       "      <td>1.84</td>\n",
       "      <td>1.37</td>\n",
       "      <td>1.51</td>\n",
       "      <td>4.08</td>\n",
       "    </tr>\n",
       "  </tbody>\n",
       "</table>\n",
       "</div>"
      ],
      "text/plain": [
       "     company_name  sector contribution    temperature_score  \\\n",
       "unit      No Unit No Unit      percent delta_degree_Celsius   \n",
       "2       Company E   Steel          5.6                 4.19   \n",
       "5       Company L   Steel         4.45                 3.33   \n",
       "8      Company AV   Steel         4.26                 3.19   \n",
       "9       Company H   Steel         4.11                 3.07   \n",
       "10      Company D   Steel         3.89                 2.91   \n",
       "11      Company G   Steel         3.85                 2.88   \n",
       "14      Company C   Steel         2.68                 2.01   \n",
       "20      Company B   Steel         1.84                 1.37   \n",
       "\n",
       "     ownership_percentage portfolio_percentage  \n",
       "unit        dimensionless        dimensionless  \n",
       "2                    3.39                 4.08  \n",
       "5                    0.15                 4.08  \n",
       "8                    0.14                 4.08  \n",
       "9                    0.18                 4.08  \n",
       "10                   0.48                 4.08  \n",
       "11                   0.05                 4.08  \n",
       "14                   0.34                 4.08  \n",
       "20                   1.51                 4.08  "
      ]
     },
     "execution_count": 22,
     "metadata": {},
     "output_type": "execute_result"
    }
   ],
   "source": [
    "sector_contributions = company_contributions[['company_name', 'sector', 'contribution', 'temperature_score', 'ownership_percentage', 'portfolio_percentage']]\n",
    "asPintDataFrame(sector_contributions[sector_contributions['sector'] == 'Steel'][:10]).pint.dequantify().round(2)"
   ]
  },
  {
   "cell_type": "markdown",
   "metadata": {},
   "source": [
    "### Save your data for further analysis\n",
    "To take your analysis outside of this notebook and for example for internal and client reporting, you can export all data to Excel and the clipboard for pasting into and analysing in other applications.\n",
    "\n",
    "If you run the ITR tool locally or from Google Colab, you:\n",
    "- Specify the filenames of the output files in the cell below, e.g. change 'data_dump.xlsx' in the first line to 'TS_output.xlsx'\n",
    "- Run the cell below"
   ]
  },
  {
   "cell_type": "code",
   "execution_count": 23,
   "metadata": {
    "pycharm": {
     "name": "#%%\n"
    }
   },
   "outputs": [],
   "source": [
    "data_dump_filename = 'data_dump.xlsx'\n",
    "amended_portfolio.set_index(['company_name'], append=True).to_excel(data_dump_filename)"
   ]
  },
  {
   "cell_type": "code",
   "execution_count": 24,
   "metadata": {
    "pycharm": {
     "name": "#%%\n"
    }
   },
   "outputs": [],
   "source": [
    "data_dump_filename = 'data_dump_dequantified.xlsx'\n",
    "amended_portfolio.set_index(['company_name'], append=True).pint.dequantify().to_excel(data_dump_filename)"
   ]
  },
  {
   "cell_type": "code",
   "execution_count": null,
   "metadata": {},
   "outputs": [],
   "source": []
  }
 ],
 "metadata": {
  "kernelspec": {
   "display_name": "Python 3 (ipykernel)",
   "language": "python",
   "name": "python3"
  },
  "language_info": {
   "codemirror_mode": {
    "name": "ipython",
    "version": 3
   },
   "file_extension": ".py",
   "mimetype": "text/x-python",
   "name": "python",
   "nbconvert_exporter": "python",
   "pygments_lexer": "ipython3",
   "version": "3.11.0"
  }
 },
 "nbformat": 4,
 "nbformat_minor": 4
}
