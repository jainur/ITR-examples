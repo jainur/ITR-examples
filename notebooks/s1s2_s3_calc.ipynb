{
 "cells": [
  {
   "cell_type": "markdown",
   "metadata": {
    "tags": []
   },
   "source": [
    "# S1S2 / S3 Temperature Score Calculation\n",
    "\n",
    "This notebook provides a comparison between temparature calculation for scopes S1S2 and S3"
   ]
  },
  {
   "cell_type": "markdown",
   "metadata": {
    "tags": []
   },
   "source": [
    "## Getting started\n",
    "Make sure you are running the notebook with the requirements installed available in the example folder.\n",
    "\n",
    "If you see errors when attempting to load the ITR modules, go to the top-level ITR directory, activate the `itr_env` conda environment (using `conda activate itr_env` and execute the command `pip install -e .`.  Then try again, or hit the <i class=\"fas fa-forward\"></i> button above."
   ]
  },
  {
   "cell_type": "code",
   "execution_count": 1,
   "metadata": {},
   "outputs": [],
   "source": [
    "import os\n",
    "import sys\n",
    "import warnings"
   ]
  },
  {
   "cell_type": "markdown",
   "metadata": {
    "tags": []
   },
   "source": [
    "If all is well, the list of paths below will prioritize loading from the environment established for the ITR tool.  Please contact us if not."
   ]
  },
  {
   "cell_type": "code",
   "execution_count": 2,
   "metadata": {
    "tags": []
   },
   "outputs": [
    {
     "data": {
      "text/plain": [
       "['/Users/michael/Documents/GitHub/MichaelTiemannOSC/ITR/examples',\n",
       " '/Users/michael/Documents/GitHub/MichaelTiemannOSC/ITR/examples',\n",
       " '/Library/Application Support/Blackmagic Design/DaVinci Resolve/Developer/Scripting/Modules',\n",
       " '/Users/michael/opt/miniconda3/envs/itr_env/lib/python39.zip',\n",
       " '/Users/michael/opt/miniconda3/envs/itr_env/lib/python3.9',\n",
       " '/Users/michael/opt/miniconda3/envs/itr_env/lib/python3.9/lib-dynload',\n",
       " '',\n",
       " '/Users/michael/.local/lib/python3.9/site-packages',\n",
       " '/Users/michael/opt/miniconda3/envs/itr_env/lib/python3.9/site-packages',\n",
       " '/Users/michael/Documents/GitHub/MichaelTiemannOSC/pint',\n",
       " '/Users/michael/Documents/GitHub/MichaelTiemannOSC/pint-pandas',\n",
       " '/Users/michael/Documents/GitHub/globalwarmingpotentials/src',\n",
       " '/Users/michael/Documents/GitHub/MichaelTiemannOSC/ITR']"
      ]
     },
     "metadata": {},
     "output_type": "display_data"
    }
   ],
   "source": [
    "display(sys.path)"
   ]
  },
  {
   "cell_type": "code",
   "execution_count": 3,
   "metadata": {
    "tags": []
   },
   "outputs": [],
   "source": [
    "# Load the ITR library files\n",
    "\n",
    "import ITR\n",
    "from ITR.data.excel import ExcelProviderProductionBenchmark, ExcelProviderIntensityBenchmark\n",
    "from ITR.data.template import TemplateProviderCompany\n",
    "from ITR.data.base_providers import BaseProviderProductionBenchmark, BaseProviderIntensityBenchmark\n",
    "from ITR.data.data_warehouse import DataWarehouse\n",
    "from ITR.portfolio_aggregation import PortfolioAggregationMethod\n",
    "from ITR.temperature_score import TemperatureScore\n",
    "from ITR.interfaces import ETimeFrames, EScope, IProductionBenchmarkScopes, IEIBenchmarkScopes\n",
    "import pandas as pd\n",
    "\n",
    "from ITR.data.osc_units import ureg, Q_, PA_, requantify_df_from_columns"
   ]
  },
  {
   "cell_type": "code",
   "execution_count": 4,
   "metadata": {},
   "outputs": [
    {
     "name": "stdout",
     "output_type": "stream",
     "text": [
      "Testing unit registry\n",
      "=====================\n",
      "The gas species CO2e, which was a gwp of 1: 1 CO2e\n",
      "A gigaton of CO2e: 1 CO2e * gigametric_ton\n"
     ]
    }
   ],
   "source": [
    "print(\"Testing unit registry\\n=====================\")\n",
    "one_co2 = ureg(\"CO2e\")\n",
    "print(f\"The gas species CO2e, which was a gwp of 1: {one_co2}\")\n",
    "\n",
    "one_Gt_co2 = ureg(\"Gt CO2e\")\n",
    "print(f\"A gigaton of CO2e: {one_Gt_co2}\")"
   ]
  },
  {
   "cell_type": "markdown",
   "metadata": {},
   "source": [
    "## Load the production and intensity benchmarks\n",
    "\n",
    "Prepare the various benchmark files; the OECM benchmark is the default after the next cell finishes."
   ]
  },
  {
   "cell_type": "code",
   "execution_count": 5,
   "metadata": {},
   "outputs": [],
   "source": [
    "import json\n",
    "\n",
    "self_root = os.path.abspath('')\n",
    "benchmark_prod_json = os.path.join(self_root, \"data\", \"json-units\", \"benchmark_production_OECM.json\")\n",
    "benchmark_EI_OECM_S1S2 = os.path.join(self_root, \"data\", \"json-units\", \"benchmark_EI_OECM_PC.json\")\n",
    "benchmark_EI_OECM_S3 = os.path.join(self_root, \"data\", \"json-units\", \"benchmark_EI_OECM_S3.json\")\n",
    "\n",
    "# load production benchmarks\n",
    "with open(benchmark_prod_json) as json_file:\n",
    "    parsed_json = json.load(json_file)\n",
    "prod_bms = IProductionBenchmarkScopes.parse_obj(parsed_json)\n",
    "base_production_bm = BaseProviderProductionBenchmark(production_benchmarks=prod_bms)\n",
    "\n",
    "# load intensity benchmarks\n",
    "\n",
    "# OECM for scope S1S2\n",
    "with open(benchmark_EI_OECM_S1S2) as json_file:\n",
    "    parsed_json = json.load(json_file)\n",
    "ei_bms_s1s2 = IEIBenchmarkScopes.parse_obj(parsed_json)\n",
    "OECM_EI_bm_s1s2 = BaseProviderIntensityBenchmark(EI_benchmarks=ei_bms_s1s2)\n",
    "\n",
    "# OECM for scope S3\n",
    "with open(benchmark_EI_OECM_S3) as json_file:\n",
    "    parsed_json = json.load(json_file)\n",
    "ei_bms_s3 = IEIBenchmarkScopes.parse_obj(parsed_json)\n",
    "OECM_EI_bm_s3 = BaseProviderIntensityBenchmark(EI_benchmarks=ei_bms_s3)\n",
    "\n",
    "base_intensity_bm_s1s2 = OECM_EI_bm_s1s2\n",
    "base_intensity_bm_s3 = OECM_EI_bm_s3"
   ]
  },
  {
   "cell_type": "markdown",
   "metadata": {
    "tags": []
   },
   "source": [
    "## Download/load the sample template data\n"
   ]
  },
  {
   "cell_type": "code",
   "execution_count": 6,
   "metadata": {
    "tags": []
   },
   "outputs": [],
   "source": [
    "import urllib.request\n",
    "\n",
    "if not os.path.isdir(\"data\"):\n",
    "    os.mkdir(\"data\")\n",
    "\n",
    "for filename in ['data/20220927 ITR Tool Sample Data.xlsx',\n",
    "                 'data/OECM_EI_and_production_benchmarks.xlsx',\n",
    "                 'utils.py']:\n",
    "    if not os.path.isfile(filename):\n",
    "        # Get a specific content file:\n",
    "        contents = repo.get_contents(f\"examples/{filename}\")\n",
    "\n",
    "        # Donwnload file form ContenFile object info:\n",
    "        urllib.urlretrieve(contents.download_url, filename)\n",
    "\n",
    "try:  # Import statement when run in remote Jupyter servers from AWS Google etc..\n",
    "    from utils import collect_company_contributions, plot_grouped_statistics, anonymize, \\\n",
    "        plot_grouped_heatmap, print_grouped_scores, get_contributions_per_group\n",
    "except:  # Import statement when run locally\n",
    "    from utils import collect_company_contributions, plot_grouped_statistics, anonymize, \\\n",
    "        plot_grouped_heatmap, print_grouped_scores, get_contributions_per_group\n",
    "\n",
    "template_data_path = \"data/20220927 ITR Tool Sample Data.xlsx\""
   ]
  },
  {
   "cell_type": "markdown",
   "metadata": {},
   "source": [
    "### Logging\n",
    "The ITR module uses the Python standard library logging utilities to send log messages. The log level can be changed according to the user's needs."
   ]
  },
  {
   "cell_type": "code",
   "execution_count": 7,
   "metadata": {},
   "outputs": [],
   "source": [
    "import logging\n",
    "root_logger = logging.getLogger()\n",
    "root_logger.setLevel(\"INFO\")"
   ]
  },
  {
   "cell_type": "markdown",
   "metadata": {},
   "source": [
    "## Create a data provider"
   ]
  },
  {
   "cell_type": "code",
   "execution_count": 8,
   "metadata": {},
   "outputs": [
    {
     "name": "stderr",
     "output_type": "stream",
     "text": [
      "2023-06-08 20:24:12,361 - ITR.data.template - WARNING - Missing target start year set to 2021 for companies with ID: ['US0185223007', 'US0188021085', 'US0236081024', 'US0255371017', 'US05351W1036-E', 'US05351W1036-U', 'US0921131092', 'US1442851036', 'US18551QAA58', 'US25746U1097', 'US26441C2044', 'US30034W1062', 'US5526901096', 'JP3633400001']\n"
     ]
    }
   ],
   "source": [
    "# Remove the # and space on the next line to point the template_data_path variable at your own data\n",
    "# template_data_path = \"data/your_template_here.xlsx\"\n",
    "\n",
    "template_company_data = TemplateProviderCompany(excel_path=template_data_path)"
   ]
  },
  {
   "cell_type": "raw",
   "metadata": {},
   "source": [
    "excel_production_bm = ExcelProviderProductionBenchmark(excel_path=\"data/OECM_EI_and_production_benchmarks.xlsx\")"
   ]
  },
  {
   "cell_type": "raw",
   "metadata": {},
   "source": [
    "excel_EI_bm = ExcelProviderIntensityBenchmark(excel_path=\"data/OECM_EI_and_production_benchmarks.xlsx\",\n",
    "                                              benchmark_temperature=Q_(1.5, ureg.delta_degC),\n",
    "                                              benchmark_global_budget=396 * ureg('Gt CO2'),\n",
    "                                              is_AFOLU_included=False)"
   ]
  },
  {
   "cell_type": "markdown",
   "metadata": {},
   "source": [
    "## Create the Data Warehouse"
   ]
  },
  {
   "cell_type": "code",
   "execution_count": 9,
   "metadata": {},
   "outputs": [
    {
     "data": {
      "text/plain": [
       "ProductionMetric('GWh')"
      ]
     },
     "execution_count": 9,
     "metadata": {},
     "output_type": "execute_result"
    }
   ],
   "source": [
    "template_company_data._companies[0].production_metric"
   ]
  },
  {
   "cell_type": "code",
   "execution_count": 10,
   "metadata": {},
   "outputs": [
    {
     "name": "stderr",
     "output_type": "stream",
     "text": [
      "2023-06-08 20:24:19,109 - ITR.data.data_warehouse - INFO - new_production_bm calculating trajectories for 76 companies (times 5 scopes times 31 years)\n"
     ]
    },
    {
     "name": "stdout",
     "output_type": "stream",
     "text": [
      "S1S2:\n",
      "Benchmark Temperature = 1.5 delta_degree_Celsius\n",
      "Benchmark Global Budget = 521.0526315789474 CO2 * gigametric_ton\n",
      "AFOLU included = False\n"
     ]
    },
    {
     "name": "stderr",
     "output_type": "stream",
     "text": [
      "2023-06-08 20:24:29,488 - ITR.data.base_providers - INFO - Normalizing intensity metrics\n",
      "2023-06-08 20:24:29,776 - ITR.data.base_providers - INFO - Done normalizing intensity metrics\n",
      "2023-06-08 20:24:29,776 - ITR.data.data_warehouse - INFO - projecting targets for 76 companies (times 5 scopes times 31 years)\n"
     ]
    },
    {
     "name": "stdout",
     "output_type": "stream",
     "text": [
      "S3:\n",
      "Benchmark Temperature = 1.5 delta_degree_Celsius\n",
      "Benchmark Global Budget = 521.0526315789474 CO2 * gigametric_ton\n",
      "AFOLU included = False\n"
     ]
    }
   ],
   "source": [
    "\n",
    "print(f\"S1S2:\\nBenchmark Temperature = {base_intensity_bm_s1s2.benchmark_temperature}\\n\\\n",
    "Benchmark Global Budget = {base_intensity_bm_s1s2.benchmark_global_budget}\\n\\\n",
    "AFOLU included = {base_intensity_bm_s1s2.is_AFOLU_included}\")\n",
    "\n",
    "template_provider_s3 = DataWarehouse(template_company_data, base_production_bm, base_intensity_bm_s3)\n",
    "print(f\"S3:\\nBenchmark Temperature = {base_intensity_bm_s3.benchmark_temperature}\\n\\\n",
    "Benchmark Global Budget = {base_intensity_bm_s3.benchmark_global_budget}\\n\\\n",
    "AFOLU included = {base_intensity_bm_s3.is_AFOLU_included}\")"
   ]
  },
  {
   "cell_type": "markdown",
   "metadata": {},
   "source": [
    "## Load your portfolio\n",
    "\n",
    "The portfolio data is a sheet in the Data Template named \"Portfolio\".\n",
    "\n",
    "Please see the technical documentation in the [Data Template Requirements](https://github.com/os-c/ITR/blob/main/docs/DataTemplateRequirements.rst) section for details on data requirements."
   ]
  },
  {
   "cell_type": "code",
   "execution_count": 11,
   "metadata": {},
   "outputs": [
    {
     "data": {
      "text/html": [
       "<div>\n",
       "<style scoped>\n",
       "    .dataframe tbody tr th:only-of-type {\n",
       "        vertical-align: middle;\n",
       "    }\n",
       "\n",
       "    .dataframe tbody tr th {\n",
       "        vertical-align: top;\n",
       "    }\n",
       "\n",
       "    .dataframe thead th {\n",
       "        text-align: right;\n",
       "    }\n",
       "</style>\n",
       "<table border=\"1\" class=\"dataframe\">\n",
       "  <thead>\n",
       "    <tr style=\"text-align: right;\">\n",
       "      <th></th>\n",
       "      <th>company_name</th>\n",
       "      <th>company_lei</th>\n",
       "      <th>company_id</th>\n",
       "      <th>company_isin</th>\n",
       "      <th>investment_value</th>\n",
       "    </tr>\n",
       "  </thead>\n",
       "  <tbody>\n",
       "    <tr>\n",
       "      <th>71</th>\n",
       "      <td>WEC Energy Group</td>\n",
       "      <td>549300IGLYTZUK3PVP70</td>\n",
       "      <td>US92939U1060</td>\n",
       "      <td>US92939U1060</td>\n",
       "      <td>194900720.0</td>\n",
       "    </tr>\n",
       "    <tr>\n",
       "      <th>72</th>\n",
       "      <td>WORTHINGTON INDUSTRIES INC</td>\n",
       "      <td>1WRCIANKYOIK6KYE5E82</td>\n",
       "      <td>US9818111026</td>\n",
       "      <td>US9818111026</td>\n",
       "      <td>250005145.0</td>\n",
       "    </tr>\n",
       "    <tr>\n",
       "      <th>73</th>\n",
       "      <td>Xcel Energy, Inc.</td>\n",
       "      <td>LGJNMI9GH8XIDG5RCM61</td>\n",
       "      <td>US98389B1008</td>\n",
       "      <td>US98389B1008</td>\n",
       "      <td>92453214.0</td>\n",
       "    </tr>\n",
       "    <tr>\n",
       "      <th>74</th>\n",
       "      <td>Balfour Beatty</td>\n",
       "      <td>CT4UIJ3TUKGYYHMENQ17</td>\n",
       "      <td>GB0000961622</td>\n",
       "      <td>GB0000961622</td>\n",
       "      <td>139657677.0</td>\n",
       "    </tr>\n",
       "    <tr>\n",
       "      <th>75</th>\n",
       "      <td>CBRE</td>\n",
       "      <td>52990016II9MJ2OSWA10</td>\n",
       "      <td>US12504L1098</td>\n",
       "      <td>US12504L1098</td>\n",
       "      <td>142575850.0</td>\n",
       "    </tr>\n",
       "  </tbody>\n",
       "</table>\n",
       "</div>"
      ],
      "text/plain": [
       "                  company_name           company_lei    company_id  \\\n",
       "71            WEC Energy Group  549300IGLYTZUK3PVP70  US92939U1060   \n",
       "72  WORTHINGTON INDUSTRIES INC  1WRCIANKYOIK6KYE5E82  US9818111026   \n",
       "73           Xcel Energy, Inc.  LGJNMI9GH8XIDG5RCM61  US98389B1008   \n",
       "74              Balfour Beatty  CT4UIJ3TUKGYYHMENQ17  GB0000961622   \n",
       "75                        CBRE  52990016II9MJ2OSWA10  US12504L1098   \n",
       "\n",
       "    company_isin investment_value  \n",
       "71  US92939U1060      194900720.0  \n",
       "72  US9818111026      250005145.0  \n",
       "73  US98389B1008       92453214.0  \n",
       "74  GB0000961622      139657677.0  \n",
       "75  US12504L1098      142575850.0  "
      ]
     },
     "metadata": {},
     "output_type": "display_data"
    }
   ],
   "source": [
    "df_portfolio = requantify_df_from_columns(pd.read_excel(template_data_path, sheet_name=\"Portfolio\"))\n",
    "display(df_portfolio.tail())"
   ]
  },
  {
   "cell_type": "markdown",
   "metadata": {},
   "source": [
    "To load the data from the data provider, we have to pass a list of IPortfolioCompany instances. The module has a strict [data model](https://ofbdabv.github.io/ITR/autoapi/ITR/interfaces/index.html) to convert Pandas Dataframe to the right object types we supplied a utility function.\n"
   ]
  },
  {
   "cell_type": "code",
   "execution_count": 12,
   "metadata": {},
   "outputs": [],
   "source": [
    "companies = ITR.utils.dataframe_to_portfolio(df_portfolio)"
   ]
  },
  {
   "cell_type": "markdown",
   "metadata": {},
   "source": [
    "## Calculate the temperature scores\n",
    "In the enhanced portfolio you'll find your original portfolio, with calculated temperature scores, trajectory and target scores and overshoot/undershoot ration, and a temperature_result which is current set to zero for all valid calculations."
   ]
  },
  {
   "cell_type": "code",
   "execution_count": 13,
   "metadata": {},
   "outputs": [
    {
     "name": "stderr",
     "output_type": "stream",
     "text": [
      "2023-06-08 20:24:36,294 - ITR.data.data_warehouse - INFO - new_production_bm calculating trajectories for 76 companies (times 5 scopes times 31 years)\n",
      "2023-06-08 20:24:36,296 - ITR.data.base_providers - INFO - Normalizing intensity metrics\n",
      "2023-06-08 20:24:36,549 - ITR.data.base_providers - INFO - Done normalizing intensity metrics\n",
      "2023-06-08 20:24:36,550 - ITR.data.data_warehouse - INFO - projecting targets for 76 companies (times 5 scopes times 31 years)\n",
      "2023-06-08 20:24:36,550 - ITR.data.data_warehouse - INFO - Shifting S3 emissions data into S1 according to Production-Centric benchmark rules\n",
      "2023-06-08 20:24:37,317 - ITR.temperature_score - INFO - calculating temperature score for 76 companies\n",
      "2023-06-08 20:24:40,574 - ITR.temperature_score - INFO - temperature score preparing data\n",
      "2023-06-08 20:24:40,713 - ITR.temperature_score - INFO - temperature score data prepared\n",
      "2023-06-08 20:24:41,036 - ITR.temperature_score - INFO - calculating temperature score for 76 companies\n",
      "2023-06-08 20:24:44,930 - ITR.temperature_score - INFO - temperature score preparing data\n",
      "2023-06-08 20:24:44,983 - ITR.temperature_score - WARNING - Dropping companies with no relevant scope data: ['CA2908761018', 'CA3495531079', 'CA87807B1076', 'GB0000961622', 'PETRONAS_SOE', 'US0185223007', 'US0188021085', 'US0236081024', 'US0255371017', 'US0921131092', 'US1258961002', 'US1442851036', 'US18551QAA58', 'US2017231034', 'US2091151041', 'US2333311072', 'US25746U1097', 'US26441C2044', 'US29364G1031', 'US30034W1062', 'US30040W1080', 'US30161N1019', 'US3379321074', 'US3737371050', 'US4198701009', 'US5526901096', 'US6362744095', 'US65339F1012', 'US65473P1057', 'US6680743050', 'US6708371033', 'US69331C1080', 'US69349H1077', 'US69351T1060', 'US7234841010', 'US7365088472', 'US7445731067', 'US8168511090', 'US8425871071', 'US8581191009', 'US9129091081', 'US92939U1060', 'US9818111026', 'US98389B1008']\n",
      "2023-06-08 20:24:45,015 - ITR.temperature_score - INFO - temperature score data prepared\n"
     ]
    }
   ],
   "source": [
    "template_provider = DataWarehouse(template_company_data, base_production_bm, base_intensity_bm_s1s2)\n",
    "temperature_score_s1s2 = TemperatureScore(\n",
    "    time_frames = [ETimeFrames.LONG],\n",
    "    scopes=[EScope.S1S2],\n",
    "    aggregation_method=PortfolioAggregationMethod.WATS # Options for the aggregation method are WATS, TETS, AOTS, MOTS, EOTS, ECOTS, and ROTS.\n",
    ")\n",
    "enhanced_portfolio_s1s2 = temperature_score_s1s2.calculate(data_warehouse=template_provider, portfolio=companies)\n",
    "\n",
    "temperature_score_s3 = TemperatureScore(\n",
    "    time_frames = [ETimeFrames.LONG],\n",
    "    scopes=[EScope.S3],\n",
    "    aggregation_method=PortfolioAggregationMethod.WATS # Options for the aggregation method are WATS, TETS, AOTS, MOTS, EOTS, ECOTS, and ROTS.\n",
    ")\n",
    "template_provider.update_benchmarks(base_production_bm, base_intensity_bm_s3)\n",
    "enhanced_portfolio_s3 = temperature_score_s3.calculate(data_warehouse=template_provider, portfolio=companies)"
   ]
  },
  {
   "cell_type": "markdown",
   "metadata": {},
   "source": [
    "For every company the tool assigns a score for all the requested timeframe and scope combinations."
   ]
  },
  {
   "cell_type": "code",
   "execution_count": 14,
   "metadata": {},
   "outputs": [
    {
     "data": {
      "text/html": [
       "<div>\n",
       "<style scoped>\n",
       "    .dataframe tbody tr th:only-of-type {\n",
       "        vertical-align: middle;\n",
       "    }\n",
       "\n",
       "    .dataframe tbody tr th {\n",
       "        vertical-align: top;\n",
       "    }\n",
       "\n",
       "    .dataframe thead th {\n",
       "        text-align: right;\n",
       "    }\n",
       "</style>\n",
       "<table border=\"1\" class=\"dataframe\">\n",
       "  <thead>\n",
       "    <tr style=\"text-align: right;\">\n",
       "      <th></th>\n",
       "      <th>company_name</th>\n",
       "      <th>time_frame</th>\n",
       "      <th>scope</th>\n",
       "      <th>temperature_score</th>\n",
       "    </tr>\n",
       "    <tr>\n",
       "      <th>company_id</th>\n",
       "      <th></th>\n",
       "      <th></th>\n",
       "      <th></th>\n",
       "      <th></th>\n",
       "    </tr>\n",
       "  </thead>\n",
       "  <tbody>\n",
       "    <tr>\n",
       "      <th>US00130H1059</th>\n",
       "      <td>AES Corp.</td>\n",
       "      <td>LONG</td>\n",
       "      <td>S1S2</td>\n",
       "      <td>2.9794263427297234+/-0</td>\n",
       "    </tr>\n",
       "    <tr>\n",
       "      <th>US0185223007</th>\n",
       "      <td>ALLETE, Inc.</td>\n",
       "      <td>LONG</td>\n",
       "      <td>S1S2</td>\n",
       "      <td>2.72598714093074+/-0</td>\n",
       "    </tr>\n",
       "    <tr>\n",
       "      <th>US0188021085</th>\n",
       "      <td>Alliant Energy</td>\n",
       "      <td>LONG</td>\n",
       "      <td>S1S2</td>\n",
       "      <td>2.083634129448012+/-0</td>\n",
       "    </tr>\n",
       "    <tr>\n",
       "      <th>US0236081024</th>\n",
       "      <td>Ameren Corp.</td>\n",
       "      <td>LONG</td>\n",
       "      <td>S1S2</td>\n",
       "      <td>2.23110802721943+/-0</td>\n",
       "    </tr>\n",
       "    <tr>\n",
       "      <th>US0255371017</th>\n",
       "      <td>American Electric Power Co., Inc.</td>\n",
       "      <td>LONG</td>\n",
       "      <td>S1S2</td>\n",
       "      <td>2.8703555008539263+/-0</td>\n",
       "    </tr>\n",
       "    <tr>\n",
       "      <th>...</th>\n",
       "      <td>...</td>\n",
       "      <td>...</td>\n",
       "      <td>...</td>\n",
       "      <td>...</td>\n",
       "    </tr>\n",
       "    <tr>\n",
       "      <th>US92939U1060</th>\n",
       "      <td>WEC Energy Group</td>\n",
       "      <td>LONG</td>\n",
       "      <td>S1S2</td>\n",
       "      <td>2.5132342397389724+/-0</td>\n",
       "    </tr>\n",
       "    <tr>\n",
       "      <th>US9818111026</th>\n",
       "      <td>WORTHINGTON INDUSTRIES INC</td>\n",
       "      <td>LONG</td>\n",
       "      <td>S1S2</td>\n",
       "      <td>1.1990033955102688+/-0</td>\n",
       "    </tr>\n",
       "    <tr>\n",
       "      <th>US98389B1008</th>\n",
       "      <td>Xcel Energy, Inc.</td>\n",
       "      <td>LONG</td>\n",
       "      <td>S1S2</td>\n",
       "      <td>2.1565905278243367+/-0</td>\n",
       "    </tr>\n",
       "    <tr>\n",
       "      <th>GB0000961622</th>\n",
       "      <td>Balfour Beatty</td>\n",
       "      <td>LONG</td>\n",
       "      <td>S1S2</td>\n",
       "      <td>1.4774288700236453+/-0</td>\n",
       "    </tr>\n",
       "    <tr>\n",
       "      <th>US12504L1098</th>\n",
       "      <td>CBRE</td>\n",
       "      <td>LONG</td>\n",
       "      <td>S1S2</td>\n",
       "      <td>2.1494866295532664+/-0</td>\n",
       "    </tr>\n",
       "  </tbody>\n",
       "</table>\n",
       "<p>76 rows × 4 columns</p>\n",
       "</div>"
      ],
      "text/plain": [
       "                                   company_name time_frame scope  \\\n",
       "company_id                                                         \n",
       "US00130H1059                          AES Corp.       LONG  S1S2   \n",
       "US0185223007                       ALLETE, Inc.       LONG  S1S2   \n",
       "US0188021085                     Alliant Energy       LONG  S1S2   \n",
       "US0236081024                       Ameren Corp.       LONG  S1S2   \n",
       "US0255371017  American Electric Power Co., Inc.       LONG  S1S2   \n",
       "...                                         ...        ...   ...   \n",
       "US92939U1060                   WEC Energy Group       LONG  S1S2   \n",
       "US9818111026         WORTHINGTON INDUSTRIES INC       LONG  S1S2   \n",
       "US98389B1008                  Xcel Energy, Inc.       LONG  S1S2   \n",
       "GB0000961622                     Balfour Beatty       LONG  S1S2   \n",
       "US12504L1098                               CBRE       LONG  S1S2   \n",
       "\n",
       "                   temperature_score  \n",
       "company_id                            \n",
       "US00130H1059  2.9794263427297234+/-0  \n",
       "US0185223007    2.72598714093074+/-0  \n",
       "US0188021085   2.083634129448012+/-0  \n",
       "US0236081024    2.23110802721943+/-0  \n",
       "US0255371017  2.8703555008539263+/-0  \n",
       "...                              ...  \n",
       "US92939U1060  2.5132342397389724+/-0  \n",
       "US9818111026  1.1990033955102688+/-0  \n",
       "US98389B1008  2.1565905278243367+/-0  \n",
       "GB0000961622  1.4774288700236453+/-0  \n",
       "US12504L1098  2.1494866295532664+/-0  \n",
       "\n",
       "[76 rows x 4 columns]"
      ]
     },
     "metadata": {},
     "output_type": "display_data"
    }
   ],
   "source": [
    "with warnings.catch_warnings():\n",
    "    warnings.simplefilter(\"ignore\")\n",
    "    display(enhanced_portfolio_s1s2[['company_name', 'time_frame', 'scope', 'temperature_score']])"
   ]
  },
  {
   "cell_type": "code",
   "execution_count": 15,
   "metadata": {},
   "outputs": [
    {
     "data": {
      "text/html": [
       "<div>\n",
       "<style scoped>\n",
       "    .dataframe tbody tr th:only-of-type {\n",
       "        vertical-align: middle;\n",
       "    }\n",
       "\n",
       "    .dataframe tbody tr th {\n",
       "        vertical-align: top;\n",
       "    }\n",
       "\n",
       "    .dataframe thead th {\n",
       "        text-align: right;\n",
       "    }\n",
       "</style>\n",
       "<table border=\"1\" class=\"dataframe\">\n",
       "  <thead>\n",
       "    <tr style=\"text-align: right;\">\n",
       "      <th></th>\n",
       "      <th>company_name</th>\n",
       "      <th>time_frame</th>\n",
       "      <th>scope</th>\n",
       "      <th>temperature_score</th>\n",
       "    </tr>\n",
       "    <tr>\n",
       "      <th>company_id</th>\n",
       "      <th></th>\n",
       "      <th></th>\n",
       "      <th></th>\n",
       "      <th></th>\n",
       "    </tr>\n",
       "  </thead>\n",
       "  <tbody>\n",
       "    <tr>\n",
       "      <th>US00130H1059</th>\n",
       "      <td>AES Corp.</td>\n",
       "      <td>LONG</td>\n",
       "      <td>S3</td>\n",
       "      <td>3.2+/-0</td>\n",
       "    </tr>\n",
       "    <tr>\n",
       "      <th>US05351W1036-E</th>\n",
       "      <td>Avangrid, Inc. (Elec)</td>\n",
       "      <td>LONG</td>\n",
       "      <td>S3</td>\n",
       "      <td>3.2+/-0</td>\n",
       "    </tr>\n",
       "    <tr>\n",
       "      <th>US05351W1036-U</th>\n",
       "      <td>Avangrid, Inc. (Util)</td>\n",
       "      <td>LONG</td>\n",
       "      <td>S3</td>\n",
       "      <td>2.3251027888551468+/-0</td>\n",
       "    </tr>\n",
       "    <tr>\n",
       "      <th>DE0005190003</th>\n",
       "      <td>BMW Group</td>\n",
       "      <td>LONG</td>\n",
       "      <td>S3</td>\n",
       "      <td>1.8172933366737691+/-0</td>\n",
       "    </tr>\n",
       "    <tr>\n",
       "      <th>GB0007980591</th>\n",
       "      <td>BP plc</td>\n",
       "      <td>LONG</td>\n",
       "      <td>S3</td>\n",
       "      <td>1.5715163257740852+/-0</td>\n",
       "    </tr>\n",
       "    <tr>\n",
       "      <th>US1667641005</th>\n",
       "      <td>Chevron Corp</td>\n",
       "      <td>LONG</td>\n",
       "      <td>S3</td>\n",
       "      <td>1.5349620591256452+/-0</td>\n",
       "    </tr>\n",
       "    <tr>\n",
       "      <th>US1858991011</th>\n",
       "      <td>CLEVELAND-CLIFFS INC</td>\n",
       "      <td>LONG</td>\n",
       "      <td>S3</td>\n",
       "      <td>1.208265629360464+/-0</td>\n",
       "    </tr>\n",
       "    <tr>\n",
       "      <th>FR0010242511</th>\n",
       "      <td>Electricité de France</td>\n",
       "      <td>LONG</td>\n",
       "      <td>S3</td>\n",
       "      <td>3.2+/-0</td>\n",
       "    </tr>\n",
       "    <tr>\n",
       "      <th>US2810201077</th>\n",
       "      <td>Edison International</td>\n",
       "      <td>LONG</td>\n",
       "      <td>S3</td>\n",
       "      <td>3.2+/-0</td>\n",
       "    </tr>\n",
       "    <tr>\n",
       "      <th>US29274F1049</th>\n",
       "      <td>Enel Americas S.A.</td>\n",
       "      <td>LONG</td>\n",
       "      <td>S3</td>\n",
       "      <td>3.2+/-0</td>\n",
       "    </tr>\n",
       "    <tr>\n",
       "      <th>US30231G1022</th>\n",
       "      <td>ExxonMobil</td>\n",
       "      <td>LONG</td>\n",
       "      <td>S3</td>\n",
       "      <td>1.5674798829415695+/-0</td>\n",
       "    </tr>\n",
       "    <tr>\n",
       "      <th>US3453708600</th>\n",
       "      <td>Ford Motor Company</td>\n",
       "      <td>LONG</td>\n",
       "      <td>S3</td>\n",
       "      <td>2.019499549869362+/-0</td>\n",
       "    </tr>\n",
       "    <tr>\n",
       "      <th>US3704421052</th>\n",
       "      <td>General Motors</td>\n",
       "      <td>LONG</td>\n",
       "      <td>S3</td>\n",
       "      <td>2.2199406046782495+/-0</td>\n",
       "    </tr>\n",
       "    <tr>\n",
       "      <th>ES0144580Y14</th>\n",
       "      <td>Iberdrola S.A.</td>\n",
       "      <td>LONG</td>\n",
       "      <td>S3</td>\n",
       "      <td>3.2+/-0</td>\n",
       "    </tr>\n",
       "    <tr>\n",
       "      <th>US56585A1025</th>\n",
       "      <td>MARATHON PETROLEUM CORPORATION</td>\n",
       "      <td>LONG</td>\n",
       "      <td>S3</td>\n",
       "      <td>1.4265841697819914+/-0</td>\n",
       "    </tr>\n",
       "    <tr>\n",
       "      <th>JP3381000003</th>\n",
       "      <td>NIPPON STEEL CORP</td>\n",
       "      <td>LONG</td>\n",
       "      <td>S3</td>\n",
       "      <td>2.091869643456153+/-0</td>\n",
       "    </tr>\n",
       "    <tr>\n",
       "      <th>US6703461052</th>\n",
       "      <td>NUCOR CORP</td>\n",
       "      <td>LONG</td>\n",
       "      <td>S3</td>\n",
       "      <td>1.4394971861501618+/-0</td>\n",
       "    </tr>\n",
       "    <tr>\n",
       "      <th>BRPETRACNPR6</th>\n",
       "      <td>PETROLEO BRASILEIRO S A PETROBRAS</td>\n",
       "      <td>LONG</td>\n",
       "      <td>S3</td>\n",
       "      <td>1.462541335702893+/-0</td>\n",
       "    </tr>\n",
       "    <tr>\n",
       "      <th>KR7005490008</th>\n",
       "      <td>POSCO</td>\n",
       "      <td>LONG</td>\n",
       "      <td>S3</td>\n",
       "      <td>1.5500700303854351+/-0</td>\n",
       "    </tr>\n",
       "    <tr>\n",
       "      <th>2222.SR</th>\n",
       "      <td>Saudi Aramco</td>\n",
       "      <td>LONG</td>\n",
       "      <td>S3</td>\n",
       "      <td>1.601074419074343+/-0</td>\n",
       "    </tr>\n",
       "    <tr>\n",
       "      <th>GB00BP6MXD84</th>\n",
       "      <td>Shell PLC</td>\n",
       "      <td>LONG</td>\n",
       "      <td>S3</td>\n",
       "      <td>1.84766319313961+/-0</td>\n",
       "    </tr>\n",
       "    <tr>\n",
       "      <th>CN0005789556</th>\n",
       "      <td>Sinopec</td>\n",
       "      <td>LONG</td>\n",
       "      <td>S3</td>\n",
       "      <td>1.4303201924997422+/-0</td>\n",
       "    </tr>\n",
       "    <tr>\n",
       "      <th>096770.SK</th>\n",
       "      <td>SK Innovation</td>\n",
       "      <td>LONG</td>\n",
       "      <td>S3</td>\n",
       "      <td>1.5818507952876875+/-0</td>\n",
       "    </tr>\n",
       "    <tr>\n",
       "      <th>US88031M1099</th>\n",
       "      <td>TENARIS SA</td>\n",
       "      <td>LONG</td>\n",
       "      <td>S3</td>\n",
       "      <td>1.5265366676381205+/-0</td>\n",
       "    </tr>\n",
       "    <tr>\n",
       "      <th>9501.T</th>\n",
       "      <td>Tokyo Electric Power Company</td>\n",
       "      <td>LONG</td>\n",
       "      <td>S3</td>\n",
       "      <td>3.2+/-0</td>\n",
       "    </tr>\n",
       "    <tr>\n",
       "      <th>US8808901081</th>\n",
       "      <td>TERNIUM S.A.</td>\n",
       "      <td>LONG</td>\n",
       "      <td>S3</td>\n",
       "      <td>1.2272763989957207+/-0</td>\n",
       "    </tr>\n",
       "    <tr>\n",
       "      <th>US88160R1014</th>\n",
       "      <td>Tesla</td>\n",
       "      <td>LONG</td>\n",
       "      <td>S3</td>\n",
       "      <td>1.2745519003994334+/-0</td>\n",
       "    </tr>\n",
       "    <tr>\n",
       "      <th>US8873991033</th>\n",
       "      <td>TIMKENSTEEL CORP</td>\n",
       "      <td>LONG</td>\n",
       "      <td>S3</td>\n",
       "      <td>1.218841951883343+/-0</td>\n",
       "    </tr>\n",
       "    <tr>\n",
       "      <th>JP3633400001</th>\n",
       "      <td>Toyota Motor Corporation</td>\n",
       "      <td>LONG</td>\n",
       "      <td>S3</td>\n",
       "      <td>1.265636544415335+/-0</td>\n",
       "    </tr>\n",
       "    <tr>\n",
       "      <th>AT0000746409</th>\n",
       "      <td>Verbund AG</td>\n",
       "      <td>LONG</td>\n",
       "      <td>S3</td>\n",
       "      <td>3.2+/-0</td>\n",
       "    </tr>\n",
       "    <tr>\n",
       "      <th>US92840M1027</th>\n",
       "      <td>Vistra Corp.</td>\n",
       "      <td>LONG</td>\n",
       "      <td>S3</td>\n",
       "      <td>3.2+/-0</td>\n",
       "    </tr>\n",
       "    <tr>\n",
       "      <th>US12504L1098</th>\n",
       "      <td>CBRE</td>\n",
       "      <td>LONG</td>\n",
       "      <td>S3</td>\n",
       "      <td>12.86391795162943+/-0</td>\n",
       "    </tr>\n",
       "  </tbody>\n",
       "</table>\n",
       "</div>"
      ],
      "text/plain": [
       "                                     company_name time_frame scope  \\\n",
       "company_id                                                           \n",
       "US00130H1059                            AES Corp.       LONG    S3   \n",
       "US05351W1036-E              Avangrid, Inc. (Elec)       LONG    S3   \n",
       "US05351W1036-U              Avangrid, Inc. (Util)       LONG    S3   \n",
       "DE0005190003                            BMW Group       LONG    S3   \n",
       "GB0007980591                               BP plc       LONG    S3   \n",
       "US1667641005                         Chevron Corp       LONG    S3   \n",
       "US1858991011                 CLEVELAND-CLIFFS INC       LONG    S3   \n",
       "FR0010242511                Electricité de France       LONG    S3   \n",
       "US2810201077                 Edison International       LONG    S3   \n",
       "US29274F1049                   Enel Americas S.A.       LONG    S3   \n",
       "US30231G1022                           ExxonMobil       LONG    S3   \n",
       "US3453708600                   Ford Motor Company       LONG    S3   \n",
       "US3704421052                       General Motors       LONG    S3   \n",
       "ES0144580Y14                       Iberdrola S.A.       LONG    S3   \n",
       "US56585A1025       MARATHON PETROLEUM CORPORATION       LONG    S3   \n",
       "JP3381000003                    NIPPON STEEL CORP       LONG    S3   \n",
       "US6703461052                           NUCOR CORP       LONG    S3   \n",
       "BRPETRACNPR6    PETROLEO BRASILEIRO S A PETROBRAS       LONG    S3   \n",
       "KR7005490008                                POSCO       LONG    S3   \n",
       "2222.SR                              Saudi Aramco       LONG    S3   \n",
       "GB00BP6MXD84                            Shell PLC       LONG    S3   \n",
       "CN0005789556                              Sinopec       LONG    S3   \n",
       "096770.SK                           SK Innovation       LONG    S3   \n",
       "US88031M1099                           TENARIS SA       LONG    S3   \n",
       "9501.T               Tokyo Electric Power Company       LONG    S3   \n",
       "US8808901081                         TERNIUM S.A.       LONG    S3   \n",
       "US88160R1014                                Tesla       LONG    S3   \n",
       "US8873991033                     TIMKENSTEEL CORP       LONG    S3   \n",
       "JP3633400001             Toyota Motor Corporation       LONG    S3   \n",
       "AT0000746409                           Verbund AG       LONG    S3   \n",
       "US92840M1027                         Vistra Corp.       LONG    S3   \n",
       "US12504L1098                                 CBRE       LONG    S3   \n",
       "\n",
       "                     temperature_score  \n",
       "company_id                              \n",
       "US00130H1059                   3.2+/-0  \n",
       "US05351W1036-E                 3.2+/-0  \n",
       "US05351W1036-U  2.3251027888551468+/-0  \n",
       "DE0005190003    1.8172933366737691+/-0  \n",
       "GB0007980591    1.5715163257740852+/-0  \n",
       "US1667641005    1.5349620591256452+/-0  \n",
       "US1858991011     1.208265629360464+/-0  \n",
       "FR0010242511                   3.2+/-0  \n",
       "US2810201077                   3.2+/-0  \n",
       "US29274F1049                   3.2+/-0  \n",
       "US30231G1022    1.5674798829415695+/-0  \n",
       "US3453708600     2.019499549869362+/-0  \n",
       "US3704421052    2.2199406046782495+/-0  \n",
       "ES0144580Y14                   3.2+/-0  \n",
       "US56585A1025    1.4265841697819914+/-0  \n",
       "JP3381000003     2.091869643456153+/-0  \n",
       "US6703461052    1.4394971861501618+/-0  \n",
       "BRPETRACNPR6     1.462541335702893+/-0  \n",
       "KR7005490008    1.5500700303854351+/-0  \n",
       "2222.SR          1.601074419074343+/-0  \n",
       "GB00BP6MXD84      1.84766319313961+/-0  \n",
       "CN0005789556    1.4303201924997422+/-0  \n",
       "096770.SK       1.5818507952876875+/-0  \n",
       "US88031M1099    1.5265366676381205+/-0  \n",
       "9501.T                         3.2+/-0  \n",
       "US8808901081    1.2272763989957207+/-0  \n",
       "US88160R1014    1.2745519003994334+/-0  \n",
       "US8873991033     1.218841951883343+/-0  \n",
       "JP3633400001     1.265636544415335+/-0  \n",
       "AT0000746409                   3.2+/-0  \n",
       "US92840M1027                   3.2+/-0  \n",
       "US12504L1098     12.86391795162943+/-0  "
      ]
     },
     "metadata": {},
     "output_type": "display_data"
    }
   ],
   "source": [
    "with warnings.catch_warnings():\n",
    "    warnings.simplefilter(\"ignore\")\n",
    "    display(enhanced_portfolio_s3[['company_name', 'time_frame', 'scope', 'temperature_score']])"
   ]
  },
  {
   "cell_type": "code",
   "execution_count": null,
   "metadata": {},
   "outputs": [],
   "source": []
  }
 ],
 "metadata": {
  "kernelspec": {
   "display_name": "Python 3 (ipykernel)",
   "language": "python",
   "name": "python3"
  },
  "language_info": {
   "codemirror_mode": {
    "name": "ipython",
    "version": 3
   },
   "file_extension": ".py",
   "mimetype": "text/x-python",
   "name": "python",
   "nbconvert_exporter": "python",
   "pygments_lexer": "ipython3",
   "version": "3.9.16"
  }
 },
 "nbformat": 4,
 "nbformat_minor": 4
}
