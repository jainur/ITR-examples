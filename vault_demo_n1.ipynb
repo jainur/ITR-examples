{
 "cells": [
  {
   "cell_type": "markdown",
   "id": "e3c5c7d5-63e0-47a5-ac4a-bb58beb98995",
   "metadata": {},
   "source": [
    "# Data Vault Demo (Quant, can also score own portfolio)\n",
    "\n",
    "The basic concept of the Data Vault is that when a user authenticates themself, they receive an engine that gives them access to all the data (rows, columns, tables, schema, etc.) for which they are authorized.  Users who can authenticate themselves for multiple roles can use those roles simultaneously.  We are keeping in mind the importance of Data Lineage Management (tracked by issue https://github.com/os-climate/os_c_data_commons/issues/50) but is not treated as part of this particular prototype.\n",
    "\n",
    "The steps of this demo are:\n",
    "\n",
    "1. **Authenticate and acquire SQLAlchemy engine**\n",
    "    1. Dev engine sees all\n",
    "    2. **Quant engine can do temp scoring but not see fundamental company info**\n",
    "    3. User engine can use temp scoring but not see cumulative emissions nor overshoot info\n",
    "2. With Dev engine, construct Vaults for:\n",
    "    1. Fundamental corporate financial information\n",
    "    2. Corporate emissions data (base year, historical)\n",
    "    3. Corporate target data (start year, end year, target start value, target end value)\n",
    "    4. Sector benchmark data (production, CO2e intensity)\n",
    "3. Dev Engine: Visualize projected emissions (targets and trajectories) and calculate cumulative emissions\n",
    "4. **Quant Engine: Using calculated cumulative emmisions, visualize per-company trajectory and target temperature scores**\n",
    "5. User Engine: Using consensus probability scoring and own portfolio data (ISIN, position value)\n",
    "    1. Calculate publishable per-company temperature alignment score\n",
    "    2. Based on aggregate corporate and portfolio information, produce weighting scores to yield overall portfolio alignment score"
   ]
  },
  {
   "cell_type": "code",
   "execution_count": 1,
   "id": "0eefeec9-b70b-440e-8d83-d4e5dff25002",
   "metadata": {},
   "outputs": [
    {
     "name": "stderr",
     "output_type": "stream",
     "text": [
      "/opt/app-root/lib64/python3.8/site-packages/openscm_units/_unit_registry.py:471: FutureWarning: iteritems is deprecated and will be removed in a future version. Use .items instead.\n",
      "  for label, val in metric_conversion.iteritems():\n"
     ]
    },
    {
     "name": "stdout",
     "output_type": "stream",
     "text": [
      "using connect string: trino://MichaelTiemannOSC@trino-secure-odh-trino.apps.odh-cl2.apps.os-climate.org:443/osc_datacommons_dev/demo_dv\n"
     ]
    }
   ],
   "source": [
    "import os\n",
    "import pathlib\n",
    "from dotenv import load_dotenv\n",
    "import osc_ingest_trino as osc\n",
    "import trino\n",
    "from sqlalchemy.engine import create_engine\n",
    "\n",
    "import json\n",
    "import pandas as pd\n",
    "from pint_pandas import PintArray\n",
    "from numpy.testing import assert_array_equal\n",
    "import ITR\n",
    "\n",
    "# from ITR.portfolio_aggregation import PortfolioAggregationMethod\n",
    "# from ITR.temperature_score import TemperatureScore\n",
    "# from ITR.configs import ColumnsConfig, TemperatureScoreConfig\n",
    "# from ITR.data.data_warehouse import DataWarehouse\n",
    "from ITR.data.vault_providers import VaultCompanyDataProvider, VaultProviderProductionBenchmark, \\\n",
    "    VaultProviderIntensityBenchmark, DataVaultWarehouse, requantify_df\n",
    "\n",
    "# from ITR.interfaces import ICompanyData, EScope, ETimeFrames, PortfolioCompany, IEIBenchmarkScopes, \\\n",
    "#     IProductionBenchmarkScopes\n",
    "from ITR.interfaces import EScope, IProductionBenchmarkScopes, IEIBenchmarkScopes\n",
    "from ITR.data.osc_units import ureg, Q_, PA_\n",
    "\n",
    "# Load some standard environment variables from a dot-env file, if it exists.\n",
    "# If no such file can be found, does not fail, and so allows these environment vars to\n",
    "# be populated in some other way\n",
    "dotenv_dir = os.environ.get('CREDENTIAL_DOTENV_DIR', os.environ.get('PWD', '/opt/app-root/src'))\n",
    "dotenv_path = pathlib.Path(dotenv_dir) / 'credentials.env'\n",
    "if os.path.exists(dotenv_path):\n",
    "    load_dotenv(dotenv_path=dotenv_path,override=True)"
   ]
  },
  {
   "cell_type": "markdown",
   "id": "64a3977b-37a7-43d1-93c3-fc1bfba03a60",
   "metadata": {
    "jp-MarkdownHeadingCollapsed": true,
    "tags": []
   },
   "source": [
    "### Step 1: Initialize Vault user 'Quant', which has limited visibility into corporate financial, production, and target data"
   ]
  },
  {
   "cell_type": "markdown",
   "id": "46592631-4c95-4962-ab6e-ec26b1d471df",
   "metadata": {},
   "source": [
    "### The ITR module provides Vault objects that coordinate the interaction of Dev, Quant, and User roles.\n",
    "\n",
    "The SQLAlchemy engines mediate the actual interaction with the Data Vault."
   ]
  },
  {
   "cell_type": "code",
   "execution_count": 2,
   "id": "07ef60e6-a328-4657-aad3-23d78abcbfea",
   "metadata": {},
   "outputs": [
    {
     "name": "stdout",
     "output_type": "stream",
     "text": [
      "connecting with engine Engine(trino://os-climate-user2@trino-secure-odh-trino.apps.odh-cl2.apps.os-climate.org:443/)\n",
      "show tables in demo_dv\n",
      "[('itr_benchmark_ei',), ('itr_benchmark_prod',), ('itr_company_data',), ('itr_cumulative_budget_1',), ('itr_cumulative_emissions',), ('itr_emissions_data',), ('itr_overshoot_ratios',), ('itr_production_data',), ('itr_target_data',), ('itr_temperature_scores',), ('itr_trajectory_data',), ('rmi_benchmark_ei',), ('rmi_benchmark_prod',), ('rmi_company_data',), ('rmi_cumulative_budget_1',), ('rmi_cumulative_emissions',), ('rmi_emissions_data',), ('rmi_overshoot_ratios',), ('rmi_production_data',), ('rmi_target_data',), ('rmi_temperature_scores',), ('rmi_trajectory_data',), ('template_benchmark_ei',), ('template_benchmark_prod',), ('template_company_data',), ('template_cumulative_budget_1',), ('template_cumulative_emissions',), ('template_emissions_data',), ('template_overshoot_ratios',), ('template_production_data',), ('template_target_data',), ('template_temperature_scores',), ('template_trajectory_data',)]\n"
     ]
    },
    {
     "data": {
      "text/plain": [
       "[('itr_benchmark_ei',),\n",
       " ('itr_benchmark_prod',),\n",
       " ('itr_company_data',),\n",
       " ('itr_cumulative_budget_1',),\n",
       " ('itr_cumulative_emissions',),\n",
       " ('itr_emissions_data',),\n",
       " ('itr_overshoot_ratios',),\n",
       " ('itr_production_data',),\n",
       " ('itr_target_data',),\n",
       " ('itr_temperature_scores',),\n",
       " ('itr_trajectory_data',),\n",
       " ('rmi_benchmark_ei',),\n",
       " ('rmi_benchmark_prod',),\n",
       " ('rmi_company_data',),\n",
       " ('rmi_cumulative_budget_1',),\n",
       " ('rmi_cumulative_emissions',),\n",
       " ('rmi_emissions_data',),\n",
       " ('rmi_overshoot_ratios',),\n",
       " ('rmi_production_data',),\n",
       " ('rmi_target_data',),\n",
       " ('rmi_temperature_scores',),\n",
       " ('rmi_trajectory_data',),\n",
       " ('template_benchmark_ei',),\n",
       " ('template_benchmark_prod',),\n",
       " ('template_company_data',),\n",
       " ('template_cumulative_budget_1',),\n",
       " ('template_cumulative_emissions',),\n",
       " ('template_emissions_data',),\n",
       " ('template_overshoot_ratios',),\n",
       " ('template_production_data',),\n",
       " ('template_target_data',),\n",
       " ('template_temperature_scores',),\n",
       " ('template_trajectory_data',)]"
      ]
     },
     "execution_count": 2,
     "metadata": {},
     "output_type": "execute_result"
    }
   ],
   "source": [
    "sqlstring = 'trino://{user}@{host}:{port}/'.format(\n",
    "    user = os.environ['TRINO_USER_USER2'],\n",
    "    host = os.environ['TRINO_HOST'],\n",
    "    port = os.environ['TRINO_PORT']\n",
    ")\n",
    "\n",
    "ingest_catalog = 'osc_datacommons_dev'\n",
    "ingest_schema = 'demo_dv'\n",
    "itr_prefix = 'template_'\n",
    "\n",
    "sqlargs = {\n",
    "    'auth': trino.auth.JWTAuthentication(os.environ['TRINO_PASSWD_USER2']),\n",
    "    'http_scheme': 'https',\n",
    "    'catalog': ingest_catalog,\n",
    "    'schema': ingest_schema,\n",
    "}\n",
    "\n",
    "engine_quant = create_engine(sqlstring, connect_args = sqlargs)\n",
    "print(\"connecting with engine \" + str(engine_quant))\n",
    "osc._do_sql(f\"show tables in {ingest_schema}\", engine_quant, verbose=True)"
   ]
  },
  {
   "cell_type": "markdown",
   "id": "c324a067-d0a3-4010-9208-a52f20fd3641",
   "metadata": {},
   "source": [
    "### The ITR module provides Vault objects that coordinate the interaction of Dev, Quant, and User roles.\n",
    "\n",
    "The SQLAlchemy engines mediate the actual interaction with the Data Vault."
   ]
  },
  {
   "cell_type": "markdown",
   "id": "1848722a-342e-46bd-b8fe-aa0001d4d28c",
   "metadata": {},
   "source": [
    "### Steps 2 & 3: Done in Dev part of vault_demo_n0\n",
    "\n",
    "### Step 4: Use Quant engine to access and visualize temperature scores\n",
    "\n",
    "When the Data Vault is ready to be implemented, we can demonstrate that the Quant engine does not have access to primary company data (neither financial nor production)"
   ]
  },
  {
   "cell_type": "markdown",
   "id": "12482310-25de-42eb-8d0c-52f56d07f627",
   "metadata": {},
   "source": [
    "Show that we *cannot* access fundamental company data (cannot show until op1st team changes permissions)"
   ]
  },
  {
   "cell_type": "code",
   "execution_count": 3,
   "id": "5af9e376-10a4-4ad6-bf7a-65f925c43329",
   "metadata": {},
   "outputs": [
    {
     "name": "stdout",
     "output_type": "stream",
     "text": [
      "\n",
      "select C.company_name, C.company_id from demo_dv.template_company_data C left join demo_dv.template_target_data EI on EI.company_id=C.company_id\n",
      "where EI.ei_s1_by_year is NULL and EI.ei_s1s2_by_year is NULL and EI.ei_s1s2s3_by_year is NULL\n",
      "\n"
     ]
    },
    {
     "name": "stderr",
     "output_type": "stream",
     "text": [
      "2023-03-17 00:06:14,831 - ITR.data.vault_providers - ERROR - Provide either historic emissions data or projections for companies with IDs [('Synthomer Plc', 'GB0009887422'), ('Covestro AG', 'DE0006062144'), ('OXY CHEM', 'US6745991058-chem'), ('OXY OIL AND GAS', 'US6745991058-oil')]\n"
     ]
    },
    {
     "name": "stdout",
     "output_type": "stream",
     "text": [
      "[('Synthomer Plc', 'GB0009887422'), ('Covestro AG', 'DE0006062144'), ('OXY CHEM', 'US6745991058-chem'), ('OXY OIL AND GAS', 'US6745991058-oil')]\n"
     ]
    }
   ],
   "source": [
    "vault_company_data = VaultCompanyDataProvider (engine_quant,\n",
    "                                               company_table=f'{itr_prefix}company_data',\n",
    "                                               target_table=None,\n",
    "                                               trajectory_table=None,\n",
    "                                               company_schema='demo_dv',\n",
    "                                               column_config=None)"
   ]
  },
  {
   "cell_type": "code",
   "execution_count": 4,
   "id": "c083622d-cde4-4f86-acde-49016a155824",
   "metadata": {},
   "outputs": [
    {
     "name": "stdout",
     "output_type": "stream",
     "text": [
      "\n",
      "create table demo_dv.template_overshoot_ratios with (\n",
      "    format = 'ORC',\n",
      "    partitioning = array['scope']\n",
      ") as\n",
      "select E.company_name, E.company_id, 'demo_dv' as source, B.scope, 'benchmark_1' as benchmark,\n",
      "       B.global_budget, B.benchmark_temp,\n",
      "       E.cumulative_trajectory/B.cumulative_budget as trajectory_overshoot_ratio,\n",
      "       concat(E.cumulative_trajectory_units, ' / (', B.cumulative_budget_units, ')') as trajectory_overshoot_ratio_units,\n",
      "       E.cumulative_target/B.cumulative_budget as target_overshoot_ratio,\n",
      "       concat(E.cumulative_target_units, ' / (', B.cumulative_budget_units, ')') as target_overshoot_ratio_units\n",
      "from demo_dv.template_cumulative_emissions E\n",
      "     join demo_dv.template_cumulative_budget_1 B on E.company_id=B.company_id and E.scope=B.scope\n",
      "\n",
      "[(164,)]\n",
      "\n",
      "create table demo_dv.template_temperature_scores with (\n",
      "    format = 'ORC',\n",
      "    partitioning = array['scope']\n",
      ") as\n",
      "select R.company_name, R.company_id, 'demo_dv' as source, R.scope, 'benchmark_1' as benchmark,\n",
      "       R.benchmark_temp + R.global_budget * (R.trajectory_overshoot_ratio-1) * 2.2/3664.0 as trajectory_temperature_score,\n",
      "       'delta_degC' as trajectory_temperature_score_units,\n",
      "       R.benchmark_temp + R.global_budget * (R.target_overshoot_ratio-1) * 2.2/3664.0 as target_temperature_score,\n",
      "       'delta_degC' as target_temperature_score_units\n",
      "from demo_dv.template_overshoot_ratios R\n",
      "\n",
      "[(164,)]\n"
     ]
    }
   ],
   "source": [
    "vault_warehouse = DataVaultWarehouse(engine_quant,\n",
    "                                     company_data=None,\n",
    "                                     benchmark_projected_production=None,\n",
    "                                     benchmarks_projected_ei=None,\n",
    "                                     ingest_schema = 'demo_dv',\n",
    "                                     itr_prefix=itr_prefix,\n",
    "                                     column_config=None)\n",
    "\n",
    "vault_warehouse.quant_init(engine_quant, company_data=vault_company_data, ingest_schema='demo_dv', itr_prefix=itr_prefix)"
   ]
  },
  {
   "cell_type": "code",
   "execution_count": 5,
   "id": "be2d45e2-4a19-4e6a-932d-bc7ea8e0eea0",
   "metadata": {},
   "outputs": [],
   "source": [
    "ureg.setup_matplotlib(True)\n",
    "%matplotlib inline"
   ]
  },
  {
   "cell_type": "markdown",
   "id": "236c94f8-1709-4d7a-9beb-85419e65be5c",
   "metadata": {},
   "source": [
    "Show that we *can* access both cumulative emissions (input) and temperature scores (output)"
   ]
  },
  {
   "cell_type": "code",
   "execution_count": 6,
   "id": "f093cafe-70a2-4b63-b33a-bb46fe6bb741",
   "metadata": {},
   "outputs": [
    {
     "name": "stderr",
     "output_type": "stream",
     "text": [
      "/opt/app-root/lib64/python3.8/site-packages/pandas/io/sql.py:1770: SAWarning: index key 'partition' was not located in columns for table 'template_temperature_scores'\n",
      "  tbl = Table(\n",
      "/opt/app-root/lib64/python3.8/site-packages/pandas/io/sql.py:1770: SAWarning: index key 'record_count' was not located in columns for table 'template_temperature_scores'\n",
      "  tbl = Table(\n",
      "/opt/app-root/lib64/python3.8/site-packages/pandas/io/sql.py:1770: SAWarning: index key 'file_count' was not located in columns for table 'template_temperature_scores'\n",
      "  tbl = Table(\n",
      "/opt/app-root/lib64/python3.8/site-packages/pandas/io/sql.py:1770: SAWarning: index key 'total_size' was not located in columns for table 'template_temperature_scores'\n",
      "  tbl = Table(\n",
      "/opt/app-root/lib64/python3.8/site-packages/pandas/io/sql.py:1770: SAWarning: index key 'data' was not located in columns for table 'template_temperature_scores'\n",
      "  tbl = Table(\n"
     ]
    }
   ],
   "source": [
    "sql_temp_score_df = pd.read_sql_table(f\"{itr_prefix}temperature_scores\", engine_quant)"
   ]
  },
  {
   "cell_type": "code",
   "execution_count": 7,
   "id": "a32e4f93-93d1-4a08-8702-595dd42b01f1",
   "metadata": {},
   "outputs": [
    {
     "data": {
      "text/html": [
       "<div>\n",
       "<style scoped>\n",
       "    .dataframe tbody tr th:only-of-type {\n",
       "        vertical-align: middle;\n",
       "    }\n",
       "\n",
       "    .dataframe tbody tr th {\n",
       "        vertical-align: top;\n",
       "    }\n",
       "\n",
       "    .dataframe thead th {\n",
       "        text-align: right;\n",
       "    }\n",
       "</style>\n",
       "<table border=\"1\" class=\"dataframe\">\n",
       "  <thead>\n",
       "    <tr style=\"text-align: right;\">\n",
       "      <th></th>\n",
       "      <th>company_name</th>\n",
       "      <th>company_id</th>\n",
       "      <th>source</th>\n",
       "      <th>scope</th>\n",
       "      <th>benchmark</th>\n",
       "      <th>trajectory_temperature_score</th>\n",
       "      <th>target_temperature_score</th>\n",
       "    </tr>\n",
       "  </thead>\n",
       "  <tbody>\n",
       "    <tr>\n",
       "      <th>0</th>\n",
       "      <td>Holcim AG</td>\n",
       "      <td>CH0012214059</td>\n",
       "      <td>demo_dv</td>\n",
       "      <td>S1S2S3</td>\n",
       "      <td>benchmark_1</td>\n",
       "      <td>1.5655588198958443</td>\n",
       "      <td>1.2941577252038199</td>\n",
       "    </tr>\n",
       "    <tr>\n",
       "      <th>1</th>\n",
       "      <td>Symrise AG</td>\n",
       "      <td>DE000SYM9999</td>\n",
       "      <td>demo_dv</td>\n",
       "      <td>S1S2S3</td>\n",
       "      <td>benchmark_1</td>\n",
       "      <td>1.449123352835412</td>\n",
       "      <td>322.99453733924736</td>\n",
       "    </tr>\n",
       "    <tr>\n",
       "      <th>2</th>\n",
       "      <td>Inter Parfums Inc</td>\n",
       "      <td>FR0004024222</td>\n",
       "      <td>demo_dv</td>\n",
       "      <td>S1S2S3</td>\n",
       "      <td>benchmark_1</td>\n",
       "      <td>1.264717970495394</td>\n",
       "      <td>nan</td>\n",
       "    </tr>\n",
       "    <tr>\n",
       "      <th>3</th>\n",
       "      <td>BP plc</td>\n",
       "      <td>GB0007980591</td>\n",
       "      <td>demo_dv</td>\n",
       "      <td>S1S2S3</td>\n",
       "      <td>benchmark_1</td>\n",
       "      <td>1.8839781313958412</td>\n",
       "      <td>nan</td>\n",
       "    </tr>\n",
       "    <tr>\n",
       "      <th>4</th>\n",
       "      <td>CBRE</td>\n",
       "      <td>US12504L1098</td>\n",
       "      <td>demo_dv</td>\n",
       "      <td>S1S2S3</td>\n",
       "      <td>benchmark_1</td>\n",
       "      <td>5.459937522918651</td>\n",
       "      <td>1.2622271461149925</td>\n",
       "    </tr>\n",
       "    <tr>\n",
       "      <th>...</th>\n",
       "      <td>...</td>\n",
       "      <td>...</td>\n",
       "      <td>...</td>\n",
       "      <td>...</td>\n",
       "      <td>...</td>\n",
       "      <td>...</td>\n",
       "      <td>...</td>\n",
       "    </tr>\n",
       "    <tr>\n",
       "      <th>158</th>\n",
       "      <td>AES Corp.</td>\n",
       "      <td>US00130H1059</td>\n",
       "      <td>demo_dv</td>\n",
       "      <td>S1S2</td>\n",
       "      <td>benchmark_1</td>\n",
       "      <td>2.8395366740074826</td>\n",
       "      <td>1.7307517270015764</td>\n",
       "    </tr>\n",
       "    <tr>\n",
       "      <th>159</th>\n",
       "      <td>Martin Marietta Materials Inc</td>\n",
       "      <td>US5732841060</td>\n",
       "      <td>demo_dv</td>\n",
       "      <td>S1S2</td>\n",
       "      <td>benchmark_1</td>\n",
       "      <td>1.9553904610351587</td>\n",
       "      <td>1.5387668856561643</td>\n",
       "    </tr>\n",
       "    <tr>\n",
       "      <th>160</th>\n",
       "      <td>Fortis, Inc.</td>\n",
       "      <td>CA3495531079</td>\n",
       "      <td>demo_dv</td>\n",
       "      <td>S1S2</td>\n",
       "      <td>benchmark_1</td>\n",
       "      <td>1.9536082533035248</td>\n",
       "      <td>nan</td>\n",
       "    </tr>\n",
       "    <tr>\n",
       "      <th>161</th>\n",
       "      <td>Arkema SA</td>\n",
       "      <td>FR0010313833</td>\n",
       "      <td>demo_dv</td>\n",
       "      <td>S1S2</td>\n",
       "      <td>benchmark_1</td>\n",
       "      <td>1.2809483392926577</td>\n",
       "      <td>1.2821433136579885</td>\n",
       "    </tr>\n",
       "    <tr>\n",
       "      <th>163</th>\n",
       "      <td>CLEVELAND-CLIFFS INC</td>\n",
       "      <td>US1858991011</td>\n",
       "      <td>demo_dv</td>\n",
       "      <td>S1S2</td>\n",
       "      <td>benchmark_1</td>\n",
       "      <td>2.9533791942479333</td>\n",
       "      <td>1.9158426204013015</td>\n",
       "    </tr>\n",
       "  </tbody>\n",
       "</table>\n",
       "<p>154 rows × 7 columns</p>\n",
       "</div>"
      ],
      "text/plain": [
       "                      company_name    company_id   source   scope  \\\n",
       "0                        Holcim AG  CH0012214059  demo_dv  S1S2S3   \n",
       "1                       Symrise AG  DE000SYM9999  demo_dv  S1S2S3   \n",
       "2                Inter Parfums Inc  FR0004024222  demo_dv  S1S2S3   \n",
       "3                           BP plc  GB0007980591  demo_dv  S1S2S3   \n",
       "4                             CBRE  US12504L1098  demo_dv  S1S2S3   \n",
       "..                             ...           ...      ...     ...   \n",
       "158                      AES Corp.  US00130H1059  demo_dv    S1S2   \n",
       "159  Martin Marietta Materials Inc  US5732841060  demo_dv    S1S2   \n",
       "160                   Fortis, Inc.  CA3495531079  demo_dv    S1S2   \n",
       "161                      Arkema SA  FR0010313833  demo_dv    S1S2   \n",
       "163           CLEVELAND-CLIFFS INC  US1858991011  demo_dv    S1S2   \n",
       "\n",
       "       benchmark trajectory_temperature_score target_temperature_score  \n",
       "0    benchmark_1           1.5655588198958443       1.2941577252038199  \n",
       "1    benchmark_1            1.449123352835412       322.99453733924736  \n",
       "2    benchmark_1            1.264717970495394                      nan  \n",
       "3    benchmark_1           1.8839781313958412                      nan  \n",
       "4    benchmark_1            5.459937522918651       1.2622271461149925  \n",
       "..           ...                          ...                      ...  \n",
       "158  benchmark_1           2.8395366740074826       1.7307517270015764  \n",
       "159  benchmark_1           1.9553904610351587       1.5387668856561643  \n",
       "160  benchmark_1           1.9536082533035248                      nan  \n",
       "161  benchmark_1           1.2809483392926577       1.2821433136579885  \n",
       "163  benchmark_1           2.9533791942479333       1.9158426204013015  \n",
       "\n",
       "[154 rows x 7 columns]"
      ]
     },
     "execution_count": 7,
     "metadata": {},
     "output_type": "execute_result"
    }
   ],
   "source": [
    "temp_score_df = requantify_df(sql_temp_score_df, typemap={'trajectory_temperature_score':'delta_degC', 'target_temperature_score':'delta_degC'})\n",
    "temp_score_df = temp_score_df[~temp_score_df.company_id.isin(['US6362744095+Gas Utilities', 'US0236081024+Gas Utilities', 'CA87807B1076+Gas', 'CA87807B1076+Oil', 'NO0010657505'])]\n",
    "temp_score_df"
   ]
  },
  {
   "cell_type": "code",
   "execution_count": 8,
   "id": "c1270d41-5a03-43dd-b90b-f305299dbe99",
   "metadata": {},
   "outputs": [],
   "source": [
    "plottable_df = temp_score_df[['company_name', 'trajectory_temperature_score', 'target_temperature_score']].sort_values('company_name').set_index('company_name')\n",
    "plottable_df = pd.concat([plottable_df, (plottable_df['trajectory_temperature_score'] + plottable_df['target_temperature_score'])/2.0], axis=1)\n",
    "plottable_df.columns = ['trajectory_temperature_score', 'target_temperature_score', 'average_score']\n",
    "plottable_df = plottable_df.T"
   ]
  },
  {
   "cell_type": "code",
   "execution_count": 9,
   "id": "5f559b7f-344f-4f6f-93bf-b24772810014",
   "metadata": {},
   "outputs": [
    {
     "data": {
      "text/html": [
       "<div>\n",
       "<style scoped>\n",
       "    .dataframe tbody tr th:only-of-type {\n",
       "        vertical-align: middle;\n",
       "    }\n",
       "\n",
       "    .dataframe tbody tr th {\n",
       "        vertical-align: top;\n",
       "    }\n",
       "\n",
       "    .dataframe thead th {\n",
       "        text-align: right;\n",
       "    }\n",
       "</style>\n",
       "<table border=\"1\" class=\"dataframe\">\n",
       "  <thead>\n",
       "    <tr style=\"text-align: right;\">\n",
       "      <th>company_name</th>\n",
       "      <th>AES Corp.</th>\n",
       "      <th>AES Corp.</th>\n",
       "      <th>Air Liquide SA</th>\n",
       "      <th>Air Liquide SA</th>\n",
       "      <th>Alliant Energy</th>\n",
       "    </tr>\n",
       "  </thead>\n",
       "  <tbody>\n",
       "    <tr>\n",
       "      <th>trajectory_temperature_score</th>\n",
       "      <td>3.452811</td>\n",
       "      <td>2.839537</td>\n",
       "      <td>7.654915</td>\n",
       "      <td>7.162939</td>\n",
       "      <td>5.324104</td>\n",
       "    </tr>\n",
       "    <tr>\n",
       "      <th>target_temperature_score</th>\n",
       "      <td>1.858343</td>\n",
       "      <td>1.730752</td>\n",
       "      <td>1.264191</td>\n",
       "      <td>1.263790</td>\n",
       "      <td>1.262228</td>\n",
       "    </tr>\n",
       "    <tr>\n",
       "      <th>average_score</th>\n",
       "      <td>2.655577</td>\n",
       "      <td>2.285144</td>\n",
       "      <td>4.459553</td>\n",
       "      <td>4.213364</td>\n",
       "      <td>3.293166</td>\n",
       "    </tr>\n",
       "  </tbody>\n",
       "</table>\n",
       "</div>"
      ],
      "text/plain": [
       "company_name                  AES Corp.  AES Corp.  Air Liquide SA  \\\n",
       "trajectory_temperature_score   3.452811   2.839537        7.654915   \n",
       "target_temperature_score       1.858343   1.730752        1.264191   \n",
       "average_score                  2.655577   2.285144        4.459553   \n",
       "\n",
       "company_name                  Air Liquide SA  Alliant Energy  \n",
       "trajectory_temperature_score        7.162939        5.324104  \n",
       "target_temperature_score            1.263790        1.262228  \n",
       "average_score                       4.213364        3.293166  "
      ]
     },
     "execution_count": 9,
     "metadata": {},
     "output_type": "execute_result"
    }
   ],
   "source": [
    "plottable_df.applymap(lambda x: x.m).dropna(axis=1, how='all').iloc[:, 0:5]"
   ]
  },
  {
   "cell_type": "code",
   "execution_count": 10,
   "id": "9ee65e40-cda2-4a9b-ac80-b0e96c8c152e",
   "metadata": {},
   "outputs": [
    {
     "data": {
      "text/plain": [
       "<AxesSubplot: >"
      ]
     },
     "execution_count": 10,
     "metadata": {},
     "output_type": "execute_result"
    },
    {
     "data": {
      "image/png": "[encoded data removed]",
      "text/plain": [
       "<Figure size 1728x720 with 1 Axes>"
      ]
     },
     "metadata": {
      "needs_background": "light"
     },
     "output_type": "display_data"
    }
   ],
   "source": [
    "# Must plot the first few columns, but then plot 1/3rd of the companies so as not to over-clutter the graph\n",
    "plottable_df.applymap(lambda x: x.m).dropna(axis=1, how='all').iloc[:, 0:35].boxplot(figsize=(24,10), rot=45)"
   ]
  },
  {
   "cell_type": "markdown",
   "id": "65795474-1de6-4f40-9086-f7d948ae6c66",
   "metadata": {},
   "source": [
    "### Step 5: Show per-company temperature score and weighted portfolio alignment score\n",
    "\n",
    "Portfolio weighting scores (which ultimately influence portfolio alignment score) include:\n",
    "* WATS (size of portfolio company positions used as weights)\n",
    "* TETS (size of total emissions of portfolio companies used as weights)\n",
    "* Financial fundamental weights:\n",
    "    * Market Cap\n",
    "    * Enterprise Value\n",
    "    * Assets\n",
    "    * Revenues\n",
    "\n",
    "We can pass a list of company IDs to the Data Vault to get back a sum without exposing granular data"
   ]
  },
  {
   "cell_type": "markdown",
   "id": "df114d27-a6ab-46d9-a942-0e8200c4fcd7",
   "metadata": {},
   "source": [
    "Show that we *can also* access both cumulative emissions (input) and temperature scores (output)"
   ]
  },
  {
   "cell_type": "code",
   "execution_count": 11,
   "id": "76d2ad90-ce27-484f-8de9-359153d32979",
   "metadata": {},
   "outputs": [
    {
     "data": {
      "text/html": [
       "<div>\n",
       "<style scoped>\n",
       "    .dataframe tbody tr th:only-of-type {\n",
       "        vertical-align: middle;\n",
       "    }\n",
       "\n",
       "    .dataframe tbody tr th {\n",
       "        vertical-align: top;\n",
       "    }\n",
       "\n",
       "    .dataframe thead th {\n",
       "        text-align: right;\n",
       "    }\n",
       "</style>\n",
       "<table border=\"1\" class=\"dataframe\">\n",
       "  <thead>\n",
       "    <tr style=\"text-align: right;\">\n",
       "      <th></th>\n",
       "      <th>company_name</th>\n",
       "      <th>company_lei</th>\n",
       "      <th>investment_value</th>\n",
       "    </tr>\n",
       "    <tr>\n",
       "      <th>company_id</th>\n",
       "      <th></th>\n",
       "      <th></th>\n",
       "      <th></th>\n",
       "    </tr>\n",
       "  </thead>\n",
       "  <tbody>\n",
       "    <tr>\n",
       "      <th>US00130H1059</th>\n",
       "      <td>AES Corp.</td>\n",
       "      <td>2NUNNB7D43COUIRE5295</td>\n",
       "      <td>4351252</td>\n",
       "    </tr>\n",
       "    <tr>\n",
       "      <th>US0158577090</th>\n",
       "      <td>Algonquin Power &amp; Utilities Corp.</td>\n",
       "      <td>549300K5VIUTJXQL7X75</td>\n",
       "      <td>2228185</td>\n",
       "    </tr>\n",
       "    <tr>\n",
       "      <th>US0185223007</th>\n",
       "      <td>ALLETE, Inc.</td>\n",
       "      <td>549300NNLSIMY6Z8OT86</td>\n",
       "      <td>3829481</td>\n",
       "    </tr>\n",
       "    <tr>\n",
       "      <th>US0188021085</th>\n",
       "      <td>Alliant Energy</td>\n",
       "      <td>5493009ML300G373MZ12</td>\n",
       "      <td>3829481</td>\n",
       "    </tr>\n",
       "    <tr>\n",
       "      <th>US0236081024</th>\n",
       "      <td>Ameren Corp.</td>\n",
       "      <td>XRZQ5S7HYJFPHJ78L959</td>\n",
       "      <td>15917812</td>\n",
       "    </tr>\n",
       "    <tr>\n",
       "      <th>...</th>\n",
       "      <td>...</td>\n",
       "      <td>...</td>\n",
       "      <td>...</td>\n",
       "    </tr>\n",
       "    <tr>\n",
       "      <th>US8873991033</th>\n",
       "      <td>TIMKENSTEEL CORP</td>\n",
       "      <td>549300QZTZWHDE9HJL14</td>\n",
       "      <td>10000000</td>\n",
       "    </tr>\n",
       "    <tr>\n",
       "      <th>US88830M1027</th>\n",
       "      <td>TITAN INTERNATIONAL INC</td>\n",
       "      <td>254900CXRGBE7C4B5A06</td>\n",
       "      <td>10000000</td>\n",
       "    </tr>\n",
       "    <tr>\n",
       "      <th>US9129091081</th>\n",
       "      <td>UNITED STATES STEEL CORP</td>\n",
       "      <td>JNLUVFYJT1OZSIQ24U47</td>\n",
       "      <td>10000000</td>\n",
       "    </tr>\n",
       "    <tr>\n",
       "      <th>US9138371003</th>\n",
       "      <td>UNIVERSAL STAINLESS &amp; ALLOY PRODUCTS INC</td>\n",
       "      <td>5493001OEIZDUGXZDE09</td>\n",
       "      <td>10000000</td>\n",
       "    </tr>\n",
       "    <tr>\n",
       "      <th>US9818111026</th>\n",
       "      <td>WORTHINGTON INDUSTRIES INC</td>\n",
       "      <td>1WRCIANKYOIK6KYE5E82</td>\n",
       "      <td>10000000</td>\n",
       "    </tr>\n",
       "  </tbody>\n",
       "</table>\n",
       "<p>61 rows × 3 columns</p>\n",
       "</div>"
      ],
      "text/plain": [
       "                                          company_name           company_lei  \\\n",
       "company_id                                                                     \n",
       "US00130H1059                                 AES Corp.  2NUNNB7D43COUIRE5295   \n",
       "US0158577090         Algonquin Power & Utilities Corp.  549300K5VIUTJXQL7X75   \n",
       "US0185223007                              ALLETE, Inc.  549300NNLSIMY6Z8OT86   \n",
       "US0188021085                            Alliant Energy  5493009ML300G373MZ12   \n",
       "US0236081024                              Ameren Corp.  XRZQ5S7HYJFPHJ78L959   \n",
       "...                                                ...                   ...   \n",
       "US8873991033                          TIMKENSTEEL CORP  549300QZTZWHDE9HJL14   \n",
       "US88830M1027                   TITAN INTERNATIONAL INC  254900CXRGBE7C4B5A06   \n",
       "US9129091081                  UNITED STATES STEEL CORP  JNLUVFYJT1OZSIQ24U47   \n",
       "US9138371003  UNIVERSAL STAINLESS & ALLOY PRODUCTS INC  5493001OEIZDUGXZDE09   \n",
       "US9818111026                WORTHINGTON INDUSTRIES INC  1WRCIANKYOIK6KYE5E82   \n",
       "\n",
       "              investment_value  \n",
       "company_id                      \n",
       "US00130H1059           4351252  \n",
       "US0158577090           2228185  \n",
       "US0185223007           3829481  \n",
       "US0188021085           3829481  \n",
       "US0236081024          15917812  \n",
       "...                        ...  \n",
       "US8873991033          10000000  \n",
       "US88830M1027          10000000  \n",
       "US9129091081          10000000  \n",
       "US9138371003          10000000  \n",
       "US9818111026          10000000  \n",
       "\n",
       "[61 rows x 3 columns]"
      ]
     },
     "execution_count": 11,
     "metadata": {},
     "output_type": "execute_result"
    }
   ],
   "source": [
    "portfolio_df = pd.read_csv(\"data/mdt-20220116-portfolio.csv\", encoding=\"iso-8859-1\", sep=';', index_col='company_id')\n",
    "portfolio_df"
   ]
  },
  {
   "cell_type": "markdown",
   "id": "e2d9942b-ec81-4eab-9cca-99e92905e24f",
   "metadata": {},
   "source": [
    "### Calculate portfolio alignment temperature score based on WATS\n",
    "\n",
    "We can do this with information exclusive to the user space (and the probability-adjusted temperature scores)\n",
    "\n",
    "Note that companies with no production information (such as TITAL INTERNATIONAL INC and UNIVERSAL STAINLESS & ALLOY PRODUCTS INC will show NaN (Not a Number) as a score."
   ]
  },
  {
   "cell_type": "code",
   "execution_count": 12,
   "id": "3840f2c6-a938-43b0-b24e-37f0b284d2c6",
   "metadata": {},
   "outputs": [
    {
     "name": "stderr",
     "output_type": "stream",
     "text": [
      "/opt/app-root/lib64/python3.8/site-packages/pint_pandas/pint_array.py:227: RuntimeWarning: pint-pandas does not support magnitudes of object. Converting magnitudes to float.\n",
      "  warnings.warn(\n"
     ]
    }
   ],
   "source": [
    "# PA_SCORE means \"Probability-Adjusted\" Temperature Score\n",
    "portfolio_df['pa_score'] = vault_warehouse.get_pa_temp_scores(probability=0.5, company_ids=portfolio_df.index.values).astype('pint[delta_degC]')"
   ]
  },
  {
   "cell_type": "code",
   "execution_count": 13,
   "id": "8031e3a0-3d22-4f16-8a9a-e85f855f1b02",
   "metadata": {},
   "outputs": [
    {
     "data": {
      "text/html": [
       "<div>\n",
       "<style scoped>\n",
       "    .dataframe tbody tr th:only-of-type {\n",
       "        vertical-align: middle;\n",
       "    }\n",
       "\n",
       "    .dataframe tbody tr th {\n",
       "        vertical-align: top;\n",
       "    }\n",
       "\n",
       "    .dataframe thead th {\n",
       "        text-align: right;\n",
       "    }\n",
       "</style>\n",
       "<table border=\"1\" class=\"dataframe\">\n",
       "  <thead>\n",
       "    <tr style=\"text-align: right;\">\n",
       "      <th></th>\n",
       "      <th>company_name</th>\n",
       "      <th>company_lei</th>\n",
       "      <th>investment_value</th>\n",
       "      <th>pa_score</th>\n",
       "    </tr>\n",
       "    <tr>\n",
       "      <th>company_id</th>\n",
       "      <th></th>\n",
       "      <th></th>\n",
       "      <th></th>\n",
       "      <th></th>\n",
       "    </tr>\n",
       "  </thead>\n",
       "  <tbody>\n",
       "  </tbody>\n",
       "</table>\n",
       "</div>"
      ],
      "text/plain": [
       "Empty DataFrame\n",
       "Columns: [company_name, company_lei, investment_value, pa_score]\n",
       "Index: []"
      ]
     },
     "execution_count": 13,
     "metadata": {},
     "output_type": "execute_result"
    }
   ],
   "source": [
    "# portfolio_df[portfolio_df.company_name=='POSCO']\n",
    "portfolio_df.dropna(inplace=True)\n",
    "portfolio_df.sort_values(by='company_name')"
   ]
  },
  {
   "cell_type": "code",
   "execution_count": 14,
   "id": "0e9f1e29-ccb8-4b59-a1ba-95fdf792bf76",
   "metadata": {},
   "outputs": [
    {
     "data": {
      "text/plain": [
       "0"
      ]
     },
     "execution_count": 14,
     "metadata": {},
     "output_type": "execute_result"
    }
   ],
   "source": [
    "weight_for_WATS = portfolio_df['investment_value'].sum()\n",
    "weight_for_WATS"
   ]
  },
  {
   "cell_type": "code",
   "execution_count": 15,
   "id": "f3193208-3029-40d4-a7a2-e820a32eea56",
   "metadata": {},
   "outputs": [
    {
     "data": {
      "text/html": [
       "<div>\n",
       "<style scoped>\n",
       "    .dataframe tbody tr th:only-of-type {\n",
       "        vertical-align: middle;\n",
       "    }\n",
       "\n",
       "    .dataframe tbody tr th {\n",
       "        vertical-align: top;\n",
       "    }\n",
       "\n",
       "    .dataframe thead th {\n",
       "        text-align: right;\n",
       "    }\n",
       "</style>\n",
       "<table border=\"1\" class=\"dataframe\">\n",
       "  <thead>\n",
       "    <tr style=\"text-align: right;\">\n",
       "      <th></th>\n",
       "      <th>company_name</th>\n",
       "      <th>company_lei</th>\n",
       "      <th>investment_value</th>\n",
       "      <th>pa_score</th>\n",
       "      <th>WATS_weight</th>\n",
       "    </tr>\n",
       "    <tr>\n",
       "      <th>company_id</th>\n",
       "      <th></th>\n",
       "      <th></th>\n",
       "      <th></th>\n",
       "      <th></th>\n",
       "      <th></th>\n",
       "    </tr>\n",
       "  </thead>\n",
       "  <tbody>\n",
       "  </tbody>\n",
       "</table>\n",
       "</div>"
      ],
      "text/plain": [
       "Empty DataFrame\n",
       "Columns: [company_name, company_lei, investment_value, pa_score, WATS_weight]\n",
       "Index: []"
      ]
     },
     "execution_count": 15,
     "metadata": {},
     "output_type": "execute_result"
    }
   ],
   "source": [
    "portfolio_df['WATS_weight'] = portfolio_df['pa_score'] * (portfolio_df['investment_value'] / weight_for_WATS)\n",
    "portfolio_df.head()"
   ]
  },
  {
   "cell_type": "code",
   "execution_count": 16,
   "id": "24fdeb51-94f1-40a4-ace9-5fdce4f5de8f",
   "metadata": {},
   "outputs": [
    {
     "name": "stdout",
     "output_type": "stream",
     "text": [
      "Portfolio temperature score based on WATS = 0.0 delta_degree_Celsius\n"
     ]
    }
   ],
   "source": [
    "print(f\"Portfolio temperature score based on WATS = {portfolio_df['WATS_weight'].sum()}\")"
   ]
  },
  {
   "cell_type": "markdown",
   "id": "95036586-82cc-4230-8946-eb3f7a07d283",
   "metadata": {},
   "source": [
    "### Calculate portfolio alignment temperature score based on TETS\n",
    "\n",
    "We need to carefully meld portfolio data with corp fundamental data (in this case, emissions)"
   ]
  },
  {
   "cell_type": "code",
   "execution_count": 17,
   "id": "fddd23f0-7ca4-4ea8-8a54-ea71fee0f40b",
   "metadata": {},
   "outputs": [
    {
     "data": {
      "text/html": [
       "<div>\n",
       "<style scoped>\n",
       "    .dataframe tbody tr th:only-of-type {\n",
       "        vertical-align: middle;\n",
       "    }\n",
       "\n",
       "    .dataframe tbody tr th {\n",
       "        vertical-align: top;\n",
       "    }\n",
       "\n",
       "    .dataframe thead th {\n",
       "        text-align: right;\n",
       "    }\n",
       "</style>\n",
       "<table border=\"1\" class=\"dataframe\">\n",
       "  <thead>\n",
       "    <tr style=\"text-align: right;\">\n",
       "      <th></th>\n",
       "      <th>company_name</th>\n",
       "      <th>company_lei</th>\n",
       "      <th>investment_value</th>\n",
       "      <th>pa_score</th>\n",
       "      <th>WATS_weight</th>\n",
       "      <th>TETS_weight</th>\n",
       "    </tr>\n",
       "    <tr>\n",
       "      <th>company_id</th>\n",
       "      <th></th>\n",
       "      <th></th>\n",
       "      <th></th>\n",
       "      <th></th>\n",
       "      <th></th>\n",
       "      <th></th>\n",
       "    </tr>\n",
       "  </thead>\n",
       "  <tbody>\n",
       "  </tbody>\n",
       "</table>\n",
       "</div>"
      ],
      "text/plain": [
       "Empty DataFrame\n",
       "Columns: [company_name, company_lei, investment_value, pa_score, WATS_weight, TETS_weight]\n",
       "Index: []"
      ]
     },
     "execution_count": 17,
     "metadata": {},
     "output_type": "execute_result"
    }
   ],
   "source": [
    "portfolio_df['TETS_weight'] = vault_company_data.compute_portfolio_weights(portfolio_df['pa_score'], 2019, 'emissions', EScope.S1S2).astype('pint[delta_degC]')\n",
    "portfolio_df.head()"
   ]
  },
  {
   "cell_type": "code",
   "execution_count": 18,
   "id": "68f22808-4ec2-4167-95ee-5b50f550dc59",
   "metadata": {},
   "outputs": [
    {
     "name": "stdout",
     "output_type": "stream",
     "text": [
      "Portfolio temperature score based on TETS = 0.0 delta_degree_Celsius\n"
     ]
    }
   ],
   "source": [
    "print(f\"Portfolio temperature score based on TETS = {portfolio_df['TETS_weight'].sum()}\")"
   ]
  },
  {
   "cell_type": "markdown",
   "id": "74453d3b-2288-4dfd-bb68-978c0cdf5f67",
   "metadata": {},
   "source": [
    "### Calculate portfolio alignment temperature score based on MOTS, EOTS, ECOTS, AOTS, and ROTS\n",
    "\n",
    "* MOTS = market cap weights\n",
    "* EOTS = enterprise value weights\n",
    "* ECOTS = EVIC weights\n",
    "* AOTS = asset weights\n",
    "* ROTS = revenue weights"
   ]
  },
  {
   "cell_type": "code",
   "execution_count": 19,
   "id": "9c2d630c-10dd-486f-b6c1-4d579e88a597",
   "metadata": {},
   "outputs": [
    {
     "data": {
      "text/plain": [
       "company_name                            object\n",
       "company_lei                             object\n",
       "investment_value                         int64\n",
       "pa_score            pint[delta_degree_Celsius]\n",
       "WATS_weight         pint[delta_degree_Celsius]\n",
       "TETS_weight         pint[delta_degree_Celsius]\n",
       "dtype: object"
      ]
     },
     "execution_count": 19,
     "metadata": {},
     "output_type": "execute_result"
    }
   ],
   "source": [
    "portfolio_df.dtypes"
   ]
  },
  {
   "cell_type": "code",
   "execution_count": 20,
   "id": "0df8c5fc-2939-4ac1-9448-499803583eb1",
   "metadata": {},
   "outputs": [
    {
     "name": "stdout",
     "output_type": "stream",
     "text": [
      "Portfolio temperature score based on MOTS = 0.0 delta_degree_Celsius\n",
      "Portfolio temperature score based on EOTS = 0.0 delta_degree_Celsius\n",
      "Portfolio temperature score based on ECOTS = 0.0 delta_degree_Celsius\n",
      "Portfolio temperature score based on AOTS = 0.0 delta_degree_Celsius\n",
      "Portfolio temperature score based on ROTS = 0.0 delta_degree_Celsius\n"
     ]
    },
    {
     "data": {
      "text/html": [
       "<div>\n",
       "<style scoped>\n",
       "    .dataframe tbody tr th:only-of-type {\n",
       "        vertical-align: middle;\n",
       "    }\n",
       "\n",
       "    .dataframe tbody tr th {\n",
       "        vertical-align: top;\n",
       "    }\n",
       "\n",
       "    .dataframe thead th {\n",
       "        text-align: right;\n",
       "    }\n",
       "</style>\n",
       "<table border=\"1\" class=\"dataframe\">\n",
       "  <thead>\n",
       "    <tr style=\"text-align: right;\">\n",
       "      <th></th>\n",
       "      <th>company_name</th>\n",
       "      <th>company_lei</th>\n",
       "      <th>investment_value</th>\n",
       "      <th>pa_score</th>\n",
       "      <th>WATS_weight</th>\n",
       "      <th>TETS_weight</th>\n",
       "      <th>MOTS_weight</th>\n",
       "      <th>EOTS_weight</th>\n",
       "      <th>ECOTS_weight</th>\n",
       "      <th>AOTS_weight</th>\n",
       "      <th>ROTS_weight</th>\n",
       "    </tr>\n",
       "    <tr>\n",
       "      <th>company_id</th>\n",
       "      <th></th>\n",
       "      <th></th>\n",
       "      <th></th>\n",
       "      <th></th>\n",
       "      <th></th>\n",
       "      <th></th>\n",
       "      <th></th>\n",
       "      <th></th>\n",
       "      <th></th>\n",
       "      <th></th>\n",
       "      <th></th>\n",
       "    </tr>\n",
       "  </thead>\n",
       "  <tbody>\n",
       "  </tbody>\n",
       "</table>\n",
       "</div>"
      ],
      "text/plain": [
       "Empty DataFrame\n",
       "Columns: [company_name, company_lei, investment_value, pa_score, WATS_weight, TETS_weight, MOTS_weight, EOTS_weight, ECOTS_weight, AOTS_weight, ROTS_weight]\n",
       "Index: []"
      ]
     },
     "execution_count": 20,
     "metadata": {},
     "output_type": "execute_result"
    }
   ],
   "source": [
    "weighting_dict = {\n",
    "    'MOTS': 'company_market_cap',\n",
    "    'EOTS': 'company_ev',\n",
    "    'ECOTS': 'company_evic',\n",
    "    'AOTS': 'company_total_assets',\n",
    "    'ROTS': 'company_revenue',\n",
    "}\n",
    "\n",
    "for k, v in weighting_dict.items():\n",
    "    weight_column = f\"{k}_weight\"\n",
    "    portfolio_df[weight_column] = vault_company_data.compute_portfolio_weights(portfolio_df['pa_score'], 2019, v, EScope.S1S2)\n",
    "    print(f\"Portfolio temperature score based on {k} = {portfolio_df[weight_column].sum()}\")\n",
    "\n",
    "portfolio_df"
   ]
  },
  {
   "cell_type": "markdown",
   "id": "02416ac3-892e-4de7-b244-fc8311993ee9",
   "metadata": {},
   "source": [
    "### Companies for which we lack production data (and thus cannot chart)"
   ]
  },
  {
   "cell_type": "code",
   "execution_count": 21,
   "id": "d1e39a38-9d3f-4ff7-aa46-965f6cbf4a76",
   "metadata": {},
   "outputs": [
    {
     "data": {
      "text/html": [
       "<div>\n",
       "<style scoped>\n",
       "    .dataframe tbody tr th:only-of-type {\n",
       "        vertical-align: middle;\n",
       "    }\n",
       "\n",
       "    .dataframe tbody tr th {\n",
       "        vertical-align: top;\n",
       "    }\n",
       "\n",
       "    .dataframe thead th {\n",
       "        text-align: right;\n",
       "    }\n",
       "</style>\n",
       "<table border=\"1\" class=\"dataframe\">\n",
       "  <thead>\n",
       "    <tr style=\"text-align: right;\">\n",
       "      <th></th>\n",
       "      <th>company_name</th>\n",
       "      <th>company_lei</th>\n",
       "      <th>investment_value</th>\n",
       "      <th>pa_score</th>\n",
       "      <th>WATS_weight</th>\n",
       "      <th>TETS_weight</th>\n",
       "      <th>MOTS_weight</th>\n",
       "      <th>EOTS_weight</th>\n",
       "      <th>ECOTS_weight</th>\n",
       "      <th>AOTS_weight</th>\n",
       "      <th>ROTS_weight</th>\n",
       "    </tr>\n",
       "    <tr>\n",
       "      <th>company_id</th>\n",
       "      <th></th>\n",
       "      <th></th>\n",
       "      <th></th>\n",
       "      <th></th>\n",
       "      <th></th>\n",
       "      <th></th>\n",
       "      <th></th>\n",
       "      <th></th>\n",
       "      <th></th>\n",
       "      <th></th>\n",
       "      <th></th>\n",
       "    </tr>\n",
       "  </thead>\n",
       "  <tbody>\n",
       "  </tbody>\n",
       "</table>\n",
       "</div>"
      ],
      "text/plain": [
       "Empty DataFrame\n",
       "Columns: [company_name, company_lei, investment_value, pa_score, WATS_weight, TETS_weight, MOTS_weight, EOTS_weight, ECOTS_weight, AOTS_weight, ROTS_weight]\n",
       "Index: []"
      ]
     },
     "execution_count": 21,
     "metadata": {},
     "output_type": "execute_result"
    }
   ],
   "source": [
    "portfolio_df[portfolio_df.pa_score.isnull()]"
   ]
  },
  {
   "cell_type": "code",
   "execution_count": 22,
   "id": "027bf69a-9c4a-48bc-979c-662a7409263d",
   "metadata": {},
   "outputs": [
    {
     "data": {
      "text/plain": [
       "[('ALLETE, Inc.', '549300NNLSIMY6Z8OT86', 'US0185223007', 'Electricity Utilities', 'US', 'North America', 'equity', 'USD', 4285299935.0, 1240500000.0, 5829799935.0, 5899099935.0, 5153832000.0, None, None, 2019),\n",
       " ('Alliant Energy', '5493009ML300G373MZ12', 'US0188021085', 'Electricity Utilities', 'US', 'North America', 'equity', 'USD', 11600000000.0, 3647700000.0, 18503600000.0, 18519900000.0, 15698658000.0, None, None, 2019),\n",
       " ('American Electric Power Co., Inc.', '1B4S6S7G0TW5EE83BO58', 'US0255371017', 'Electricity Utilities', 'US', 'North America', 'equity', 'USD', 43491855142.0, 15561400000.0, 73417055142.0, 73663855142.0, 71338762000.0, None, None, 2019),\n",
       " ('CARPENTER TECHNOLOGY CORP', 'DX6I6ZD3X5WNNCDJKP85', 'US1442851036', 'Steel', 'US', 'North America', 'equity', 'USD', 1687208892.0, 2380200000.0, 2210808892.0, 2237808892.0, 2996532000.0, None, None, 2019),\n",
       " ('CLEVELAND-CLIFFS INC', '549300TM2WLI2BJMDD86', 'US1858991011', 'Steel', 'US', 'North America', 'equity', 'USD', 2839987963.0, 1989900000.0, 4601187963.0, 4953787963.0, 3293572000.0, None, None, 2019),\n",
       " ('CMS Energy Corp.', '549300IA9XFBAGNIBW29', 'US1258961002', 'Electricity Utilities', 'US', 'North America', 'equity', 'USD', 16352000000.0, 6845000000.0, 28163000000.0, 28303000000.0, 25226780000.0, None, None, 2019),\n",
       " ('COMMERCIAL METALS CO', '549300OQS2LO07ZJ7N73', 'US2017231034', 'Steel', 'US', 'North America', 'equity', 'USD', 1900000000.0, 5829002000.0, 3154921000.0, 3154921000.0, 3533244740.0, None, None, 2019),\n",
       " ('Cleco Partners LP', '5493002H80P81B3HXL31', 'US18551QAA58', 'Electricity Utilities', 'US', 'North America', 'equity', 'USD', 3528768075.0, 1639605000.0, 6659087075.0, 6668864075.0, 7027720120.0, None, None, 2019),\n",
       " ('Consolidated Edison, Inc.', '54930033SBW53OO8T749', 'US2091151041', 'Electricity Utilities', 'US', 'North America', 'equity', 'USD', 29100000000.0, 12574000000.0, 48092000000.0, 49073000000.0, 54594260000.0, None, None, 2019),\n",
       " ('Dominion Energy', 'ILUL7B6Z54MRYCF6H308', 'US25746U1097', 'Electricity Utilities', 'US', 'North America', 'equity', 'USD', 62000000000.0, 16572000000.0, 95658000000.0, 95824000000.0, 97593620000.0, None, None, 2019),\n",
       " ('Duke Energy Corp.', 'I1BZKREC126H0VB1BL91', 'US26441C2044', 'Electricity Utilities', 'US', 'North America', 'equity', 'USD', 64230558771.0, 25079000000.0, 126981558771.0, 127292558771.0, 149307720000.0, None, None, 2019),\n",
       " ('Entergy Corp.', '4XM3TW50JULSLG8BNC79', 'US29364G1031', 'Electricity Utilities', 'US', 'North America', 'equity', 'USD', 20500000000.0, 10878673000.0, 39134228000.0, 39559950000.0, 48620477280.0, None, None, 2019),\n",
       " ('Evergy, Inc.', '549300PGTHDQY6PSUI61', 'US30034W1062', 'Electricity Utilities', 'US', 'North America', 'equity', 'USD', 14138041261.0, 5147800000.0, 22861541261.0, 22884741261.0, 24417346000.0, None, None, 2019),\n",
       " ('Eversource Energy', 'SJ7XXD41SQU3ZNWUJ746', 'US30040W1080', 'Electricity Utilities', 'US', 'North America', 'equity', 'USD', 24486439602.0, 8526470000.0, 38241835602.0, 38257267602.0, 38656480100.0, None, None, 2019),\n",
       " ('GERDAU S.A.', '254900YDV6SEQQPZVG24', 'US3737371050', 'Steel', 'BR', 'Global', 'equity', 'USD', 1912433600.0, 9835514922.96624, 1912433600.0, 1912433600.0, 12594038702.954798, None, None, 2019),\n",
       " ('Hawaiian Electric Industries, Inc.', 'JJ8FWOCWCV22X7GUPJ23', 'US4198701009', 'Electricity Utilities', 'US', 'North America', 'equity', 'USD', 4745752027.0, 2874601000.0, 6513304027.0, 6710117027.0, 12920535940.0, None, None, 2019),\n",
       " ('NextEra Energy, Inc.', 'UMI46YPGBLUE4VGNNT48', 'US65339F1012', 'Electricity Utilities', 'US', 'North America', 'equity', 'USD', 97905404884.0, 19204000000.0, 134848404884.0, 135448404884.0, 110629540000.0, None, None, 2019),\n",
       " ('NIPPON STEEL CORP', '35380065QWQ4U2V3PA33', 'JP3381000003', 'Steel', 'JP', 'Asia', 'equity', 'USD', 8148628613.787991, 54869347664.93699, 33892605633.80282, 31209608969.60712, 64846804114.15863, None, None, 2019),\n",
       " ('Nisource Inc.', '549300D8GOWWH0SJB189', 'US65473P1057', 'Electricity Utilities', 'US', 'North America', 'equity', 'USD', 10713311150.0, 5053400000.0, 19338411150.0, 19477711150.0, 21300212000.0, None, None, 2019),\n",
       " ('Northwestern Corp.', '3BPWMBHR1R9SHUN7J795', 'US6680743050', 'Electricity Utilities', 'US', 'North America', 'equity', 'USD', 3639448000.0, 1257910000.0, 6051117000.0, 6056262000.0, 5556059880.0, None, None, 2019),\n",
       " ('NUCOR CORP', '549300GGJCRSI2TIEJ46', 'US6703461052', 'Steel', 'US', 'North America', 'equity', 'USD', 16580000000.0, 22588858000.0, 19336696000.0, 20871301000.0, 17243986040.0, None, None, 2019),\n",
       " ('PG&E Corp.', '8YQ2GSDWYZXO2EDN3511', 'US69331C1080', 'Electricity Utilities', 'US', 'North America', 'equity', 'USD', 12130000000.0, 17129000000.0, 32736000000.0, 34306000000.0, 80084240000.0, None, None, 2019),\n",
       " ('PNM Resources, Inc.', '5493003JOBJGLZSDDQ28', 'US69349H1077', 'Electricity Utilities', 'US', 'North America', 'equity', 'USD', 4055165998.0, 1457603000.0, 6568781998.0, 6572614998.0, 6860847560.0, None, None, 2019),\n",
       " ('POSCO', '988400E5HRVX81AYLM04', 'KR7005490008', 'Steel', 'KR', 'Asia', 'equity', 'USD', 20260000000.0, 55955872344.1009, 20260000000.0, 20260000000.0, 64439937398.5144, None, None, 2019),\n",
       " ('PPL Corp.', '9N3UAJSNOUXFKQLF3V18', 'US69351T1060', 'Electricity Utilities', 'US', 'North America', 'equity', 'USD', 22384264788.0, 7769000000.0, 43462264788.0, 44277264788.0, 42939200000.0, None, None, 2019),\n",
       " ('Pinnacle West Capital Corp.', 'TWSEY0NEDUDCKS27AH81', 'US7234841010', 'Electricity Utilities', 'US', 'North America', 'equity', 'USD', 10536165750.0, 3471209000.0, 16720274750.0, 16730557750.0, 17370492180.0, None, None, 2019),\n",
       " ('Portland General Electric Co.', 'GJOUP9M7C39GLSK9R870', 'US7365088472', 'Electricity Utilities', 'US', 'North America', 'equity', 'USD', 4823580272.0, 2123000000.0, 7832580272.0, 7862580272.0, 7890360000.0, None, None, 2019),\n",
       " ('Public Service Enterprise Group', 'PUSS41EMO3E6XXNV3U28', 'US7445731067', 'Electricity Utilities', 'US', 'North America', 'equity', 'USD', 29513402185.0, 10076000000.0, 46089402185.0, 46236402185.0, 44866200000.0, None, None, 2019),\n",
       " ('Sempra', 'PBBKGKLRK5S5C0Y4T545', 'US8168511090', 'Electricity Utilities', 'US', 'North America', 'equity', 'USD', 37700000000.0, 10829000000.0, 58377000000.0, 58485000000.0, 61725100000.0, None, None, 2019),\n",
       " ('Southern Co.', '549300FC3G3YU2FBZD92', 'US8425871071', 'Electricity Utilities', 'US', 'North America', 'equity', 'USD', 57800000000.0, 21419000000.0, 97623000000.0, 99598000000.0, 111578000000.0, None, None, 2019),\n",
       " ('STEEL DYNAMICS INC', '549300HGGKEL4FYTTQ83', 'US8581191009', 'Steel', 'US', 'North America', 'equity', 'USD', 5000000000.0, 10464991000.0, 6352884000.0, 7734344000.0, 7779219100.0, None, None, 2019),\n",
       " ('TENARIS SA', '549300Y7C05BKC4HZB40', 'US88031M1099', 'Steel', 'LU', 'Europe', 'equity', 'USD', 590000000.0, 7294055000.0, 590000000.0, 590000000.0, 13952411540.0, None, None, 2019),\n",
       " ('TERNIUM S.A.', '529900QG4KU23TEI2E46', 'US8808901081', 'Steel', 'LU', 'Europe', 'equity', 'USD', 352130000.0, 10192818000.0, 352130000.0, 352130000.0, 12159401020.0, None, None, 2019),\n",
       " ('TIMKENSTEEL CORP', '549300QZTZWHDE9HJL14', 'US8873991033', 'Steel', 'US', 'North America', 'equity', 'USD', 337525844.0, 1208800000.0, 400425844.0, 427525844.0, 1020088000.0, None, None, 2019),\n",
       " ('UNITED STATES STEEL CORP', 'JNLUVFYJT1OZSIQ24U47', 'US9129091081', 'Steel', 'US', 'North America', 'equity', 'USD', 2600000000.0, 12937000000.0, 5630000000.0, 6379000000.0, 10911520000.0, None, None, 2019),\n",
       " ('Versant Power', 'NQZVQT2P5IUF2PGA1Q48', 'CA2908761018', 'Electricity Utilities', 'CA', 'North America', 'equity', 'USD', 34359400000.0, 4691120536.86526, 37551600000.0, 37870200000.0, 22976956394.497074, None, None, 2019),\n",
       " ('WEC Energy Group', '549300IGLYTZUK3PVP70', 'US92939U1060', 'Electricity Utilities', 'US', 'North America', 'equity', 'USD', 26300000000.0, 7523100000.0, 38120800000.0, 38158300000.0, 32854692000.0, None, None, 2019),\n",
       " ('WORTHINGTON INDUSTRIES INC', '1WRCIANKYOIK6KYE5E82', 'US9818111026', 'Steel', 'US', 'North America', 'equity', 'USD', 1633376617.0, 3759556000.0, 2294113617.0, 2386476617.0, 2360148240.0, None, None, 2019),\n",
       " ('Xcel Energy, Inc.', 'LGJNMI9GH8XIDG5RCM61', 'US98389B1008', 'Electricity Utilities', 'US', 'North America', 'equity', 'USD', 30629347167.0, 11529000000.0, 50608347167.0, 50856347167.0, 47421120000.0, None, None, 2019),\n",
       " ('TC Energy Corp.', '549300UGKOFV2IWJJG27', 'CA87807B1076+Electricity Utilities', 'Electricity Utilities', 'CA', 'North America', 'equity', 'USD', 50030000000.0, 10175225448.5598, 50030000000.0, 50030000000.0, 71639006780.01633, None, None, 2019),\n",
       " ('Ameren Corp.', 'XRZQ5S7HYJFPHJ78L959', 'US0236081024+Electricity Utilities', 'Electricity Utilities', 'US', 'North America', 'equity', 'USD', 18378774986.0, 5910000000.0, 27804774986.0, 27820774986.0, 27197020000.0, None, None, 2019),\n",
       " ('MDU Resources Group', '0T6SBMK3JTBI1JR36794', 'US5526901096+Electricity Utilities', 'Electricity Utilities', 'US', 'North America', 'equity', 'USD', 5134204876.0, 5336776000.0, 7310852876.0, 7377311876.0, 7222075460.0, None, None, 2019),\n",
       " ('National Grid PLC', '8R95QZMKZLJX5Q2XR704', 'US6362744095+Electricity Utilities', 'Electricity Utilities', 'GB', 'Europe', 'equity', 'USD', 40783780623.597, 19393506493.5065, 40783780623.597, 40783780623.597, 76863922077.9221, None, None, 2019),\n",
       " ('TC Energy Corp.', '549300UGKOFV2IWJJG27', 'CA87807B1076+Gas', 'Gas', 'CA', 'North America', 'equity', 'USD', 50030000000.0, 10175225448.5598, 50030000000.0, 50030000000.0, 71639006780.01633, None, None, 2019),\n",
       " ('Ameren Corp.', 'XRZQ5S7HYJFPHJ78L959', 'US0236081024+Gas Utilities', 'Gas Utilities', 'US', 'North America', 'equity', 'USD', 18378774986.0, 5910000000.0, 27804774986.0, 27820774986.0, 27197020000.0, None, None, 2019),\n",
       " ('MDU Resources Group', '0T6SBMK3JTBI1JR36794', 'US5526901096+Gas Utilities', 'Gas Utilities', 'US', 'North America', 'equity', 'USD', 5134204876.0, 5336776000.0, 7310852876.0, 7377311876.0, 7222075460.0, None, None, 2019),\n",
       " ('National Grid PLC', '8R95QZMKZLJX5Q2XR704', 'US6362744095+Gas Utilities', 'Gas Utilities', 'GB', 'Europe', 'equity', 'USD', 40783780623.597, 19393506493.5065, 40783780623.597, 40783780623.597, 76863922077.9221, None, None, 2019),\n",
       " ('TC Energy Corp.', '549300UGKOFV2IWJJG27', 'CA87807B1076+Oil', 'Oil', 'CA', 'North America', 'equity', 'USD', 50030000000.0, 10175225448.5598, 50030000000.0, 50030000000.0, 71639006780.01633, None, None, 2019),\n",
       " ('AES Corp.', '2NUNNB7D43COUIRE5295', 'US00130H1059', 'Electricity Utilities', 'US', 'North America', 'equity', 'USD', 9420000000.0, 10189000000.0, 8652000000.0, 9681000000.0, 31629120000.0, None, None, 2020),\n",
       " ('Black Hills Corp.', '3MGELCRSTNSAMJ962671', 'US0921131092', 'Electricity Utilities', 'US', 'North America', 'equity', 'USD', 3528768075.0, 1734900000.0, 6659087075.0, 6668864075.0, 7104949580.0, None, None, 2020),\n",
       " ('Enel Americas S.A.', '549300LKH11TFCJLZK20', 'US29274F1049', 'Electricity Utilities', 'CL', 'Global', 'equity', 'USD', 8105859000.0, 12064489000.0, 11943556000.0, 13593042000.0, 25317544520.0, None, None, 2020),\n",
       " ('Exelon Corp.', '3SOUA6IRML7435B56G12', 'US30161N1019', 'Electricity Utilities', 'US', 'North America', 'equity', 'USD', 35402501369.0, 34438000000.0, 66144501369.0, 66731501369.0, 117478380000.0, None, None, 2020),\n",
       " ('ExxonMobil', 'J3WHBG0MTS7O8ZVMDC91', 'US30231G1022', 'Energy', 'US', 'North America', 'equity', 'USD', 174280000000.0, 181502000000.0, 310294000000.0, 314658000000.0, 312785000000.0, None, None, 2020),\n",
       " ('FirstEnergy Corp.', '549300SVYJS666PQJH88', 'US3379321074', 'Electricity Utilities', 'US', 'North America', 'equity', 'USD', 20967401361.0, 11035000000.0, 39958401361.0, 40585401361.0, 39762940000.0, None, None, 2020),\n",
       " ('Fortis, Inc.', '549300MQYQ9Y065XPR71', 'CA3495531079', 'Electricity Utilities', 'CA', 'North America', 'equity', 'USD', 21370500000.0, 6736467578.20735, 21370500000.0, 21370500000.0, 38502681962.175804, None, None, 2020),\n",
       " ('OG&E Energy Corp.', 'CE5OG6JPOZMDSA0LAQ19', 'US6708371033', 'Electricity Utilities', 'US', 'North America', 'equity', 'USD', 6077156282.0, 2231600000.0, 6077156282.0, 6077156282.0, 10362842000.0, None, None, 2020),\n",
       " ('Toyota Motor Corporation', '5493006W3QUS5LMH6R84', 'JP3633400001', 'Autos', 'JP', 'Asia', 'equity', 'USD', 216000000000.0, 251620000000.0, 372000000000.0, 424400000000.0, 455580400000.0, None, None, 2020),\n",
       " ('RWE AG', '529900GB7KCA94ACC940', 'DE0007037129', 'Electricity Utilities', 'DE', 'Europe', 'equity', 'USD', 27350000000.0, 29017000000.0, 16000000000.0, 32404000000.0, 158264040000.0, None, None, 2021),\n",
       " ('TotalEnergies', '529900S21EQ1BO4ESM68', 'FR0000120271', 'Energy', 'FR', 'Europe', 'equity', 'USD', 131650000000.0, 205860000000.0, 140400000000.0, 174057000000.0, 275852400000.0, None, None, 2021),\n",
       " ('Eni S.P.A. - Group', 'BUCRF72VH5RBN7X3VL35', 'IT0003132476', 'Energy', 'IT', 'Europe', 'equity', 'megaEUR', 44519.0, 76575.0, 63095.0, 81325.0, 160113000000.0, None, None, 2021),\n",
       " ('OXY OIL AND GAS', 'IM7X0T3ECJW4C1T7ON55', 'US6745991058-oil', 'Energy', 'US', 'North America', 'equity', 'USD', 27070000000.0, 25956000000.0, 72945000000.0, 75733000000.0, 70533840000.0, None, None, 2021),\n",
       " ('OXY CHEM', 'IM7X0T3ECJW4C1T7ON55', 'US6745991058-chem', 'Chemicals', 'US', 'North America', 'equity', 'USD', 27070000000.0, 25956000000.0, 72945000000.0, 75733000000.0, 70533840000.0, None, None, 2021),\n",
       " ('Avangrid, Inc. (Elec)', '549300OX0Q38NLSKPB49', 'US05351W1036-E', 'Electricity Utilities', 'US', 'North America', 'equity', 'USD', 19310000000.0, 6974000000.0, 25930000000.0, 26341000000.0, 37133760000.0, None, None, 2021),\n",
       " ('Avangrid, Inc. (Util)', '549300OX0Q38NLSKPB49', 'US05351W1036-U', 'Utilities', 'US', 'North America', 'equity', 'USD', 19310000000.0, 6974000000.0, 25930000000.0, 26341000000.0, 37133760000.0, None, None, 2021),\n",
       " ('BMW Group', '549300W77ER6BVTNSK57', 'DE0005190003', 'Autos', 'DE', 'Europe', 'equity', 'USD', 65110000000.0, 122400000000.0, 126440000000.0, 145070000000.0, 215755380000.0, None, None, 2021),\n",
       " ('BP plc', '213800LH1BZH3DI6G760', 'GB0007980591', 'Energy', 'GB', 'Europe', 'equity', 'USD', 88050000000.0, 157730000000.0, 129010000000.0, 162250000000.0, 270035679999.99997, None, None, 2021),\n",
       " ('Chevron Corp', 'VA8TZDWPEZYU430RZ444', 'US1667641005', 'Energy', 'US', 'North America', 'equity', 'USD', 226210000000.0, 162465000000.0, 250506000000.0, 256146000000.0, 225162900000.0, None, None, 2021),\n",
       " ('Electricité de France', '549300X3UK4GG3FNMO06', 'FR0010242511', 'Electricity Utilities', 'FR', 'Europe', 'equity', 'USD', 50211000000.0, 84461000000.0, 83280000000.0, 93199000000.0, 339308040000.0, None, None, 2021),\n",
       " ('Edison International', '549300I7ROF15MAEVP56', 'US2810201077', 'Electricity Utilities', 'US', 'North America', 'equity', 'USD', 25920000000.0, 14905000000.0, 55360000000.0, 55750000000.0, 70260300000.0, None, None, 2021),\n",
       " ('Ford Motor Company', '20S05OYHG0MQM4VUIC57', 'US3453708600', 'Autos', 'US', 'North America', 'equity', 'USD', 83000000000.0, 136300000000.0, 185040000000.0, 205580000000.0, 241612900000.0, None, None, 2021),\n",
       " ('General Motors', '5493001871EE1F4JHK38', 'US3704421052', 'Autos', 'US', 'North America', 'equity', 'USD', 59590000000.0, 122000000000.0, 144100000000.0, 164092000000.0, 221082360000.0, None, None, 2021),\n",
       " ('Iberdrola S.A.', '5QK37QC7NWOJ8D7WVQ45', 'ES0144580Y14', 'Electricity Utilities', 'ES', 'Europe', 'equity', 'USD', 66271000000.0, 39114000000.0, 27152000000.0, 31204000000.0, 133246880000.0, None, None, 2021),\n",
       " ('MARATHON PETROLEUM CORPORATION', '3BNYRYQHD39K4LCKQF12', 'US56585A1025', 'Energy', 'US', 'North America', 'equity', 'USD', 39390000000.0, 119983000000.0, 52590000000.0, 57881000000.0, 80250620000.0, None, None, 2021),\n",
       " ('PETROLEO BRASILEIRO S A PETROBRAS', '5493000J801JZRCMFE49', 'BRPETRACNPR6', 'Energy', 'BR', 'Global', 'equity', 'USD', 69590000000.0, 83970000000.0, 656100000000.0, 756370000000.0, 163560000000.0, None, None, 2021),\n",
       " ('PETROLIAM NASIONAL BERHAD (PETRONAS)', '5493003RZQYJM7QGNE15', 'PETRONAS_SOE', 'Energy', 'MY', 'Asia', 'equity', 'USD', 1.0, 59371200000.0, 1.0, 1.0, 142897860000.0, None, None, 2021),\n",
       " ('Saudi Aramco', '5586006WD91QHB7J4X50', '2222.SR', 'Energy', 'SA', 'Global', 'equity', 'USD', 1908000000000.0, 359460000000.0, 7400000000000.0, 7756460000000.0, 542097999999.99994, None, None, 2021),\n",
       " ('Shell PLC', '21380068P1DRHMJ8KU70', 'GB00BP6MXD84', 'Energy', 'GB', 'Europe', 'equity', 'USD', 89760000000.0, 261500000000.0, 147090000000.0, 186060000000.0, 380116260000.0, None, None, 2021),\n",
       " ('Sinopec', '2138009UNXTD8EYS5M35', 'CN0005789556', 'Energy', 'CN', 'Asia', 'equity', 'USD', 75290000000.0, 401300000000.0, 778290000000.0, 1013240000000.0, 41941982200.0, None, None, 2021),\n",
       " ('SK Innovation', '988400PXP70BWVSJVF07', '096770.SK', 'Energy', 'KR', 'Asia', 'equity', 'USD', 16740000000.0, 40270000000.0, 25217920941.39727, 34470660446.24617, 39186529424.42661, None, None, 2021),\n",
       " ('Tokyo Electric Power Company', '5299004EMJ3R4RVR5Y75', '9501.T', 'Electricity Utilities', 'JP', 'Asia', 'equity', 'USD', 4140000000.0, 461314048710.8158, 39800000000.0, 46035502216.26045, 104940062795.49414, None, None, 2021),\n",
       " ('Tesla', 'EVK05KS7XY1DEII3R011', 'US88160R1014', 'Autos', 'US', 'North America', 'equity', 'USD', 1061000000000.0, 53820000000.0, 1090000000000.0, 1108920000000.0, 58403140000.0, None, None, 2021),\n",
       " ('Verbund AG', '5299006UDSEJCTTEJS30', 'AT0000746409', 'Electricity Utilities', 'AT', 'Europe', 'equity', 'USD', 34359400000.0, 4776600000.0, 37551600000.0, 37870200000.0, 16084904000.0, None, None, 2021),\n",
       " ('Vistra Corp.', '549300KP43CPCUJOOG15', 'US92840M1027', 'Electricity Utilities', 'US', 'North America', 'equity', 'USD', 10980000000.0, 12100000000.0, 24980000000.0, 26890000000.0, 27902020000.0, None, None, 2021),\n",
       " ('Balfour Beatty', 'CT4UIJ3TUKGYYHMENQ17', 'GB0000961622', 'Construction Buildings', 'GB', 'Europe', 'equity', 'USD', 2260000000.0, 9690000000.0, 1810000000.0, 2920000000.0, 4555240000.0, None, None, 2021),\n",
       " ('CBRE', '52990016II9MJ2OSWA10', 'US12504L1098', 'Commercial Buildings', 'US', 'North America', 'equity', 'USD', 36310000000.0, 27740000000.0, 37840000000.0, 39030000000.0, 20748620000.0, None, None, 2021),\n",
       " ('Air Liquide SA', '529900KDAQXRLFTJYL75', 'FR0000120073', 'Petrochem & Plastics', 'France', 'Europe', 'equity', 'EUR', 72871621792.84, 20458000000.0, 91054621792.84, 92890621792.84, 41977000000.0, 1836000000.0, 20019000000.0, 2021),\n",
       " ('Koninklijke DSM NV', None, 'NL0000009827', 'Ag Chem', 'Netherlands', 'Europe', 'equity', 'EUR', 34247808540.0, 9204000000.0, 33700808540.0, 35261808540.0, 16013000000.0, 1561000000.0, 1014000000.0, 2021),\n",
       " ('Givaudan SA', None, 'CH0010645932', 'Consumer Products', 'Switzerland', 'Europe', 'equity', 'CHF', 44247344112.0, 6684000000.0, 48368344112.0, 48641344112.0, 11534200000.0, 273000000.0, 4394000000.0, 2021),\n",
       " ('BASF SE', None, 'DE000BASF111', 'Petrochem & Plastics', 'Germany', 'Europe', 'equity', 'EUR', 56744930000.0, 78598000000.0, 68472930000.0, 71096930000.0, 87383000000.0, 2624000000.0, 14352000000.0, 2021),\n",
       " ('Arkema SA', None, 'FR0010313833', 'Petrochem & Plastics', 'France', 'Europe', 'equity', 'EUR', 9503812552.6, 9519000000.0, 8395812552.6, 10680812552.6, 12301000000.0, 2285000000.0, 1177000000.0, 2021),\n",
       " ('Linde Plc', None, 'IE00BZ12WP82', 'Petrochem & Plastics', 'Ireland', 'Europe', 'equity', 'USD', 176222316911.97, 30793000000.0, 187606316911.97, 190429316911.97, 76708700000.0, 2823000000.0, 14207000000.0, 2021),\n",
       " ('Nolato AB', None, 'SE0015962477', 'Pharmaceuticals', 'Sweden', 'Europe', 'equity', 'SEK', 29065778300.0, 11610000000.0, 29240778300.0, 30688778300.0, 904950000.0, 1448000000.0, 1623000000.0, 2021),\n",
       " ('Synthomer Plc', None, 'GB0009887422', 'Consumer Products', 'Great Britain', 'Europe', 'equity', 'GBP', 169770060000.0, 2329500000.0, 169884260000.0, 170389560000.0, 1730707999.9999998, 505300000.0, 619500000.0, 2021),\n",
       " ('LG H&H Co Ltd', None, 'KR7051900009', 'Consumer Products', 'South Korea', 'Asia', 'equity', 'KRW', 17373080000000.0, 8091500000000.0, 18695959390000.0, 19430480000000.0, 5590848000.0, 734520610000.0, 2057400000000.0, 2021),\n",
       " ('Covestro AG', None, 'DE0006062144', 'Consumer Products', 'Germany', 'Europe', 'equity', 'EUR', 10471440000.0, 15903000000.0, 12329440000.0, 12978440000.0, 15571000000.0, 649000000.0, 2507000000.0, 2021),\n",
       " ('Inter Parfums Inc', None, 'FR0004024222', 'Consumer Products', 'France', 'Europe', 'equity', 'EUR', 4203262801.5, 560827000.0, 4224261801.5, 4481945801.5, 822012000.0, 257684000.0, 278683000.0, 2021),\n",
       " ('Borregaard ASA', None, 'NO0010657505', 'Fiber & Rubber', 'Norway', 'Europe', 'equity', 'NOK', 22108000000.0, 5805000000.0, 23528000000.0, 23652000000.0, 687936000.0, 124000000.0, 1544000000.0, 2021),\n",
       " ('Symrise AG', None, 'DE000SYM9999', 'Consumer Products', 'Germany', 'Europe', 'equity', 'EUR', 18212300000.0, 3825700000.0, 19105411000.0, 19559219000.0, 6642738000.0, 453808000.0, 1346919000.0, 2021),\n",
       " ('Tokai Carbon Co Ltd', None, 'JP3560800009', 'Consumer Products', 'Japan', 'Asia', 'equity', 'JPY', 271730000000.0, 258874000000.0, 380295000000.0, 444730000000.0, 1821647000.0, 64435000000.0, 173000000000.0, 2021),\n",
       " ('LG Chem Ltd', None, 'KR7051910008', 'Petrochem & Plastics', 'South Korea', 'Asia', 'equity', 'KRW', 46000000000000.0, 42655000000000.0, 64837454000000.0, 68598454000000.0, 37839900000.0, 3761000000000.0, 22598454000000.0, 2021),\n",
       " ('Shiseido Co Ltd', None, 'JP3351600006', 'Consumer Products', 'Japan', 'Asia', 'equity', 'JPY', 2562655974000.0, 1035165000000.0, 2597134974000.0, 2753637974000.0, 8373456000.000001, 156503000000.0, 190982000000.0, 2021),\n",
       " ('CRH Plc', '549300MIDJNNTH068E74', 'IE0001827041', 'Cement', 'Ireland', 'Europe', 'equity', 'USD', 41553600000.0, 30981000000.0, 47806600000.0, 53589600000.0, 41989800000.0, 5783000000.0, 12036000000.0, 2021),\n",
       " ('Breedon Group Plc', '213800ZQKCIVCPN9H229', 'JE00B2419D89', 'Cement', 'UK', 'Great Britain', 'equity', 'GBP', 1603830850.0, 1232500000.0, 1816330850.0, 1900230850.0, 1886534999.9999998, 83900000.0, 296400000.0, 2021),\n",
       " ('Holcim AG', '529900M5G5HGXW4Z4S17', 'CH0012214059', 'Cement', 'Switzerland', 'Europe', 'equity', 'CHF', 28388428932.0, 26834000000.0, 38678428932.0, 45293428932.0, 60483850000.0, 6615000000.0, 16905000000.0, 2021),\n",
       " ('Siam Cement PCL, The', '529900SEH9QK8ZZDCQ89', 'TH0003010Z04', 'Cement', 'Thailand', 'Asia', 'equity', 'THB', 463200000000.0, 530112000000.0, 838300000000.0, 874293000000.0, 24110828000.0, 35993000000.0, 411093000000.0, 2021),\n",
       " ('HeidelbergCement AG', 'LZ2C6E0W5W7LQMX5ZI37', 'DE0006047004', 'Cement', 'Germany', 'Europe', 'equity', 'EUR', 11266087564.06, 18720000000.0, 9929587564.06, 13044687564.06, 33710900000.0, 3115100000.0, 1778600000.0, 2021),\n",
       " ('Martin Marietta Materials Inc', '5299005MZ4WZECVATV08', 'US5732841060', 'Cement', 'US', 'North America', 'equity', 'USD', 27560000000.0, 5414000000.0, 27560000000.0, 27560000000.0, 13529420000.0, None, None, 2021),\n",
       " ('Vulcan Materials Co', '549300Q8LSNHAVWBNI21', 'US9291601097', 'Cement', 'US', 'North America', 'equity', 'USD', 27565020444.5, 5552200000.0, 31742020444.5, 31983520444.5, 12861644000.0, 241500000.0, 4418500000.0, 2021),\n",
       " ('Asia Cement Corp', '213800EFQXH43HMGJL59', 'TW0001102002', 'Cement', 'Taiwan', 'Asia', 'equity', 'TWD', 131362852.0, 89654713000.0, 68450222852.0, 73721617852.0, 7146032518.0, 5271395000.0, 73590255000.0, 2021),\n",
       " ('Cemex SAB de CV', '549300RIG2CXWN6IV731', 'US1512908898', 'Cement', 'Mexico', 'North America', 'equity', 'USD', 299158374.12, 14548000000.0, 16065158374.12, 16678158374.12, 25051000000.0, 613000000.0, 16379000000.0, 2021),\n",
       " ('Shin-Etsu Chemical Co Ltd', None, 'JP3371200001', 'Petrochem & Plastics', 'Japan', 'Asia', 'equity', 'JPY', 78291000000000.0, 2074400000000.0, 77321032000000.0, 78329957000000.0, 28779225200.0, 1008925000000.0, 38957000000.0, 2022),\n",
       " ('Summit Materials Inc', '549300XNOLX5GIOSO108', 'US86614U1007', 'Cement', 'US', 'North America', 'equity', 'USD', 4798689835.5, 2230000000.0, 1850728100.0, 2231689100.0, 4069377500.0, 380961000.0, 1689100.0, 2022)]"
      ]
     },
     "execution_count": 22,
     "metadata": {},
     "output_type": "execute_result"
    }
   ],
   "source": [
    "osc._do_sql(f\"select * from {ingest_schema}.{itr_prefix}company_data\", engine_quant, verbose=False)"
   ]
  },
  {
   "cell_type": "code",
   "execution_count": null,
   "id": "96697928-5b47-4e5a-955c-5892f2311535",
   "metadata": {},
   "outputs": [],
   "source": []
  }
 ],
 "metadata": {
  "kernelspec": {
   "display_name": "Python 3 (ipykernel)",
   "language": "python",
   "name": "python3"
  },
  "language_info": {
   "codemirror_mode": {
    "name": "ipython",
    "version": 3
   },
   "file_extension": ".py",
   "mimetype": "text/x-python",
   "name": "python",
   "nbconvert_exporter": "python",
   "pygments_lexer": "ipython3",
   "version": "3.8.8"
  }
 },
 "nbformat": 4,
 "nbformat_minor": 5
}
